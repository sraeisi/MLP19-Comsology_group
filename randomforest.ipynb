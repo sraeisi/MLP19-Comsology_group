{
 "cells": [
  {
   "cell_type": "code",
   "execution_count": 1,
   "metadata": {},
   "outputs": [
    {
     "name": "stdout",
     "output_type": "stream",
     "text": [
      "C:\\Users\\zahra\\Desktop\n"
     ]
    }
   ],
   "source": [
    "cd \"C:\\Users\\zahra\\Desktop\"\n"
   ]
  },
  {
   "cell_type": "code",
   "execution_count": 2,
   "metadata": {},
   "outputs": [
    {
     "data": {
      "text/html": [
       "<div>\n",
       "<style scoped>\n",
       "    .dataframe tbody tr th:only-of-type {\n",
       "        vertical-align: middle;\n",
       "    }\n",
       "\n",
       "    .dataframe tbody tr th {\n",
       "        vertical-align: top;\n",
       "    }\n",
       "\n",
       "    .dataframe thead th {\n",
       "        text-align: right;\n",
       "    }\n",
       "</style>\n",
       "<table border=\"1\" class=\"dataframe\">\n",
       "  <thead>\n",
       "    <tr style=\"text-align: right;\">\n",
       "      <th></th>\n",
       "      <th>X_coordinate</th>\n",
       "      <th>Y_coordinate</th>\n",
       "      <th>Z_coordinate</th>\n",
       "    </tr>\n",
       "  </thead>\n",
       "  <tbody>\n",
       "    <tr>\n",
       "      <th>0</th>\n",
       "      <td>900.425293</td>\n",
       "      <td>26286.689453</td>\n",
       "      <td>18321.949219</td>\n",
       "    </tr>\n",
       "    <tr>\n",
       "      <th>1</th>\n",
       "      <td>181.120392</td>\n",
       "      <td>24638.792969</td>\n",
       "      <td>16896.896484</td>\n",
       "    </tr>\n",
       "    <tr>\n",
       "      <th>2</th>\n",
       "      <td>826.923584</td>\n",
       "      <td>26747.314453</td>\n",
       "      <td>17363.390625</td>\n",
       "    </tr>\n",
       "    <tr>\n",
       "      <th>3</th>\n",
       "      <td>1492.193726</td>\n",
       "      <td>26514.935547</td>\n",
       "      <td>19381.691406</td>\n",
       "    </tr>\n",
       "    <tr>\n",
       "      <th>4</th>\n",
       "      <td>839.730957</td>\n",
       "      <td>26543.013672</td>\n",
       "      <td>15552.993164</td>\n",
       "    </tr>\n",
       "    <tr>\n",
       "      <th>5</th>\n",
       "      <td>267.409637</td>\n",
       "      <td>26475.843750</td>\n",
       "      <td>15855.078125</td>\n",
       "    </tr>\n",
       "    <tr>\n",
       "      <th>6</th>\n",
       "      <td>963.795166</td>\n",
       "      <td>26495.972656</td>\n",
       "      <td>17794.994141</td>\n",
       "    </tr>\n",
       "    <tr>\n",
       "      <th>7</th>\n",
       "      <td>1171.580200</td>\n",
       "      <td>26447.220703</td>\n",
       "      <td>18336.576172</td>\n",
       "    </tr>\n",
       "    <tr>\n",
       "      <th>8</th>\n",
       "      <td>74993.562500</td>\n",
       "      <td>24189.980469</td>\n",
       "      <td>16774.009766</td>\n",
       "    </tr>\n",
       "    <tr>\n",
       "      <th>9</th>\n",
       "      <td>1632.506470</td>\n",
       "      <td>25474.320312</td>\n",
       "      <td>18378.683594</td>\n",
       "    </tr>\n",
       "  </tbody>\n",
       "</table>\n",
       "</div>"
      ],
      "text/plain": [
       "   X_coordinate  Y_coordinate  Z_coordinate\n",
       "0    900.425293  26286.689453  18321.949219\n",
       "1    181.120392  24638.792969  16896.896484\n",
       "2    826.923584  26747.314453  17363.390625\n",
       "3   1492.193726  26514.935547  19381.691406\n",
       "4    839.730957  26543.013672  15552.993164\n",
       "5    267.409637  26475.843750  15855.078125\n",
       "6    963.795166  26495.972656  17794.994141\n",
       "7   1171.580200  26447.220703  18336.576172\n",
       "8  74993.562500  24189.980469  16774.009766\n",
       "9   1632.506470  25474.320312  18378.683594"
      ]
     },
     "execution_count": 2,
     "metadata": {},
     "output_type": "execute_result"
    }
   ],
   "source": [
    "import h5py\n",
    "import numpy as np\n",
    "import pandas as pd\n",
    "f = h5py.File('groups_135.Subhalo.SubhaloPos.hdf5' , 'r') #data includes galaxy position in simulation box for 135th snapshot\n",
    "head_subhalo = f['Subhalo']\n",
    "data_subhalo = head_subhalo['SubhaloPos']\n",
    "X_pos_subhalo = data_subhalo[:,0]\n",
    "Y_pos_subhalo = data_subhalo[:,1]\n",
    "Z_pos_subhalo = data_subhalo[:,2]\n",
    "a = pd.DataFrame(data_subhalo[:,:] , columns = 'X_coordinate Y_coordinate Z_coordinate'.split()) #converting hdf5 to pandas dataframe\n",
    "a.head(10)\n",
    "\n"
   ]
  },
  {
   "cell_type": "code",
   "execution_count": 3,
   "metadata": {},
   "outputs": [
    {
     "data": {
      "text/html": [
       "<div>\n",
       "<style scoped>\n",
       "    .dataframe tbody tr th:only-of-type {\n",
       "        vertical-align: middle;\n",
       "    }\n",
       "\n",
       "    .dataframe tbody tr th {\n",
       "        vertical-align: top;\n",
       "    }\n",
       "\n",
       "    .dataframe thead th {\n",
       "        text-align: right;\n",
       "    }\n",
       "</style>\n",
       "<table border=\"1\" class=\"dataframe\">\n",
       "  <thead>\n",
       "    <tr style=\"text-align: right;\">\n",
       "      <th></th>\n",
       "      <th>x</th>\n",
       "      <th>y</th>\n",
       "      <th>z</th>\n",
       "    </tr>\n",
       "  </thead>\n",
       "  <tbody>\n",
       "    <tr>\n",
       "      <th>0</th>\n",
       "      <td>900.425293</td>\n",
       "      <td>26286.689453</td>\n",
       "      <td>18321.949219</td>\n",
       "    </tr>\n",
       "    <tr>\n",
       "      <th>1</th>\n",
       "      <td>181.120392</td>\n",
       "      <td>24638.792969</td>\n",
       "      <td>16896.896484</td>\n",
       "    </tr>\n",
       "    <tr>\n",
       "      <th>2</th>\n",
       "      <td>826.923584</td>\n",
       "      <td>26747.314453</td>\n",
       "      <td>17363.390625</td>\n",
       "    </tr>\n",
       "    <tr>\n",
       "      <th>3</th>\n",
       "      <td>1492.193726</td>\n",
       "      <td>26514.935547</td>\n",
       "      <td>19381.691406</td>\n",
       "    </tr>\n",
       "    <tr>\n",
       "      <th>4</th>\n",
       "      <td>839.730957</td>\n",
       "      <td>26543.013672</td>\n",
       "      <td>15552.993164</td>\n",
       "    </tr>\n",
       "    <tr>\n",
       "      <th>5</th>\n",
       "      <td>267.409637</td>\n",
       "      <td>26475.843750</td>\n",
       "      <td>15855.078125</td>\n",
       "    </tr>\n",
       "    <tr>\n",
       "      <th>6</th>\n",
       "      <td>963.795166</td>\n",
       "      <td>26495.972656</td>\n",
       "      <td>17794.994141</td>\n",
       "    </tr>\n",
       "    <tr>\n",
       "      <th>7</th>\n",
       "      <td>1171.580200</td>\n",
       "      <td>26447.220703</td>\n",
       "      <td>18336.576172</td>\n",
       "    </tr>\n",
       "    <tr>\n",
       "      <th>8</th>\n",
       "      <td>74993.562500</td>\n",
       "      <td>24189.980469</td>\n",
       "      <td>16774.009766</td>\n",
       "    </tr>\n",
       "    <tr>\n",
       "      <th>9</th>\n",
       "      <td>1632.506470</td>\n",
       "      <td>25474.320312</td>\n",
       "      <td>18378.683594</td>\n",
       "    </tr>\n",
       "  </tbody>\n",
       "</table>\n",
       "</div>"
      ],
      "text/plain": [
       "              x             y             z\n",
       "0    900.425293  26286.689453  18321.949219\n",
       "1    181.120392  24638.792969  16896.896484\n",
       "2    826.923584  26747.314453  17363.390625\n",
       "3   1492.193726  26514.935547  19381.691406\n",
       "4    839.730957  26543.013672  15552.993164\n",
       "5    267.409637  26475.843750  15855.078125\n",
       "6    963.795166  26495.972656  17794.994141\n",
       "7   1171.580200  26447.220703  18336.576172\n",
       "8  74993.562500  24189.980469  16774.009766\n",
       "9   1632.506470  25474.320312  18378.683594"
      ]
     },
     "execution_count": 3,
     "metadata": {},
     "output_type": "execute_result"
    }
   ],
   "source": [
    "import h5py\n",
    "import numpy as np\n",
    "import pandas as pd\n",
    "f = h5py.File('groups_135.Subhalo.SubhaloPos.hdf5' , 'r') #data includes galaxy position in simulation box for 135th snapshot\n",
    "head_subhalo = f['Subhalo']\n",
    "data_subhalo = np.array(head_subhalo['SubhaloPos'])\n",
    "position = pd.DataFrame(data_subhalo)\n",
    "position.columns = ['x' , 'y' , 'z']\n",
    "position.head(10)\n"
   ]
  },
  {
   "cell_type": "code",
   "execution_count": 4,
   "metadata": {},
   "outputs": [
    {
     "data": {
      "text/html": [
       "<div>\n",
       "<style scoped>\n",
       "    .dataframe tbody tr th:only-of-type {\n",
       "        vertical-align: middle;\n",
       "    }\n",
       "\n",
       "    .dataframe tbody tr th {\n",
       "        vertical-align: top;\n",
       "    }\n",
       "\n",
       "    .dataframe thead th {\n",
       "        text-align: right;\n",
       "    }\n",
       "</style>\n",
       "<table border=\"1\" class=\"dataframe\">\n",
       "  <thead>\n",
       "    <tr style=\"text-align: right;\">\n",
       "      <th></th>\n",
       "      <th>x</th>\n",
       "      <th>y</th>\n",
       "      <th>z</th>\n",
       "      <th>x_b</th>\n",
       "      <th>y_b</th>\n",
       "      <th>z_b</th>\n",
       "      <th>c</th>\n",
       "    </tr>\n",
       "  </thead>\n",
       "  <tbody>\n",
       "    <tr>\n",
       "      <th>0</th>\n",
       "      <td>900.425293</td>\n",
       "      <td>26286.689453</td>\n",
       "      <td>18321.949219</td>\n",
       "      <td>1</td>\n",
       "      <td>35</td>\n",
       "      <td>24</td>\n",
       "      <td>1</td>\n",
       "    </tr>\n",
       "    <tr>\n",
       "      <th>1</th>\n",
       "      <td>181.120392</td>\n",
       "      <td>24638.792969</td>\n",
       "      <td>16896.896484</td>\n",
       "      <td>0</td>\n",
       "      <td>32</td>\n",
       "      <td>22</td>\n",
       "      <td>1</td>\n",
       "    </tr>\n",
       "    <tr>\n",
       "      <th>2</th>\n",
       "      <td>826.923584</td>\n",
       "      <td>26747.314453</td>\n",
       "      <td>17363.390625</td>\n",
       "      <td>1</td>\n",
       "      <td>35</td>\n",
       "      <td>23</td>\n",
       "      <td>1</td>\n",
       "    </tr>\n",
       "    <tr>\n",
       "      <th>3</th>\n",
       "      <td>1492.193726</td>\n",
       "      <td>26514.935547</td>\n",
       "      <td>19381.691406</td>\n",
       "      <td>1</td>\n",
       "      <td>35</td>\n",
       "      <td>25</td>\n",
       "      <td>1</td>\n",
       "    </tr>\n",
       "    <tr>\n",
       "      <th>4</th>\n",
       "      <td>839.730957</td>\n",
       "      <td>26543.013672</td>\n",
       "      <td>15552.993164</td>\n",
       "      <td>1</td>\n",
       "      <td>35</td>\n",
       "      <td>20</td>\n",
       "      <td>1</td>\n",
       "    </tr>\n",
       "    <tr>\n",
       "      <th>5</th>\n",
       "      <td>267.409637</td>\n",
       "      <td>26475.843750</td>\n",
       "      <td>15855.078125</td>\n",
       "      <td>0</td>\n",
       "      <td>35</td>\n",
       "      <td>21</td>\n",
       "      <td>1</td>\n",
       "    </tr>\n",
       "    <tr>\n",
       "      <th>6</th>\n",
       "      <td>963.795166</td>\n",
       "      <td>26495.972656</td>\n",
       "      <td>17794.994141</td>\n",
       "      <td>1</td>\n",
       "      <td>35</td>\n",
       "      <td>23</td>\n",
       "      <td>1</td>\n",
       "    </tr>\n",
       "    <tr>\n",
       "      <th>7</th>\n",
       "      <td>1171.580200</td>\n",
       "      <td>26447.220703</td>\n",
       "      <td>18336.576172</td>\n",
       "      <td>1</td>\n",
       "      <td>35</td>\n",
       "      <td>24</td>\n",
       "      <td>1</td>\n",
       "    </tr>\n",
       "    <tr>\n",
       "      <th>8</th>\n",
       "      <td>74993.562500</td>\n",
       "      <td>24189.980469</td>\n",
       "      <td>16774.009766</td>\n",
       "      <td>99</td>\n",
       "      <td>32</td>\n",
       "      <td>22</td>\n",
       "      <td>1</td>\n",
       "    </tr>\n",
       "    <tr>\n",
       "      <th>9</th>\n",
       "      <td>1632.506470</td>\n",
       "      <td>25474.320312</td>\n",
       "      <td>18378.683594</td>\n",
       "      <td>2</td>\n",
       "      <td>33</td>\n",
       "      <td>24</td>\n",
       "      <td>1</td>\n",
       "    </tr>\n",
       "  </tbody>\n",
       "</table>\n",
       "</div>"
      ],
      "text/plain": [
       "              x             y             z  x_b  y_b  z_b  c\n",
       "0    900.425293  26286.689453  18321.949219    1   35   24  1\n",
       "1    181.120392  24638.792969  16896.896484    0   32   22  1\n",
       "2    826.923584  26747.314453  17363.390625    1   35   23  1\n",
       "3   1492.193726  26514.935547  19381.691406    1   35   25  1\n",
       "4    839.730957  26543.013672  15552.993164    1   35   20  1\n",
       "5    267.409637  26475.843750  15855.078125    0   35   21  1\n",
       "6    963.795166  26495.972656  17794.994141    1   35   23  1\n",
       "7   1171.580200  26447.220703  18336.576172    1   35   24  1\n",
       "8  74993.562500  24189.980469  16774.009766   99   32   22  1\n",
       "9   1632.506470  25474.320312  18378.683594    2   33   24  1"
      ]
     },
     "execution_count": 4,
     "metadata": {},
     "output_type": "execute_result"
    }
   ],
   "source": [
    "def process(position):\n",
    "    position['x_b'] = np.floor(position['x']/(75000/100))\n",
    "    position['y_b'] = np.floor(position['y']/(75000/100))\n",
    "    position['z_b'] = np.floor(position['z']/(75000/100))\n",
    "    position['x_b'] = position['x_b'].astype(int)\n",
    "    position['y_b'] = position['y_b'].astype(int)\n",
    "    position['z_b'] = position['z_b'].astype(int)\n",
    "    \n",
    "    \n",
    "    return position\n",
    "    \n",
    "position = process(position)\n",
    "position['c'] = 1\n",
    "position.head(10)"
   ]
  },
  {
   "cell_type": "code",
   "execution_count": 5,
   "metadata": {},
   "outputs": [
    {
     "name": "stdout",
     "output_type": "stream",
     "text": [
      "(121209, 7)\n",
      "(73908, 4)\n"
     ]
    }
   ],
   "source": [
    "counts = position.groupby(['x_b' , 'y_b' , 'z_b'])['c'].count().reset_index(name = \"count\")\n",
    "counts.head(180)\n",
    "print(position.shape)\n",
    "print(counts.shape)"
   ]
  },
  {
   "cell_type": "code",
   "execution_count": 6,
   "metadata": {},
   "outputs": [
    {
     "name": "stdout",
     "output_type": "stream",
     "text": [
      "(100, 100, 100)\n"
     ]
    }
   ],
   "source": [
    "def dataframe_to_array(data , shape):\n",
    "    ids = np.ravel_multi_index(data[['x_b' , 'y_b' , 'z_b']].values.T , shape)\n",
    "    val = data['count'].values\n",
    "    return np.bincount(ids , val , minlength = np.prod(shape)).reshape(shape)\n",
    "arr_subhalo = dataframe_to_array(counts , (100,100,100))\n",
    "\n",
    "print(arr_subhalo.shape)\n"
   ]
  },
  {
   "cell_type": "code",
   "execution_count": 7,
   "metadata": {},
   "outputs": [
    {
     "name": "stdout",
     "output_type": "stream",
     "text": [
      "C:\\Users\\zahra\\Desktop\n"
     ]
    }
   ],
   "source": [
    "cd \"C:\\Users\\zahra\\Desktop\""
   ]
  },
  {
   "cell_type": "code",
   "execution_count": 8,
   "metadata": {},
   "outputs": [],
   "source": [
    "import h5py    #data includes dark matter position in simulation box. goal of the project is mapping between darkmatter position and galaxy position \n",
    "import numpy as np\n",
    "#we have 8 hdf5 files. we upload it and then merge it\n",
    "f = h5py.File('new1.h5' , 'r')\n",
    "head = f['DM']\n",
    "data = head['Coordinates0']\n",
    "X_pos_0 = data[:,0]\n",
    "Y_pos_0 = data[:,1]\n",
    "Z_pos_0 = data[:,2]\n",
    "\n",
    "data = head['Coordinates1']\n",
    "X_pos_1 = data[:,0]\n",
    "Y_pos_1 = data[:,1]\n",
    "Z_pos_1 = data[:,2]\n",
    "\n",
    "data = head['Coordinates2']\n",
    "X_pos_2 = data[:,0]\n",
    "Y_pos_2 = data[:,1]\n",
    "Z_pos_2 = data[:,2]\n",
    "\n",
    "data = head['Coordinates3']\n",
    "X_pos_3 = data[:,0]\n",
    "Y_pos_3 = data[:,1]\n",
    "Z_pos_3 = data[:,2]\n",
    "\n",
    "data = head['Coordinates4']\n",
    "X_pos_4 = data[:,0]\n",
    "Y_pos_4 = data[:,1]\n",
    "Z_pos_4 = data[:,2]\n",
    "\n",
    "data = head['Coordinates5']\n",
    "X_pos_5 = data[:,0]\n",
    "Y_pos_5 = data[:,1]\n",
    "Z_pos_5 = data[:,2]\n",
    "\n",
    "data = head['Coordinates6']\n",
    "X_pos_6 = data[:,0]\n",
    "Y_pos_6 = data[:,1]\n",
    "Z_pos_6 = data[:,2]\n",
    "\n",
    "data = head['Coordinates7']\n",
    "X_pos_7 = data[:,0]\n",
    "Y_pos_7 = data[:,1]\n",
    "Z_pos_7 = data[:,2]\n",
    "\n",
    "\n"
   ]
  },
  {
   "cell_type": "code",
   "execution_count": 9,
   "metadata": {},
   "outputs": [],
   "source": [
    "#merging hdf5 files\n",
    "X_pos = np.hstack((X_pos_0,X_pos_1,X_pos_2,X_pos_3,X_pos_4,X_pos_5,X_pos_6,X_pos_7))\n",
    "Y_pos = np.hstack((Y_pos_0,Y_pos_1,Y_pos_2,Y_pos_3,Y_pos_4,Y_pos_5,Y_pos_6,Y_pos_7))\n",
    "Z_pos = np.hstack((Z_pos_0,Z_pos_1,Z_pos_2,Z_pos_3,Z_pos_4,Z_pos_5,Z_pos_6,Z_pos_7))\n",
    "\n",
    "\n"
   ]
  },
  {
   "cell_type": "code",
   "execution_count": 10,
   "metadata": {},
   "outputs": [
    {
     "data": {
      "text/html": [
       "<div>\n",
       "<style scoped>\n",
       "    .dataframe tbody tr th:only-of-type {\n",
       "        vertical-align: middle;\n",
       "    }\n",
       "\n",
       "    .dataframe tbody tr th {\n",
       "        vertical-align: top;\n",
       "    }\n",
       "\n",
       "    .dataframe thead th {\n",
       "        text-align: right;\n",
       "    }\n",
       "</style>\n",
       "<table border=\"1\" class=\"dataframe\">\n",
       "  <thead>\n",
       "    <tr style=\"text-align: right;\">\n",
       "      <th></th>\n",
       "      <th>X</th>\n",
       "      <th>Y</th>\n",
       "      <th>Z</th>\n",
       "    </tr>\n",
       "  </thead>\n",
       "  <tbody>\n",
       "    <tr>\n",
       "      <th>0</th>\n",
       "      <td>860.278625</td>\n",
       "      <td>26320.939453</td>\n",
       "      <td>18281.757812</td>\n",
       "    </tr>\n",
       "    <tr>\n",
       "      <th>1</th>\n",
       "      <td>862.896790</td>\n",
       "      <td>26320.160156</td>\n",
       "      <td>18283.193359</td>\n",
       "    </tr>\n",
       "    <tr>\n",
       "      <th>2</th>\n",
       "      <td>859.645874</td>\n",
       "      <td>26324.167969</td>\n",
       "      <td>18280.250000</td>\n",
       "    </tr>\n",
       "    <tr>\n",
       "      <th>3</th>\n",
       "      <td>861.843018</td>\n",
       "      <td>26322.359375</td>\n",
       "      <td>18286.849609</td>\n",
       "    </tr>\n",
       "    <tr>\n",
       "      <th>4</th>\n",
       "      <td>860.395447</td>\n",
       "      <td>26319.984375</td>\n",
       "      <td>18284.232422</td>\n",
       "    </tr>\n",
       "  </tbody>\n",
       "</table>\n",
       "</div>"
      ],
      "text/plain": [
       "            X             Y             Z\n",
       "0  860.278625  26320.939453  18281.757812\n",
       "1  862.896790  26320.160156  18283.193359\n",
       "2  859.645874  26324.167969  18280.250000\n",
       "3  861.843018  26322.359375  18286.849609\n",
       "4  860.395447  26319.984375  18284.232422"
      ]
     },
     "execution_count": 10,
     "metadata": {},
     "output_type": "execute_result"
    }
   ],
   "source": [
    "import pandas as pd\n",
    "dm_data = {'X' : X_pos , 'Y' : Y_pos , 'Z' : Z_pos} \n",
    "df_dm = pd.DataFrame(data = dm_data)\n",
    "df_dm.head()"
   ]
  },
  {
   "cell_type": "code",
   "execution_count": 11,
   "metadata": {},
   "outputs": [
    {
     "data": {
      "text/html": [
       "<div>\n",
       "<style scoped>\n",
       "    .dataframe tbody tr th:only-of-type {\n",
       "        vertical-align: middle;\n",
       "    }\n",
       "\n",
       "    .dataframe tbody tr th {\n",
       "        vertical-align: top;\n",
       "    }\n",
       "\n",
       "    .dataframe thead th {\n",
       "        text-align: right;\n",
       "    }\n",
       "</style>\n",
       "<table border=\"1\" class=\"dataframe\">\n",
       "  <thead>\n",
       "    <tr style=\"text-align: right;\">\n",
       "      <th></th>\n",
       "      <th>X</th>\n",
       "      <th>Y</th>\n",
       "      <th>Z</th>\n",
       "      <th>x_b</th>\n",
       "      <th>y_b</th>\n",
       "      <th>z_b</th>\n",
       "      <th>c</th>\n",
       "    </tr>\n",
       "  </thead>\n",
       "  <tbody>\n",
       "    <tr>\n",
       "      <th>0</th>\n",
       "      <td>860.278625</td>\n",
       "      <td>26320.939453</td>\n",
       "      <td>18281.757812</td>\n",
       "      <td>1</td>\n",
       "      <td>35</td>\n",
       "      <td>24</td>\n",
       "      <td>1</td>\n",
       "    </tr>\n",
       "    <tr>\n",
       "      <th>1</th>\n",
       "      <td>862.896790</td>\n",
       "      <td>26320.160156</td>\n",
       "      <td>18283.193359</td>\n",
       "      <td>1</td>\n",
       "      <td>35</td>\n",
       "      <td>24</td>\n",
       "      <td>1</td>\n",
       "    </tr>\n",
       "    <tr>\n",
       "      <th>2</th>\n",
       "      <td>859.645874</td>\n",
       "      <td>26324.167969</td>\n",
       "      <td>18280.250000</td>\n",
       "      <td>1</td>\n",
       "      <td>35</td>\n",
       "      <td>24</td>\n",
       "      <td>1</td>\n",
       "    </tr>\n",
       "    <tr>\n",
       "      <th>3</th>\n",
       "      <td>861.843018</td>\n",
       "      <td>26322.359375</td>\n",
       "      <td>18286.849609</td>\n",
       "      <td>1</td>\n",
       "      <td>35</td>\n",
       "      <td>24</td>\n",
       "      <td>1</td>\n",
       "    </tr>\n",
       "    <tr>\n",
       "      <th>4</th>\n",
       "      <td>860.395447</td>\n",
       "      <td>26319.984375</td>\n",
       "      <td>18284.232422</td>\n",
       "      <td>1</td>\n",
       "      <td>35</td>\n",
       "      <td>24</td>\n",
       "      <td>1</td>\n",
       "    </tr>\n",
       "    <tr>\n",
       "      <th>5</th>\n",
       "      <td>862.295593</td>\n",
       "      <td>26322.332031</td>\n",
       "      <td>18286.097656</td>\n",
       "      <td>1</td>\n",
       "      <td>35</td>\n",
       "      <td>24</td>\n",
       "      <td>1</td>\n",
       "    </tr>\n",
       "    <tr>\n",
       "      <th>6</th>\n",
       "      <td>860.981873</td>\n",
       "      <td>26320.837891</td>\n",
       "      <td>18278.978516</td>\n",
       "      <td>1</td>\n",
       "      <td>35</td>\n",
       "      <td>24</td>\n",
       "      <td>1</td>\n",
       "    </tr>\n",
       "    <tr>\n",
       "      <th>7</th>\n",
       "      <td>862.746643</td>\n",
       "      <td>26323.728516</td>\n",
       "      <td>18281.339844</td>\n",
       "      <td>1</td>\n",
       "      <td>35</td>\n",
       "      <td>24</td>\n",
       "      <td>1</td>\n",
       "    </tr>\n",
       "    <tr>\n",
       "      <th>8</th>\n",
       "      <td>862.724243</td>\n",
       "      <td>26319.615234</td>\n",
       "      <td>18281.880859</td>\n",
       "      <td>1</td>\n",
       "      <td>35</td>\n",
       "      <td>24</td>\n",
       "      <td>1</td>\n",
       "    </tr>\n",
       "    <tr>\n",
       "      <th>9</th>\n",
       "      <td>858.579590</td>\n",
       "      <td>26325.712891</td>\n",
       "      <td>18279.990234</td>\n",
       "      <td>1</td>\n",
       "      <td>35</td>\n",
       "      <td>24</td>\n",
       "      <td>1</td>\n",
       "    </tr>\n",
       "  </tbody>\n",
       "</table>\n",
       "</div>"
      ],
      "text/plain": [
       "            X             Y             Z  x_b  y_b  z_b  c\n",
       "0  860.278625  26320.939453  18281.757812    1   35   24  1\n",
       "1  862.896790  26320.160156  18283.193359    1   35   24  1\n",
       "2  859.645874  26324.167969  18280.250000    1   35   24  1\n",
       "3  861.843018  26322.359375  18286.849609    1   35   24  1\n",
       "4  860.395447  26319.984375  18284.232422    1   35   24  1\n",
       "5  862.295593  26322.332031  18286.097656    1   35   24  1\n",
       "6  860.981873  26320.837891  18278.978516    1   35   24  1\n",
       "7  862.746643  26323.728516  18281.339844    1   35   24  1\n",
       "8  862.724243  26319.615234  18281.880859    1   35   24  1\n",
       "9  858.579590  26325.712891  18279.990234    1   35   24  1"
      ]
     },
     "execution_count": 11,
     "metadata": {},
     "output_type": "execute_result"
    }
   ],
   "source": [
    "def process(data):\n",
    "    data['x_b'] = np.floor(data['X']/(75000/100))\n",
    "    data['y_b'] = np.floor(data['Y']/(75000/100))\n",
    "    data['z_b'] = np.floor(data['Z']/(75000/100))\n",
    "    data['x_b'] = data['x_b'].astype(int)\n",
    "    data['y_b'] = data['y_b'].astype(int)\n",
    "    data['z_b'] = data['z_b'].astype(int)\n",
    "    \n",
    "    \n",
    "    return data\n",
    "    \n",
    "dm_data = process(df_dm)\n",
    "dm_data['c'] = 1\n",
    "dm_data.head(10)"
   ]
  },
  {
   "cell_type": "code",
   "execution_count": 12,
   "metadata": {},
   "outputs": [
    {
     "data": {
      "text/html": [
       "<div>\n",
       "<style scoped>\n",
       "    .dataframe tbody tr th:only-of-type {\n",
       "        vertical-align: middle;\n",
       "    }\n",
       "\n",
       "    .dataframe tbody tr th {\n",
       "        vertical-align: top;\n",
       "    }\n",
       "\n",
       "    .dataframe thead th {\n",
       "        text-align: right;\n",
       "    }\n",
       "</style>\n",
       "<table border=\"1\" class=\"dataframe\">\n",
       "  <thead>\n",
       "    <tr style=\"text-align: right;\">\n",
       "      <th></th>\n",
       "      <th>X</th>\n",
       "      <th>Y</th>\n",
       "      <th>Z</th>\n",
       "      <th>x_b</th>\n",
       "      <th>y_b</th>\n",
       "      <th>z_b</th>\n",
       "      <th>c</th>\n",
       "    </tr>\n",
       "  </thead>\n",
       "  <tbody>\n",
       "    <tr>\n",
       "      <th>0</th>\n",
       "      <td>860.278625</td>\n",
       "      <td>26320.939453</td>\n",
       "      <td>18281.757812</td>\n",
       "      <td>1</td>\n",
       "      <td>35</td>\n",
       "      <td>24</td>\n",
       "      <td>1</td>\n",
       "    </tr>\n",
       "    <tr>\n",
       "      <th>1</th>\n",
       "      <td>862.896790</td>\n",
       "      <td>26320.160156</td>\n",
       "      <td>18283.193359</td>\n",
       "      <td>1</td>\n",
       "      <td>35</td>\n",
       "      <td>24</td>\n",
       "      <td>1</td>\n",
       "    </tr>\n",
       "    <tr>\n",
       "      <th>2</th>\n",
       "      <td>859.645874</td>\n",
       "      <td>26324.167969</td>\n",
       "      <td>18280.250000</td>\n",
       "      <td>1</td>\n",
       "      <td>35</td>\n",
       "      <td>24</td>\n",
       "      <td>1</td>\n",
       "    </tr>\n",
       "    <tr>\n",
       "      <th>3</th>\n",
       "      <td>861.843018</td>\n",
       "      <td>26322.359375</td>\n",
       "      <td>18286.849609</td>\n",
       "      <td>1</td>\n",
       "      <td>35</td>\n",
       "      <td>24</td>\n",
       "      <td>1</td>\n",
       "    </tr>\n",
       "    <tr>\n",
       "      <th>4</th>\n",
       "      <td>860.395447</td>\n",
       "      <td>26319.984375</td>\n",
       "      <td>18284.232422</td>\n",
       "      <td>1</td>\n",
       "      <td>35</td>\n",
       "      <td>24</td>\n",
       "      <td>1</td>\n",
       "    </tr>\n",
       "    <tr>\n",
       "      <th>5</th>\n",
       "      <td>862.295593</td>\n",
       "      <td>26322.332031</td>\n",
       "      <td>18286.097656</td>\n",
       "      <td>1</td>\n",
       "      <td>35</td>\n",
       "      <td>24</td>\n",
       "      <td>1</td>\n",
       "    </tr>\n",
       "    <tr>\n",
       "      <th>6</th>\n",
       "      <td>860.981873</td>\n",
       "      <td>26320.837891</td>\n",
       "      <td>18278.978516</td>\n",
       "      <td>1</td>\n",
       "      <td>35</td>\n",
       "      <td>24</td>\n",
       "      <td>1</td>\n",
       "    </tr>\n",
       "    <tr>\n",
       "      <th>7</th>\n",
       "      <td>862.746643</td>\n",
       "      <td>26323.728516</td>\n",
       "      <td>18281.339844</td>\n",
       "      <td>1</td>\n",
       "      <td>35</td>\n",
       "      <td>24</td>\n",
       "      <td>1</td>\n",
       "    </tr>\n",
       "    <tr>\n",
       "      <th>8</th>\n",
       "      <td>862.724243</td>\n",
       "      <td>26319.615234</td>\n",
       "      <td>18281.880859</td>\n",
       "      <td>1</td>\n",
       "      <td>35</td>\n",
       "      <td>24</td>\n",
       "      <td>1</td>\n",
       "    </tr>\n",
       "    <tr>\n",
       "      <th>9</th>\n",
       "      <td>858.579590</td>\n",
       "      <td>26325.712891</td>\n",
       "      <td>18279.990234</td>\n",
       "      <td>1</td>\n",
       "      <td>35</td>\n",
       "      <td>24</td>\n",
       "      <td>1</td>\n",
       "    </tr>\n",
       "  </tbody>\n",
       "</table>\n",
       "</div>"
      ],
      "text/plain": [
       "            X             Y             Z  x_b  y_b  z_b  c\n",
       "0  860.278625  26320.939453  18281.757812    1   35   24  1\n",
       "1  862.896790  26320.160156  18283.193359    1   35   24  1\n",
       "2  859.645874  26324.167969  18280.250000    1   35   24  1\n",
       "3  861.843018  26322.359375  18286.849609    1   35   24  1\n",
       "4  860.395447  26319.984375  18284.232422    1   35   24  1\n",
       "5  862.295593  26322.332031  18286.097656    1   35   24  1\n",
       "6  860.981873  26320.837891  18278.978516    1   35   24  1\n",
       "7  862.746643  26323.728516  18281.339844    1   35   24  1\n",
       "8  862.724243  26319.615234  18281.880859    1   35   24  1\n",
       "9  858.579590  26325.712891  18279.990234    1   35   24  1"
      ]
     },
     "execution_count": 12,
     "metadata": {},
     "output_type": "execute_result"
    }
   ],
   "source": [
    "def process(data):\n",
    "    data['x_b'] = np.floor(data['X']/(75000/100))\n",
    "    data['y_b'] = np.floor(data['Y']/(75000/100))\n",
    "    data['z_b'] = np.floor(data['Z']/(75000/100))\n",
    "    data['x_b'] = data['x_b'].astype(int)\n",
    "    data['y_b'] = data['y_b'].astype(int)\n",
    "    data['z_b'] = data['z_b'].astype(int)\n",
    "    \n",
    "    \n",
    "    return data\n",
    "    \n",
    "dm_data = process(df_dm)\n",
    "dm_data['c'] = 1\n",
    "dm_data.head(10)"
   ]
  },
  {
   "cell_type": "code",
   "execution_count": 13,
   "metadata": {},
   "outputs": [
    {
     "name": "stdout",
     "output_type": "stream",
     "text": [
      "(999941, 4)\n",
      "(94196375, 7)\n"
     ]
    }
   ],
   "source": [
    "counts = dm_data.groupby(['x_b' , 'y_b' , 'z_b'])['c'].count().reset_index(name = \"count\")\n",
    "print(counts.shape)\n",
    "print(dm_data.shape)"
   ]
  },
  {
   "cell_type": "code",
   "execution_count": 14,
   "metadata": {},
   "outputs": [
    {
     "name": "stdout",
     "output_type": "stream",
     "text": [
      "(100, 100, 100)\n"
     ]
    }
   ],
   "source": [
    "def dataframe_to_array(data , shape):\n",
    "    ids = np.ravel_multi_index(data[['x_b' , 'y_b' , 'z_b']].values.T , shape)\n",
    "    val = data['count'].values\n",
    "    return np.bincount(ids , val , minlength = np.prod(shape)).reshape(shape)\n",
    "dm_arr = dataframe_to_array(counts , (100,100,100))\n",
    "print(dm_arr.shape)"
   ]
  },
  {
   "cell_type": "code",
   "execution_count": 17,
   "metadata": {},
   "outputs": [],
   "source": [
    "\n",
    "X = np.zeros((125000,8))\n",
    "Y = np.zeros((125000,1))\n",
    "\n",
    "l = 0\n",
    "m = 0\n",
    "for i in range(0,98,2):\n",
    "    for j in range(0,98,2):\n",
    "        for k in range(0,98,2):\n",
    "            X [l,:] = dm_arr[i:i +2 , j: j +2 , k:k+2].flatten()\n",
    "            Y [l,0] = arr_subhalo[i+1 , j+1 , k+1]\n",
    "            l +=1\n",
    "                \n",
    "             \n",
    "            "
   ]
  },
  {
   "cell_type": "code",
   "execution_count": 18,
   "metadata": {},
   "outputs": [],
   "source": [
    "from sklearn.model_selection import train_test_split\n",
    "X_train , X_test , Y_train , Y_test = train_test_split(X,Y, random_state = 0)"
   ]
  },
  {
   "cell_type": "code",
   "execution_count": 19,
   "metadata": {},
   "outputs": [
    {
     "name": "stdout",
     "output_type": "stream",
     "text": [
      "(93750, 8)\n",
      "(93750, 1)\n",
      "(31250, 8)\n",
      "(31250, 1)\n"
     ]
    }
   ],
   "source": [
    "print(X_train.shape)\n",
    "print(Y_train.shape)\n",
    "print(X_test.shape)\n",
    "print(Y_test.shape)"
   ]
  },
  {
   "cell_type": "code",
   "execution_count": 20,
   "metadata": {},
   "outputs": [
    {
     "name": "stderr",
     "output_type": "stream",
     "text": [
      "C:\\Users\\zahra\\Anaconda3\\lib\\site-packages\\sklearn\\ensemble\\forest.py:246: FutureWarning: The default value of n_estimators will change from 10 in version 0.20 to 100 in 0.22.\n",
      "  \"10 in version 0.20 to 100 in 0.22.\", FutureWarning)\n",
      "C:\\Users\\zahra\\Anaconda3\\lib\\site-packages\\ipykernel_launcher.py:3: DataConversionWarning: A column-vector y was passed when a 1d array was expected. Please change the shape of y to (n_samples,), for example using ravel().\n",
      "  This is separate from the ipykernel package so we can avoid doing imports until\n"
     ]
    },
    {
     "data": {
      "text/plain": [
       "RandomForestRegressor(bootstrap=True, criterion='mse', max_depth=None,\n",
       "           max_features='auto', max_leaf_nodes=None,\n",
       "           min_impurity_decrease=0.0, min_impurity_split=None,\n",
       "           min_samples_leaf=1, min_samples_split=2,\n",
       "           min_weight_fraction_leaf=0.0, n_estimators=10, n_jobs=None,\n",
       "           oob_score=False, random_state=None, verbose=0, warm_start=False)"
      ]
     },
     "execution_count": 20,
     "metadata": {},
     "output_type": "execute_result"
    }
   ],
   "source": [
    "from sklearn.ensemble import RandomForestRegressor\n",
    "randfor = RandomForestRegressor()\n",
    "randfor.fit(X_train,Y_train)\n"
   ]
  },
  {
   "cell_type": "code",
   "execution_count": 21,
   "metadata": {},
   "outputs": [
    {
     "name": "stdout",
     "output_type": "stream",
     "text": [
      "0.9546593632506011\n",
      "0.7101093502060312\n"
     ]
    }
   ],
   "source": [
    "print(randfor.score(X_train,Y_train))\n",
    "print(randfor.score(X_test,Y_test))\n",
    "           "
   ]
  },
  {
   "cell_type": "code",
   "execution_count": 22,
   "metadata": {},
   "outputs": [
    {
     "data": {
      "text/plain": [
       "DecisionTreeRegressor(criterion='mse', max_depth=None, max_features=None,\n",
       "           max_leaf_nodes=None, min_impurity_decrease=0.0,\n",
       "           min_impurity_split=None, min_samples_leaf=1,\n",
       "           min_samples_split=2, min_weight_fraction_leaf=0.0,\n",
       "           presort=False, random_state=None, splitter='best')"
      ]
     },
     "execution_count": 22,
     "metadata": {},
     "output_type": "execute_result"
    }
   ],
   "source": [
    "from sklearn.tree import DecisionTreeRegressor\n",
    "tree = DecisionTreeRegressor()\n",
    "tree.fit(X_train,Y_train)"
   ]
  },
  {
   "cell_type": "code",
   "execution_count": 23,
   "metadata": {},
   "outputs": [
    {
     "name": "stdout",
     "output_type": "stream",
     "text": [
      "1.0\n",
      "0.5589250908853418\n"
     ]
    }
   ],
   "source": [
    "print(tree.score(X_train,Y_train))\n",
    "print(tree.score(X_test,Y_test))"
   ]
  },
  {
   "cell_type": "code",
   "execution_count": 24,
   "metadata": {},
   "outputs": [
    {
     "data": {
      "text/plain": [
       "Ridge(alpha=1.0, copy_X=True, fit_intercept=True, max_iter=None,\n",
       "   normalize=False, random_state=None, solver='auto', tol=0.001)"
      ]
     },
     "execution_count": 24,
     "metadata": {},
     "output_type": "execute_result"
    }
   ],
   "source": [
    "from sklearn.linear_model import Ridge\n",
    "ridge = Ridge()\n",
    "ridge.fit(X_train,Y_train)\n"
   ]
  },
  {
   "cell_type": "code",
   "execution_count": 25,
   "metadata": {},
   "outputs": [
    {
     "name": "stdout",
     "output_type": "stream",
     "text": [
      "0.5891117245638297\n",
      "0.48681687745039093\n"
     ]
    }
   ],
   "source": [
    "print(ridge.score(X_train,Y_train))\n",
    "print(ridge.score(X_test,Y_test))"
   ]
  },
  {
   "cell_type": "code",
   "execution_count": 26,
   "metadata": {},
   "outputs": [
    {
     "data": {
      "text/plain": [
       "KNeighborsRegressor(algorithm='auto', leaf_size=30, metric='minkowski',\n",
       "          metric_params=None, n_jobs=None, n_neighbors=5, p=2,\n",
       "          weights='uniform')"
      ]
     },
     "execution_count": 26,
     "metadata": {},
     "output_type": "execute_result"
    }
   ],
   "source": [
    "from sklearn.neighbors import KNeighborsRegressor\n",
    "knn = KNeighborsRegressor()\n",
    "knn.fit(X_train,Y_train)"
   ]
  },
  {
   "cell_type": "code",
   "execution_count": 27,
   "metadata": {},
   "outputs": [
    {
     "name": "stdout",
     "output_type": "stream",
     "text": [
      "0.7917753390134805\n",
      "0.6259120343683906\n"
     ]
    }
   ],
   "source": [
    "print(knn.score(X_train,Y_train))\n",
    "print(knn.score(X_test,Y_test))"
   ]
  },
  {
   "cell_type": "code",
   "execution_count": 29,
   "metadata": {},
   "outputs": [],
   "source": [
    "from sklearn.dummy import DummyRegressor\n"
   ]
  },
  {
   "cell_type": "code",
   "execution_count": 31,
   "metadata": {},
   "outputs": [
    {
     "name": "stdout",
     "output_type": "stream",
     "text": [
      "0.0\n",
      "-4.730711675282606e-06\n"
     ]
    }
   ],
   "source": [
    "dummy = DummyRegressor(strategy = 'mean')\n",
    "dummy.fit(X_train,Y_train)\n",
    "print(dummy.score(X_train,Y_train))\n",
    "print(dummy.score(X_test,Y_test))"
   ]
  },
  {
   "cell_type": "code",
   "execution_count": 38,
   "metadata": {},
   "outputs": [
    {
     "name": "stdout",
     "output_type": "stream",
     "text": [
      "-0.03235772033423756\n",
      "-0.03263784751241561\n"
     ]
    }
   ],
   "source": [
    "dummy2 = DummyRegressor(strategy = 'median')\n",
    "dummy2.fit(X_train,Y_train)\n",
    "print(dummy2.score(X_train,Y_train))\n",
    "print(dummy2.score(X_test,Y_test))"
   ]
  },
  {
   "cell_type": "code",
   "execution_count": 40,
   "metadata": {},
   "outputs": [
    {
     "name": "stdout",
     "output_type": "stream",
     "text": [
      "-0.03235772033423756\n",
      "-0.03263784751241561\n"
     ]
    }
   ],
   "source": [
    "dummy3 = DummyRegressor(strategy = 'constant' , constant = np.zeros((1,1)))\n",
    "dummy3.fit(X_train,Y_train)\n",
    "print(dummy2.score(X_train,Y_train))\n",
    "print(dummy2.score(X_test,Y_test))"
   ]
  },
  {
   "cell_type": "code",
   "execution_count": null,
   "metadata": {},
   "outputs": [],
   "source": []
  }
 ],
 "metadata": {
  "kernelspec": {
   "display_name": "Python 3",
   "language": "python",
   "name": "python3"
  },
  "language_info": {
   "codemirror_mode": {
    "name": "ipython",
    "version": 3
   },
   "file_extension": ".py",
   "mimetype": "text/x-python",
   "name": "python",
   "nbconvert_exporter": "python",
   "pygments_lexer": "ipython3",
   "version": "3.7.1"
  }
 },
 "nbformat": 4,
 "nbformat_minor": 2
}
