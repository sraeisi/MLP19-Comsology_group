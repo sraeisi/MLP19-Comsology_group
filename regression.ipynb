{
 "cells": [
  {
   "cell_type": "code",
   "execution_count": 1,
   "metadata": {},
   "outputs": [
    {
     "name": "stdout",
     "output_type": "stream",
     "text": [
      "C:\\Users\\zahra\\Desktop\n"
     ]
    }
   ],
   "source": [
    "cd \"C:\\Users\\zahra\\Desktop\"\n"
   ]
  },
  {
   "cell_type": "code",
   "execution_count": 2,
   "metadata": {},
   "outputs": [
    {
     "data": {
      "text/html": [
       "<div>\n",
       "<style scoped>\n",
       "    .dataframe tbody tr th:only-of-type {\n",
       "        vertical-align: middle;\n",
       "    }\n",
       "\n",
       "    .dataframe tbody tr th {\n",
       "        vertical-align: top;\n",
       "    }\n",
       "\n",
       "    .dataframe thead th {\n",
       "        text-align: right;\n",
       "    }\n",
       "</style>\n",
       "<table border=\"1\" class=\"dataframe\">\n",
       "  <thead>\n",
       "    <tr style=\"text-align: right;\">\n",
       "      <th></th>\n",
       "      <th>X_coordinate</th>\n",
       "      <th>Y_coordinate</th>\n",
       "      <th>Z_coordinate</th>\n",
       "    </tr>\n",
       "  </thead>\n",
       "  <tbody>\n",
       "    <tr>\n",
       "      <th>0</th>\n",
       "      <td>900.425293</td>\n",
       "      <td>26286.689453</td>\n",
       "      <td>18321.949219</td>\n",
       "    </tr>\n",
       "    <tr>\n",
       "      <th>1</th>\n",
       "      <td>181.120392</td>\n",
       "      <td>24638.792969</td>\n",
       "      <td>16896.896484</td>\n",
       "    </tr>\n",
       "    <tr>\n",
       "      <th>2</th>\n",
       "      <td>826.923584</td>\n",
       "      <td>26747.314453</td>\n",
       "      <td>17363.390625</td>\n",
       "    </tr>\n",
       "    <tr>\n",
       "      <th>3</th>\n",
       "      <td>1492.193726</td>\n",
       "      <td>26514.935547</td>\n",
       "      <td>19381.691406</td>\n",
       "    </tr>\n",
       "    <tr>\n",
       "      <th>4</th>\n",
       "      <td>839.730957</td>\n",
       "      <td>26543.013672</td>\n",
       "      <td>15552.993164</td>\n",
       "    </tr>\n",
       "    <tr>\n",
       "      <th>5</th>\n",
       "      <td>267.409637</td>\n",
       "      <td>26475.843750</td>\n",
       "      <td>15855.078125</td>\n",
       "    </tr>\n",
       "    <tr>\n",
       "      <th>6</th>\n",
       "      <td>963.795166</td>\n",
       "      <td>26495.972656</td>\n",
       "      <td>17794.994141</td>\n",
       "    </tr>\n",
       "    <tr>\n",
       "      <th>7</th>\n",
       "      <td>1171.580200</td>\n",
       "      <td>26447.220703</td>\n",
       "      <td>18336.576172</td>\n",
       "    </tr>\n",
       "    <tr>\n",
       "      <th>8</th>\n",
       "      <td>74993.562500</td>\n",
       "      <td>24189.980469</td>\n",
       "      <td>16774.009766</td>\n",
       "    </tr>\n",
       "    <tr>\n",
       "      <th>9</th>\n",
       "      <td>1632.506470</td>\n",
       "      <td>25474.320312</td>\n",
       "      <td>18378.683594</td>\n",
       "    </tr>\n",
       "  </tbody>\n",
       "</table>\n",
       "</div>"
      ],
      "text/plain": [
       "   X_coordinate  Y_coordinate  Z_coordinate\n",
       "0    900.425293  26286.689453  18321.949219\n",
       "1    181.120392  24638.792969  16896.896484\n",
       "2    826.923584  26747.314453  17363.390625\n",
       "3   1492.193726  26514.935547  19381.691406\n",
       "4    839.730957  26543.013672  15552.993164\n",
       "5    267.409637  26475.843750  15855.078125\n",
       "6    963.795166  26495.972656  17794.994141\n",
       "7   1171.580200  26447.220703  18336.576172\n",
       "8  74993.562500  24189.980469  16774.009766\n",
       "9   1632.506470  25474.320312  18378.683594"
      ]
     },
     "execution_count": 2,
     "metadata": {},
     "output_type": "execute_result"
    }
   ],
   "source": [
    "#load data. data includes galaxy position in 3d simulation box \n",
    "import h5py\n",
    "import numpy as np\n",
    "import pandas as pd\n",
    "f = h5py.File('groups_135.Subhalo.SubhaloPos.hdf5' , 'r') \n",
    "head_subhalo = f['Subhalo']\n",
    "data_subhalo = head_subhalo['SubhaloPos']\n",
    "X_pos_subhalo = data_subhalo[:,0]\n",
    "Y_pos_subhalo = data_subhalo[:,1]\n",
    "Z_pos_subhalo = data_subhalo[:,2]\n",
    "a = pd.DataFrame(data_subhalo[:,:] , columns = 'X_coordinate Y_coordinate Z_coordinate'.split()) #converting hdf5 to pandas dataframe\n",
    "a.head(10)\n",
    "\n"
   ]
  },
  {
   "cell_type": "code",
   "execution_count": 3,
   "metadata": {},
   "outputs": [
    {
     "data": {
      "text/html": [
       "<div>\n",
       "<style scoped>\n",
       "    .dataframe tbody tr th:only-of-type {\n",
       "        vertical-align: middle;\n",
       "    }\n",
       "\n",
       "    .dataframe tbody tr th {\n",
       "        vertical-align: top;\n",
       "    }\n",
       "\n",
       "    .dataframe thead th {\n",
       "        text-align: right;\n",
       "    }\n",
       "</style>\n",
       "<table border=\"1\" class=\"dataframe\">\n",
       "  <thead>\n",
       "    <tr style=\"text-align: right;\">\n",
       "      <th></th>\n",
       "      <th>x</th>\n",
       "      <th>y</th>\n",
       "      <th>z</th>\n",
       "    </tr>\n",
       "  </thead>\n",
       "  <tbody>\n",
       "    <tr>\n",
       "      <th>0</th>\n",
       "      <td>900.425293</td>\n",
       "      <td>26286.689453</td>\n",
       "      <td>18321.949219</td>\n",
       "    </tr>\n",
       "    <tr>\n",
       "      <th>1</th>\n",
       "      <td>181.120392</td>\n",
       "      <td>24638.792969</td>\n",
       "      <td>16896.896484</td>\n",
       "    </tr>\n",
       "    <tr>\n",
       "      <th>2</th>\n",
       "      <td>826.923584</td>\n",
       "      <td>26747.314453</td>\n",
       "      <td>17363.390625</td>\n",
       "    </tr>\n",
       "    <tr>\n",
       "      <th>3</th>\n",
       "      <td>1492.193726</td>\n",
       "      <td>26514.935547</td>\n",
       "      <td>19381.691406</td>\n",
       "    </tr>\n",
       "    <tr>\n",
       "      <th>4</th>\n",
       "      <td>839.730957</td>\n",
       "      <td>26543.013672</td>\n",
       "      <td>15552.993164</td>\n",
       "    </tr>\n",
       "    <tr>\n",
       "      <th>5</th>\n",
       "      <td>267.409637</td>\n",
       "      <td>26475.843750</td>\n",
       "      <td>15855.078125</td>\n",
       "    </tr>\n",
       "    <tr>\n",
       "      <th>6</th>\n",
       "      <td>963.795166</td>\n",
       "      <td>26495.972656</td>\n",
       "      <td>17794.994141</td>\n",
       "    </tr>\n",
       "    <tr>\n",
       "      <th>7</th>\n",
       "      <td>1171.580200</td>\n",
       "      <td>26447.220703</td>\n",
       "      <td>18336.576172</td>\n",
       "    </tr>\n",
       "    <tr>\n",
       "      <th>8</th>\n",
       "      <td>74993.562500</td>\n",
       "      <td>24189.980469</td>\n",
       "      <td>16774.009766</td>\n",
       "    </tr>\n",
       "    <tr>\n",
       "      <th>9</th>\n",
       "      <td>1632.506470</td>\n",
       "      <td>25474.320312</td>\n",
       "      <td>18378.683594</td>\n",
       "    </tr>\n",
       "  </tbody>\n",
       "</table>\n",
       "</div>"
      ],
      "text/plain": [
       "              x             y             z\n",
       "0    900.425293  26286.689453  18321.949219\n",
       "1    181.120392  24638.792969  16896.896484\n",
       "2    826.923584  26747.314453  17363.390625\n",
       "3   1492.193726  26514.935547  19381.691406\n",
       "4    839.730957  26543.013672  15552.993164\n",
       "5    267.409637  26475.843750  15855.078125\n",
       "6    963.795166  26495.972656  17794.994141\n",
       "7   1171.580200  26447.220703  18336.576172\n",
       "8  74993.562500  24189.980469  16774.009766\n",
       "9   1632.506470  25474.320312  18378.683594"
      ]
     },
     "execution_count": 3,
     "metadata": {},
     "output_type": "execute_result"
    }
   ],
   "source": [
    "import h5py\n",
    "import numpy as np\n",
    "import pandas as pd\n",
    "f = h5py.File('groups_135.Subhalo.SubhaloPos.hdf5' , 'r') #data includes galaxy position in simulation box for 135th snapshot\n",
    "head_subhalo = f['Subhalo']\n",
    "data_subhalo = np.array(head_subhalo['SubhaloPos'])\n",
    "position = pd.DataFrame(data_subhalo)\n",
    "position.columns = ['x' , 'y' , 'z']\n",
    "position.head(10)\n"
   ]
  },
  {
   "cell_type": "code",
   "execution_count": 4,
   "metadata": {},
   "outputs": [
    {
     "data": {
      "text/html": [
       "<div>\n",
       "<style scoped>\n",
       "    .dataframe tbody tr th:only-of-type {\n",
       "        vertical-align: middle;\n",
       "    }\n",
       "\n",
       "    .dataframe tbody tr th {\n",
       "        vertical-align: top;\n",
       "    }\n",
       "\n",
       "    .dataframe thead th {\n",
       "        text-align: right;\n",
       "    }\n",
       "</style>\n",
       "<table border=\"1\" class=\"dataframe\">\n",
       "  <thead>\n",
       "    <tr style=\"text-align: right;\">\n",
       "      <th></th>\n",
       "      <th>x</th>\n",
       "      <th>y</th>\n",
       "      <th>z</th>\n",
       "      <th>x_b</th>\n",
       "      <th>y_b</th>\n",
       "      <th>z_b</th>\n",
       "      <th>c</th>\n",
       "    </tr>\n",
       "  </thead>\n",
       "  <tbody>\n",
       "    <tr>\n",
       "      <th>0</th>\n",
       "      <td>900.425293</td>\n",
       "      <td>26286.689453</td>\n",
       "      <td>18321.949219</td>\n",
       "      <td>1</td>\n",
       "      <td>35</td>\n",
       "      <td>24</td>\n",
       "      <td>1</td>\n",
       "    </tr>\n",
       "    <tr>\n",
       "      <th>1</th>\n",
       "      <td>181.120392</td>\n",
       "      <td>24638.792969</td>\n",
       "      <td>16896.896484</td>\n",
       "      <td>0</td>\n",
       "      <td>32</td>\n",
       "      <td>22</td>\n",
       "      <td>1</td>\n",
       "    </tr>\n",
       "    <tr>\n",
       "      <th>2</th>\n",
       "      <td>826.923584</td>\n",
       "      <td>26747.314453</td>\n",
       "      <td>17363.390625</td>\n",
       "      <td>1</td>\n",
       "      <td>35</td>\n",
       "      <td>23</td>\n",
       "      <td>1</td>\n",
       "    </tr>\n",
       "    <tr>\n",
       "      <th>3</th>\n",
       "      <td>1492.193726</td>\n",
       "      <td>26514.935547</td>\n",
       "      <td>19381.691406</td>\n",
       "      <td>1</td>\n",
       "      <td>35</td>\n",
       "      <td>25</td>\n",
       "      <td>1</td>\n",
       "    </tr>\n",
       "    <tr>\n",
       "      <th>4</th>\n",
       "      <td>839.730957</td>\n",
       "      <td>26543.013672</td>\n",
       "      <td>15552.993164</td>\n",
       "      <td>1</td>\n",
       "      <td>35</td>\n",
       "      <td>20</td>\n",
       "      <td>1</td>\n",
       "    </tr>\n",
       "    <tr>\n",
       "      <th>5</th>\n",
       "      <td>267.409637</td>\n",
       "      <td>26475.843750</td>\n",
       "      <td>15855.078125</td>\n",
       "      <td>0</td>\n",
       "      <td>35</td>\n",
       "      <td>21</td>\n",
       "      <td>1</td>\n",
       "    </tr>\n",
       "    <tr>\n",
       "      <th>6</th>\n",
       "      <td>963.795166</td>\n",
       "      <td>26495.972656</td>\n",
       "      <td>17794.994141</td>\n",
       "      <td>1</td>\n",
       "      <td>35</td>\n",
       "      <td>23</td>\n",
       "      <td>1</td>\n",
       "    </tr>\n",
       "    <tr>\n",
       "      <th>7</th>\n",
       "      <td>1171.580200</td>\n",
       "      <td>26447.220703</td>\n",
       "      <td>18336.576172</td>\n",
       "      <td>1</td>\n",
       "      <td>35</td>\n",
       "      <td>24</td>\n",
       "      <td>1</td>\n",
       "    </tr>\n",
       "    <tr>\n",
       "      <th>8</th>\n",
       "      <td>74993.562500</td>\n",
       "      <td>24189.980469</td>\n",
       "      <td>16774.009766</td>\n",
       "      <td>99</td>\n",
       "      <td>32</td>\n",
       "      <td>22</td>\n",
       "      <td>1</td>\n",
       "    </tr>\n",
       "    <tr>\n",
       "      <th>9</th>\n",
       "      <td>1632.506470</td>\n",
       "      <td>25474.320312</td>\n",
       "      <td>18378.683594</td>\n",
       "      <td>2</td>\n",
       "      <td>33</td>\n",
       "      <td>24</td>\n",
       "      <td>1</td>\n",
       "    </tr>\n",
       "  </tbody>\n",
       "</table>\n",
       "</div>"
      ],
      "text/plain": [
       "              x             y             z  x_b  y_b  z_b  c\n",
       "0    900.425293  26286.689453  18321.949219    1   35   24  1\n",
       "1    181.120392  24638.792969  16896.896484    0   32   22  1\n",
       "2    826.923584  26747.314453  17363.390625    1   35   23  1\n",
       "3   1492.193726  26514.935547  19381.691406    1   35   25  1\n",
       "4    839.730957  26543.013672  15552.993164    1   35   20  1\n",
       "5    267.409637  26475.843750  15855.078125    0   35   21  1\n",
       "6    963.795166  26495.972656  17794.994141    1   35   23  1\n",
       "7   1171.580200  26447.220703  18336.576172    1   35   24  1\n",
       "8  74993.562500  24189.980469  16774.009766   99   32   22  1\n",
       "9   1632.506470  25474.320312  18378.683594    2   33   24  1"
      ]
     },
     "execution_count": 4,
     "metadata": {},
     "output_type": "execute_result"
    }
   ],
   "source": [
    "#grid the simulation box to 100 *100*100 (sub box) and define a dansity field that gives number of particles in each sub box\n",
    "\n",
    "def process(position):\n",
    "    position['x_b'] = np.floor(position['x']/(75000/100))\n",
    "    position['y_b'] = np.floor(position['y']/(75000/100))\n",
    "    position['z_b'] = np.floor(position['z']/(75000/100))\n",
    "    position['x_b'] = position['x_b'].astype(int)\n",
    "    position['y_b'] = position['y_b'].astype(int)\n",
    "    position['z_b'] = position['z_b'].astype(int)\n",
    "    \n",
    "    \n",
    "    return position\n",
    "    \n",
    "position = process(position)\n",
    "position['c'] = 1\n",
    "position.head(10)"
   ]
  },
  {
   "cell_type": "code",
   "execution_count": 5,
   "metadata": {},
   "outputs": [
    {
     "name": "stdout",
     "output_type": "stream",
     "text": [
      "(121209, 7)\n",
      "(73908, 4)\n"
     ]
    }
   ],
   "source": [
    "counts = position.groupby(['x_b' , 'y_b' , 'z_b'])['c'].count().reset_index(name = \"count\")\n",
    "counts.head(180)\n",
    "print(position.shape)\n",
    "print(counts.shape)"
   ]
  },
  {
   "cell_type": "code",
   "execution_count": 6,
   "metadata": {},
   "outputs": [
    {
     "name": "stdout",
     "output_type": "stream",
     "text": [
      "(100, 100, 100)\n"
     ]
    }
   ],
   "source": [
    "def dataframe_to_array(data , shape):\n",
    "    ids = np.ravel_multi_index(data[['x_b' , 'y_b' , 'z_b']].values.T , shape)\n",
    "    val = data['count'].values\n",
    "    return np.bincount(ids , val , minlength = np.prod(shape)).reshape(shape)\n",
    "arr_subhalo = dataframe_to_array(counts , (100,100,100))\n",
    "\n",
    "print(arr_subhalo.shape)\n"
   ]
  },
  {
   "cell_type": "code",
   "execution_count": 7,
   "metadata": {},
   "outputs": [
    {
     "name": "stdout",
     "output_type": "stream",
     "text": [
      "C:\\Users\\zahra\\Desktop\n"
     ]
    }
   ],
   "source": [
    "cd \"C:\\Users\\zahra\\Desktop\""
   ]
  },
  {
   "cell_type": "code",
   "execution_count": 8,
   "metadata": {},
   "outputs": [],
   "source": [
    "import h5py    #data includes dark matter position in simulation box. goal of the project is mapping between darkmatter position and galaxy position \n",
    "import numpy as np\n",
    "#we have 8 hdf5 files. we upload it and then merge it\n",
    "f = h5py.File('new1.h5' , 'r')\n",
    "head = f['DM']\n",
    "data = head['Coordinates0']\n",
    "X_pos_0 = data[:,0]\n",
    "Y_pos_0 = data[:,1]\n",
    "Z_pos_0 = data[:,2]\n",
    "\n",
    "data = head['Coordinates1']\n",
    "X_pos_1 = data[:,0]\n",
    "Y_pos_1 = data[:,1]\n",
    "Z_pos_1 = data[:,2]\n",
    "\n",
    "data = head['Coordinates2']\n",
    "X_pos_2 = data[:,0]\n",
    "Y_pos_2 = data[:,1]\n",
    "Z_pos_2 = data[:,2]\n",
    "\n",
    "data = head['Coordinates3']\n",
    "X_pos_3 = data[:,0]\n",
    "Y_pos_3 = data[:,1]\n",
    "Z_pos_3 = data[:,2]\n",
    "\n",
    "data = head['Coordinates4']\n",
    "X_pos_4 = data[:,0]\n",
    "Y_pos_4 = data[:,1]\n",
    "Z_pos_4 = data[:,2]\n",
    "\n",
    "data = head['Coordinates5']\n",
    "X_pos_5 = data[:,0]\n",
    "Y_pos_5 = data[:,1]\n",
    "Z_pos_5 = data[:,2]\n",
    "\n",
    "data = head['Coordinates6']\n",
    "X_pos_6 = data[:,0]\n",
    "Y_pos_6 = data[:,1]\n",
    "Z_pos_6 = data[:,2]\n",
    "\n",
    "data = head['Coordinates7']\n",
    "X_pos_7 = data[:,0]\n",
    "Y_pos_7 = data[:,1]\n",
    "Z_pos_7 = data[:,2]\n",
    "\n",
    "\n"
   ]
  },
  {
   "cell_type": "code",
   "execution_count": 9,
   "metadata": {},
   "outputs": [],
   "source": [
    "#merging hdf5 files\n",
    "X_pos = np.hstack((X_pos_0,X_pos_1,X_pos_2,X_pos_3,X_pos_4,X_pos_5,X_pos_6,X_pos_7))\n",
    "Y_pos = np.hstack((Y_pos_0,Y_pos_1,Y_pos_2,Y_pos_3,Y_pos_4,Y_pos_5,Y_pos_6,Y_pos_7))\n",
    "Z_pos = np.hstack((Z_pos_0,Z_pos_1,Z_pos_2,Z_pos_3,Z_pos_4,Z_pos_5,Z_pos_6,Z_pos_7))\n",
    "\n",
    "\n"
   ]
  },
  {
   "cell_type": "code",
   "execution_count": 10,
   "metadata": {
    "scrolled": true
   },
   "outputs": [
    {
     "data": {
      "text/html": [
       "<div>\n",
       "<style scoped>\n",
       "    .dataframe tbody tr th:only-of-type {\n",
       "        vertical-align: middle;\n",
       "    }\n",
       "\n",
       "    .dataframe tbody tr th {\n",
       "        vertical-align: top;\n",
       "    }\n",
       "\n",
       "    .dataframe thead th {\n",
       "        text-align: right;\n",
       "    }\n",
       "</style>\n",
       "<table border=\"1\" class=\"dataframe\">\n",
       "  <thead>\n",
       "    <tr style=\"text-align: right;\">\n",
       "      <th></th>\n",
       "      <th>X</th>\n",
       "      <th>Y</th>\n",
       "      <th>Z</th>\n",
       "    </tr>\n",
       "  </thead>\n",
       "  <tbody>\n",
       "    <tr>\n",
       "      <th>0</th>\n",
       "      <td>860.278625</td>\n",
       "      <td>26320.939453</td>\n",
       "      <td>18281.757812</td>\n",
       "    </tr>\n",
       "    <tr>\n",
       "      <th>1</th>\n",
       "      <td>862.896790</td>\n",
       "      <td>26320.160156</td>\n",
       "      <td>18283.193359</td>\n",
       "    </tr>\n",
       "    <tr>\n",
       "      <th>2</th>\n",
       "      <td>859.645874</td>\n",
       "      <td>26324.167969</td>\n",
       "      <td>18280.250000</td>\n",
       "    </tr>\n",
       "    <tr>\n",
       "      <th>3</th>\n",
       "      <td>861.843018</td>\n",
       "      <td>26322.359375</td>\n",
       "      <td>18286.849609</td>\n",
       "    </tr>\n",
       "    <tr>\n",
       "      <th>4</th>\n",
       "      <td>860.395447</td>\n",
       "      <td>26319.984375</td>\n",
       "      <td>18284.232422</td>\n",
       "    </tr>\n",
       "  </tbody>\n",
       "</table>\n",
       "</div>"
      ],
      "text/plain": [
       "            X             Y             Z\n",
       "0  860.278625  26320.939453  18281.757812\n",
       "1  862.896790  26320.160156  18283.193359\n",
       "2  859.645874  26324.167969  18280.250000\n",
       "3  861.843018  26322.359375  18286.849609\n",
       "4  860.395447  26319.984375  18284.232422"
      ]
     },
     "execution_count": 10,
     "metadata": {},
     "output_type": "execute_result"
    }
   ],
   "source": [
    "import pandas as pd\n",
    "dm_data = {'X' : X_pos , 'Y' : Y_pos , 'Z' : Z_pos} \n",
    "df_dm = pd.DataFrame(data = dm_data)\n",
    "df_dm.head()"
   ]
  },
  {
   "cell_type": "code",
   "execution_count": 11,
   "metadata": {},
   "outputs": [
    {
     "data": {
      "text/html": [
       "<div>\n",
       "<style scoped>\n",
       "    .dataframe tbody tr th:only-of-type {\n",
       "        vertical-align: middle;\n",
       "    }\n",
       "\n",
       "    .dataframe tbody tr th {\n",
       "        vertical-align: top;\n",
       "    }\n",
       "\n",
       "    .dataframe thead th {\n",
       "        text-align: right;\n",
       "    }\n",
       "</style>\n",
       "<table border=\"1\" class=\"dataframe\">\n",
       "  <thead>\n",
       "    <tr style=\"text-align: right;\">\n",
       "      <th></th>\n",
       "      <th>X</th>\n",
       "      <th>Y</th>\n",
       "      <th>Z</th>\n",
       "      <th>x_b</th>\n",
       "      <th>y_b</th>\n",
       "      <th>z_b</th>\n",
       "      <th>c</th>\n",
       "    </tr>\n",
       "  </thead>\n",
       "  <tbody>\n",
       "    <tr>\n",
       "      <th>0</th>\n",
       "      <td>860.278625</td>\n",
       "      <td>26320.939453</td>\n",
       "      <td>18281.757812</td>\n",
       "      <td>1</td>\n",
       "      <td>35</td>\n",
       "      <td>24</td>\n",
       "      <td>1</td>\n",
       "    </tr>\n",
       "    <tr>\n",
       "      <th>1</th>\n",
       "      <td>862.896790</td>\n",
       "      <td>26320.160156</td>\n",
       "      <td>18283.193359</td>\n",
       "      <td>1</td>\n",
       "      <td>35</td>\n",
       "      <td>24</td>\n",
       "      <td>1</td>\n",
       "    </tr>\n",
       "    <tr>\n",
       "      <th>2</th>\n",
       "      <td>859.645874</td>\n",
       "      <td>26324.167969</td>\n",
       "      <td>18280.250000</td>\n",
       "      <td>1</td>\n",
       "      <td>35</td>\n",
       "      <td>24</td>\n",
       "      <td>1</td>\n",
       "    </tr>\n",
       "    <tr>\n",
       "      <th>3</th>\n",
       "      <td>861.843018</td>\n",
       "      <td>26322.359375</td>\n",
       "      <td>18286.849609</td>\n",
       "      <td>1</td>\n",
       "      <td>35</td>\n",
       "      <td>24</td>\n",
       "      <td>1</td>\n",
       "    </tr>\n",
       "    <tr>\n",
       "      <th>4</th>\n",
       "      <td>860.395447</td>\n",
       "      <td>26319.984375</td>\n",
       "      <td>18284.232422</td>\n",
       "      <td>1</td>\n",
       "      <td>35</td>\n",
       "      <td>24</td>\n",
       "      <td>1</td>\n",
       "    </tr>\n",
       "    <tr>\n",
       "      <th>5</th>\n",
       "      <td>862.295593</td>\n",
       "      <td>26322.332031</td>\n",
       "      <td>18286.097656</td>\n",
       "      <td>1</td>\n",
       "      <td>35</td>\n",
       "      <td>24</td>\n",
       "      <td>1</td>\n",
       "    </tr>\n",
       "    <tr>\n",
       "      <th>6</th>\n",
       "      <td>860.981873</td>\n",
       "      <td>26320.837891</td>\n",
       "      <td>18278.978516</td>\n",
       "      <td>1</td>\n",
       "      <td>35</td>\n",
       "      <td>24</td>\n",
       "      <td>1</td>\n",
       "    </tr>\n",
       "    <tr>\n",
       "      <th>7</th>\n",
       "      <td>862.746643</td>\n",
       "      <td>26323.728516</td>\n",
       "      <td>18281.339844</td>\n",
       "      <td>1</td>\n",
       "      <td>35</td>\n",
       "      <td>24</td>\n",
       "      <td>1</td>\n",
       "    </tr>\n",
       "    <tr>\n",
       "      <th>8</th>\n",
       "      <td>862.724243</td>\n",
       "      <td>26319.615234</td>\n",
       "      <td>18281.880859</td>\n",
       "      <td>1</td>\n",
       "      <td>35</td>\n",
       "      <td>24</td>\n",
       "      <td>1</td>\n",
       "    </tr>\n",
       "    <tr>\n",
       "      <th>9</th>\n",
       "      <td>858.579590</td>\n",
       "      <td>26325.712891</td>\n",
       "      <td>18279.990234</td>\n",
       "      <td>1</td>\n",
       "      <td>35</td>\n",
       "      <td>24</td>\n",
       "      <td>1</td>\n",
       "    </tr>\n",
       "  </tbody>\n",
       "</table>\n",
       "</div>"
      ],
      "text/plain": [
       "            X             Y             Z  x_b  y_b  z_b  c\n",
       "0  860.278625  26320.939453  18281.757812    1   35   24  1\n",
       "1  862.896790  26320.160156  18283.193359    1   35   24  1\n",
       "2  859.645874  26324.167969  18280.250000    1   35   24  1\n",
       "3  861.843018  26322.359375  18286.849609    1   35   24  1\n",
       "4  860.395447  26319.984375  18284.232422    1   35   24  1\n",
       "5  862.295593  26322.332031  18286.097656    1   35   24  1\n",
       "6  860.981873  26320.837891  18278.978516    1   35   24  1\n",
       "7  862.746643  26323.728516  18281.339844    1   35   24  1\n",
       "8  862.724243  26319.615234  18281.880859    1   35   24  1\n",
       "9  858.579590  26325.712891  18279.990234    1   35   24  1"
      ]
     },
     "execution_count": 11,
     "metadata": {},
     "output_type": "execute_result"
    }
   ],
   "source": [
    "#again grid the simulation box to 100*100*100 subboxes and define a density field that gives number of particles in each sub box\n",
    "def process(data):\n",
    "    data['x_b'] = np.floor(data['X']/(75000/100))\n",
    "    data['y_b'] = np.floor(data['Y']/(75000/100))\n",
    "    data['z_b'] = np.floor(data['Z']/(75000/100))\n",
    "    data['x_b'] = data['x_b'].astype(int)\n",
    "    data['y_b'] = data['y_b'].astype(int)\n",
    "    data['z_b'] = data['z_b'].astype(int)\n",
    "    \n",
    "    \n",
    "    return data\n",
    "    \n",
    "dm_data = process(df_dm)\n",
    "dm_data['c'] = 1\n",
    "dm_data.head(10)"
   ]
  },
  {
   "cell_type": "code",
   "execution_count": 12,
   "metadata": {},
   "outputs": [
    {
     "name": "stdout",
     "output_type": "stream",
     "text": [
      "(999941, 4)\n",
      "(94196375, 7)\n"
     ]
    }
   ],
   "source": [
    "counts = dm_data.groupby(['x_b' , 'y_b' , 'z_b'])['c'].count().reset_index(name = \"count\")\n",
    "print(counts.shape)\n",
    "print(dm_data.shape)"
   ]
  },
  {
   "cell_type": "code",
   "execution_count": 13,
   "metadata": {},
   "outputs": [
    {
     "name": "stdout",
     "output_type": "stream",
     "text": [
      "(100, 100, 100)\n"
     ]
    }
   ],
   "source": [
    "def dataframe_to_array(data , shape):\n",
    "    ids = np.ravel_multi_index(data[['x_b' , 'y_b' , 'z_b']].values.T , shape)\n",
    "    val = data['count'].values\n",
    "    return np.bincount(ids , val , minlength = np.prod(shape)).reshape(shape)\n",
    "dm_arr = dataframe_to_array(counts , (100,100,100))\n",
    "print(dm_arr.shape)"
   ]
  },
  {
   "cell_type": "code",
   "execution_count": 14,
   "metadata": {},
   "outputs": [],
   "source": [
    "#constructing samples by using 8*8*8 boxes\n",
    "\n",
    "X = np.zeros((804357,512))\n",
    "Y = np.zeros((804357,1))\n",
    "\n",
    "l = 0\n",
    "m = 0\n",
    "for i in range(4,97):\n",
    "    for j in range(4,97):\n",
    "        for k in range(4,97):\n",
    "            \n",
    "            X [l,:] = dm_arr[i-4:i +4 , j-4: j +4 , k-4:k+4].flatten()\n",
    "            Y [l,0] = arr_subhalo[i , j , k]\n",
    "            l +=1\n",
    "                \n",
    "             \n",
    "            "
   ]
  },
  {
   "cell_type": "code",
   "execution_count": 15,
   "metadata": {},
   "outputs": [],
   "source": [
    "from sklearn.model_selection import train_test_split\n",
    "X_train , X_test , Y_train , Y_test = train_test_split(X,Y, random_state = 0)"
   ]
  },
  {
   "cell_type": "code",
   "execution_count": 16,
   "metadata": {},
   "outputs": [
    {
     "name": "stdout",
     "output_type": "stream",
     "text": [
      "(603267, 512)\n",
      "(603267, 1)\n",
      "(201090, 512)\n",
      "(201090, 1)\n"
     ]
    }
   ],
   "source": [
    "print(X_train.shape)\n",
    "print(Y_train.shape)\n",
    "print(X_test.shape)\n",
    "print(Y_test.shape)"
   ]
  },
  {
   "cell_type": "code",
   "execution_count": 19,
   "metadata": {},
   "outputs": [
    {
     "name": "stderr",
     "output_type": "stream",
     "text": [
      "C:\\Users\\zahra\\Anaconda3\\lib\\site-packages\\sklearn\\ensemble\\forest.py:246: FutureWarning: The default value of n_estimators will change from 10 in version 0.20 to 100 in 0.22.\n",
      "  \"10 in version 0.20 to 100 in 0.22.\", FutureWarning)\n",
      "C:\\Users\\zahra\\Anaconda3\\lib\\site-packages\\ipykernel_launcher.py:3: DataConversionWarning: A column-vector y was passed when a 1d array was expected. Please change the shape of y to (n_samples,), for example using ravel().\n",
      "  This is separate from the ipykernel package so we can avoid doing imports until\n"
     ]
    },
    {
     "data": {
      "text/plain": [
       "RandomForestRegressor(bootstrap=True, criterion='mse', max_depth=None,\n",
       "           max_features='auto', max_leaf_nodes=None,\n",
       "           min_impurity_decrease=0.0, min_impurity_split=None,\n",
       "           min_samples_leaf=1, min_samples_split=2,\n",
       "           min_weight_fraction_leaf=0.0, n_estimators=10, n_jobs=None,\n",
       "           oob_score=False, random_state=None, verbose=0, warm_start=False)"
      ]
     },
     "execution_count": 19,
     "metadata": {},
     "output_type": "execute_result"
    }
   ],
   "source": [
    "from sklearn.ensemble import RandomForestRegressor\n",
    "randomforest = RandomForestRegressor()\n",
    "randomforest.fit(X_train,Y_train)"
   ]
  },
  {
   "cell_type": "code",
   "execution_count": 20,
   "metadata": {},
   "outputs": [
    {
     "name": "stdout",
     "output_type": "stream",
     "text": [
      "random forest l2 for test data is 0.10268616042568003 \n",
      " randdom forest l2 for training data is 0.018534579216167968\n",
      "random forest accuracy for test data is 0.7286777603883187 \n",
      " randdom forest accuracy for training data is 0.9482140361125597\n"
     ]
    }
   ],
   "source": [
    "from sklearn.metrics import mean_squared_error\n",
    "rand_error_var = mean_squared_error(Y_test, randomforest.predict(X_test))\n",
    "rand_error_bias = mean_squared_error(Y_train, randomforest.predict(X_train))\n",
    "rand_score_train = randomforest.score(X_train,Y_train)\n",
    "rand_score_test = randomforest.score(X_test,Y_test)\n",
    "print('random forest l2 for test data is',rand_error_var,'\\n randdom forest l2 for training data is',rand_error_bias)\n",
    "print('random forest accuracy for test data is',rand_score_test,'\\n randdom forest accuracy for training data is',rand_score_train)"
   ]
  },
  {
   "cell_type": "code",
   "execution_count": 21,
   "metadata": {},
   "outputs": [
    {
     "data": {
      "text/plain": [
       "DecisionTreeRegressor(criterion='mse', max_depth=None, max_features=None,\n",
       "           max_leaf_nodes=None, min_impurity_decrease=0.0,\n",
       "           min_impurity_split=None, min_samples_leaf=1,\n",
       "           min_samples_split=2, min_weight_fraction_leaf=0.0,\n",
       "           presort=False, random_state=None, splitter='best')"
      ]
     },
     "execution_count": 21,
     "metadata": {},
     "output_type": "execute_result"
    }
   ],
   "source": [
    "from sklearn.tree import DecisionTreeRegressor\n",
    "tree= DecisionTreeRegressor()\n",
    "tree.fit(X_train,Y_train)"
   ]
  },
  {
   "cell_type": "code",
   "execution_count": 22,
   "metadata": {},
   "outputs": [
    {
     "name": "stdout",
     "output_type": "stream",
     "text": [
      "Decisiontree Regressor l2 for test data is 0.18957183350738474 \n",
      " Decisiontree Regressor l2 for training data is 0.0\n",
      "Decisiontree Regressor score for test data is 0.49910431725857585 \n",
      " Decisiontree Regressor score for training data is 1.0\n"
     ]
    }
   ],
   "source": [
    "from sklearn.metrics import mean_squared_error\n",
    "tree_error_var = mean_squared_error(Y_test, tree.predict(X_test))\n",
    "tree_error_bias = mean_squared_error(Y_train, tree.predict(X_train))\n",
    "tree_score_train = tree.score(X_train,Y_train)\n",
    "tree_score_test = tree.score(X_test,Y_test)\n",
    "print('Decisiontree Regressor l2 for test data is',tree_error_var,'\\n Decisiontree Regressor l2 for training data is',tree_error_bias)\n",
    "print('Decisiontree Regressor score for test data is',tree_score_test,'\\n Decisiontree Regressor score for training data is',tree_score_train)"
   ]
  },
  {
   "cell_type": "code",
   "execution_count": 23,
   "metadata": {},
   "outputs": [
    {
     "name": "stderr",
     "output_type": "stream",
     "text": [
      "C:\\Users\\zahra\\Anaconda3\\lib\\site-packages\\sklearn\\ensemble\\bagging.py:397: DataConversionWarning: A column-vector y was passed when a 1d array was expected. Please change the shape of y to (n_samples, ), for example using ravel().\n",
      "  return column_or_1d(y, warn=True)\n"
     ]
    },
    {
     "data": {
      "text/plain": [
       "BaggingRegressor(base_estimator=None, bootstrap=True,\n",
       "         bootstrap_features=False, max_features=1.0, max_samples=1.0,\n",
       "         n_estimators=10, n_jobs=None, oob_score=False, random_state=None,\n",
       "         verbose=0, warm_start=False)"
      ]
     },
     "execution_count": 23,
     "metadata": {},
     "output_type": "execute_result"
    }
   ],
   "source": [
    "from sklearn.ensemble import BaggingRegressor\n",
    "bagging = BaggingRegressor()\n",
    "bagging.fit(X_train,Y_train)"
   ]
  },
  {
   "cell_type": "code",
   "execution_count": 24,
   "metadata": {},
   "outputs": [
    {
     "name": "stdout",
     "output_type": "stream",
     "text": [
      "Bagging Regressor l2 for test data is 0.10299005420458501 \n",
      " Bagging Regressor l2 for training data is 0.018109543535449475\n",
      "Bagging Regressor score for test data is 0.727874797843466 \n",
      " Bagging Regressor score for training data is 0.9494015938205526\n"
     ]
    }
   ],
   "source": [
    "bagging_error_var = mean_squared_error(Y_test, bagging.predict(X_test))\n",
    "bagging_error_bias = mean_squared_error(Y_train, bagging.predict(X_train))\n",
    "bagging_score_train = bagging.score(X_train,Y_train)\n",
    "bagging_score_test = bagging.score(X_test,Y_test)\n",
    "print('Bagging Regressor l2 for test data is',bagging_error_var,'\\n Bagging Regressor l2 for training data is',bagging_error_bias)\n",
    "print('Bagging Regressor score for test data is',bagging_score_test,'\\n Bagging Regressor score for training data is',bagging_score_train)"
   ]
  },
  {
   "cell_type": "code",
   "execution_count": 25,
   "metadata": {},
   "outputs": [
    {
     "data": {
      "text/plain": [
       "Ridge(alpha=1.0, copy_X=True, fit_intercept=True, max_iter=None,\n",
       "   normalize=False, random_state=None, solver='auto', tol=0.001)"
      ]
     },
     "execution_count": 25,
     "metadata": {},
     "output_type": "execute_result"
    }
   ],
   "source": [
    "from sklearn.linear_model import Ridge\n",
    "ridge = Ridge()\n",
    "ridge.fit(X_train,Y_train)"
   ]
  },
  {
   "cell_type": "code",
   "execution_count": 26,
   "metadata": {},
   "outputs": [
    {
     "name": "stdout",
     "output_type": "stream",
     "text": [
      "Ridge Regressor l2 for test data is 0.18816180605599125 \n",
      " Ridge Regressor l2 for training data is 0.171892445692285\n",
      "Ridge Regressor score for test data is 0.5028299586151141 \n",
      " Ridge Regressor score for training data is 0.519729264887792\n"
     ]
    }
   ],
   "source": [
    "ridge_error_var = mean_squared_error(Y_test, ridge.predict(X_test))\n",
    "ridge_error_bias = mean_squared_error(Y_train, ridge.predict(X_train))\n",
    "ridge_score_train = ridge.score(X_train,Y_train)\n",
    "ridge_score_test = ridge.score(X_test,Y_test)\n",
    "print('Ridge Regressor l2 for test data is',ridge_error_var,'\\n Ridge Regressor l2 for training data is',ridge_error_bias)\n",
    "print('Ridge Regressor score for test data is',ridge_score_test,'\\n Ridge Regressor score for training data is',ridge_score_train)"
   ]
  },
  {
   "cell_type": "code",
   "execution_count": 27,
   "metadata": {},
   "outputs": [
    {
     "name": "stderr",
     "output_type": "stream",
     "text": [
      "C:\\Users\\zahra\\Anaconda3\\lib\\site-packages\\sklearn\\linear_model\\stochastic_gradient.py:166: FutureWarning: max_iter and tol parameters have been added in SGDRegressor in 0.19. If both are left unset, they default to max_iter=5 and tol=None. If tol is not None, max_iter defaults to max_iter=1000. From 0.21, default max_iter will be 1000, and default tol will be 1e-3.\n",
      "  FutureWarning)\n",
      "C:\\Users\\zahra\\Anaconda3\\lib\\site-packages\\sklearn\\utils\\validation.py:761: DataConversionWarning: A column-vector y was passed when a 1d array was expected. Please change the shape of y to (n_samples, ), for example using ravel().\n",
      "  y = column_or_1d(y, warn=True)\n"
     ]
    },
    {
     "data": {
      "text/plain": [
       "SGDRegressor(alpha=0.0001, average=False, early_stopping=False, epsilon=0.1,\n",
       "       eta0=0.01, fit_intercept=True, l1_ratio=0.15,\n",
       "       learning_rate='invscaling', loss='squared_loss', max_iter=None,\n",
       "       n_iter=None, n_iter_no_change=5, penalty='l2', power_t=0.25,\n",
       "       random_state=None, shuffle=True, tol=None, validation_fraction=0.1,\n",
       "       verbose=0, warm_start=False)"
      ]
     },
     "execution_count": 27,
     "metadata": {},
     "output_type": "execute_result"
    }
   ],
   "source": [
    "from sklearn.linear_model import SGDRegressor\n",
    "sgd = SGDRegressor()\n",
    "sgd.fit(X_train,Y_train)"
   ]
  },
  {
   "cell_type": "code",
   "execution_count": 28,
   "metadata": {},
   "outputs": [
    {
     "name": "stdout",
     "output_type": "stream",
     "text": [
      "sgd Regressor l2 for test data is 4.962859533963799e+34 \n",
      " sgd Regressor l2 for training data is 5.369659276399112e+34\n",
      "sgd Regressor score for test data is -1.3113102662045763e+35 \n",
      " sgd Regressor score for training data is -1.5002929288672254e+35\n"
     ]
    }
   ],
   "source": [
    "sgd_error_var = mean_squared_error(Y_test, sgd.predict(X_test))\n",
    "sgd_error_bias = mean_squared_error(Y_train, sgd.predict(X_train))\n",
    "sgd_score_train = sgd.score(X_train,Y_train)\n",
    "sgd_score_test = sgd.score(X_test,Y_test)\n",
    "print('sgd Regressor l2 for test data is',sgd_error_var,'\\n sgd Regressor l2 for training data is',sgd_error_bias)\n",
    "print('sgd Regressor score for test data is',sgd_score_test,'\\n sgd Regressor score for training data is',sgd_score_train)"
   ]
  },
  {
   "cell_type": "code",
   "execution_count": 29,
   "metadata": {},
   "outputs": [
    {
     "data": {
      "text/plain": [
       "Lasso(alpha=1.0, copy_X=True, fit_intercept=True, max_iter=1000,\n",
       "   normalize=False, positive=False, precompute=False, random_state=None,\n",
       "   selection='cyclic', tol=0.0001, warm_start=False)"
      ]
     },
     "execution_count": 29,
     "metadata": {},
     "output_type": "execute_result"
    }
   ],
   "source": [
    "from sklearn.linear_model import Lasso\n",
    "lasso = Lasso()\n",
    "lasso.fit(X_train,Y_train)"
   ]
  },
  {
   "cell_type": "code",
   "execution_count": 32,
   "metadata": {},
   "outputs": [
    {
     "name": "stdout",
     "output_type": "stream",
     "text": [
      "lasso Regressor l2 for test data is 0.18727375838140878 \n",
      " lasso Regressor l2 for training data is 0.1721563915052147\n",
      "lasso Regressor score for test data is 0.5051764002675319 \n",
      " lasso Regressor score for training data is 0.5189917953085155\n"
     ]
    }
   ],
   "source": [
    "lasso_error_var = mean_squared_error(Y_test, lasso.predict(X_test))\n",
    "lasso_error_bias = mean_squared_error(Y_train, lasso.predict(X_train))\n",
    "lasso_score_train = lasso.score(X_train,Y_train)\n",
    "lasso_score_test = lasso.score(X_test,Y_test)\n",
    "print('lasso Regressor l2 for test data is',lasso_error_var,'\\n lasso Regressor l2 for training data is',lasso_error_bias)\n",
    "print('lasso Regressor score for test data is',lasso_score_test,'\\n lasso Regressor score for training data is',lasso_score_train)"
   ]
  },
  {
   "cell_type": "code",
   "execution_count": 33,
   "metadata": {},
   "outputs": [
    {
     "name": "stderr",
     "output_type": "stream",
     "text": [
      "C:\\Users\\zahra\\Anaconda3\\lib\\site-packages\\sklearn\\utils\\validation.py:761: DataConversionWarning: A column-vector y was passed when a 1d array was expected. Please change the shape of y to (n_samples, ), for example using ravel().\n",
      "  y = column_or_1d(y, warn=True)\n"
     ]
    },
    {
     "data": {
      "text/plain": [
       "AdaBoostRegressor(base_estimator=None, learning_rate=1.0, loss='linear',\n",
       "         n_estimators=50, random_state=None)"
      ]
     },
     "execution_count": 33,
     "metadata": {},
     "output_type": "execute_result"
    }
   ],
   "source": [
    "from sklearn.ensemble import AdaBoostRegressor\n",
    "adaboost = AdaBoostRegressor()\n",
    "adaboost.fit(X_train,Y_train)"
   ]
  },
  {
   "cell_type": "code",
   "execution_count": 34,
   "metadata": {},
   "outputs": [
    {
     "name": "stdout",
     "output_type": "stream",
     "text": [
      "adaboost Regressor l2 for test data is 3.0202827626879674 \n",
      " adaboost Regressor l2 for training data is 3.009216862248943\n",
      "adaboost Regressor score for test data is -6.980334253768829 \n",
      " adaboost Regressor score for training data is -7.407808666190951\n"
     ]
    }
   ],
   "source": [
    "adaboost_error_var = mean_squared_error(Y_test, adaboost.predict(X_test))\n",
    "adaboost_error_bias = mean_squared_error(Y_train, adaboost.predict(X_train))\n",
    "adaboost_score_train = adaboost.score(X_train,Y_train)\n",
    "adaboost_score_test = adaboost.score(X_test,Y_test)\n",
    "print('adaboost Regressor l2 for test data is',adaboost_error_var,'\\n adaboost Regressor l2 for training data is',adaboost_error_bias)\n",
    "print('adaboost Regressor score for test data is',adaboost_score_test,'\\n adaboost Regressor score for training data is',adaboost_score_train)"
   ]
  },
  {
   "cell_type": "code",
   "execution_count": 35,
   "metadata": {},
   "outputs": [
    {
     "data": {
      "text/plain": [
       "DummyRegressor(constant=None, quantile=None, strategy='mean')"
      ]
     },
     "execution_count": 35,
     "metadata": {},
     "output_type": "execute_result"
    }
   ],
   "source": [
    "from sklearn.dummy import DummyRegressor\n",
    "dummy = DummyRegressor(strategy = 'mean')\n",
    "dummy.fit(X_train,Y_train)"
   ]
  },
  {
   "cell_type": "code",
   "execution_count": 36,
   "metadata": {},
   "outputs": [
    {
     "name": "stdout",
     "output_type": "stream",
     "text": [
      "dummy Regressor l2 for test data is 0.3784657053558533 \n",
      " dummy Regressor l2 for training data is 0.35790739082223066\n",
      "dummy Regressor score for test data is -2.3057486586708364e-08 \n",
      " dummy Regressor score for training data is 0.0\n"
     ]
    }
   ],
   "source": [
    "dummy_error_var = mean_squared_error(Y_test, dummy.predict(X_test))\n",
    "dummy_error_bias = mean_squared_error(Y_train, dummy.predict(X_train))\n",
    "dummy_score_train = dummy.score(X_train,Y_train)\n",
    "dummy_score_test = dummy.score(X_test,Y_test)\n",
    "\n",
    "print('dummy Regressor l2 for test data is',dummy_error_var,'\\n dummy Regressor l2 for training data is',dummy_error_bias)\n",
    "print('dummy Regressor score for test data is',dummy_score_test,'\\n dummy Regressor score for training data is',dummy_score_train)"
   ]
  },
  {
   "cell_type": "code",
   "execution_count": 37,
   "metadata": {},
   "outputs": [],
   "source": [
    "from decimal import Decimal"
   ]
  },
  {
   "cell_type": "code",
   "execution_count": 40,
   "metadata": {},
   "outputs": [
    {
     "data": {
      "text/html": [
       "<div>\n",
       "<style scoped>\n",
       "    .dataframe tbody tr th:only-of-type {\n",
       "        vertical-align: middle;\n",
       "    }\n",
       "\n",
       "    .dataframe tbody tr th {\n",
       "        vertical-align: top;\n",
       "    }\n",
       "\n",
       "    .dataframe thead th {\n",
       "        text-align: right;\n",
       "    }\n",
       "</style>\n",
       "<table border=\"1\" class=\"dataframe\">\n",
       "  <thead>\n",
       "    <tr style=\"text-align: right;\">\n",
       "      <th></th>\n",
       "      <th>Regressor</th>\n",
       "      <th>train loss_l2</th>\n",
       "      <th>test loss_l2</th>\n",
       "      <th>train accuracy</th>\n",
       "      <th>test accuracy</th>\n",
       "    </tr>\n",
       "  </thead>\n",
       "  <tbody>\n",
       "    <tr>\n",
       "      <th>0</th>\n",
       "      <td>RandomForest</td>\n",
       "      <td>1.853458e-02</td>\n",
       "      <td>1.026862e-01</td>\n",
       "      <td>9.482140e-01</td>\n",
       "      <td>7.286778e-01</td>\n",
       "    </tr>\n",
       "    <tr>\n",
       "      <th>1</th>\n",
       "      <td>DecisionTree</td>\n",
       "      <td>0.000000e+00</td>\n",
       "      <td>1.895718e-01</td>\n",
       "      <td>1.000000e+00</td>\n",
       "      <td>4.991043e-01</td>\n",
       "    </tr>\n",
       "    <tr>\n",
       "      <th>2</th>\n",
       "      <td>Bagging</td>\n",
       "      <td>1.810954e-02</td>\n",
       "      <td>1.029901e-01</td>\n",
       "      <td>9.494016e-01</td>\n",
       "      <td>7.278748e-01</td>\n",
       "    </tr>\n",
       "    <tr>\n",
       "      <th>3</th>\n",
       "      <td>Ridge</td>\n",
       "      <td>1.718924e-01</td>\n",
       "      <td>1.881618e-01</td>\n",
       "      <td>5.197293e-01</td>\n",
       "      <td>5.028300e-01</td>\n",
       "    </tr>\n",
       "    <tr>\n",
       "      <th>4</th>\n",
       "      <td>SGD</td>\n",
       "      <td>5.369659e+34</td>\n",
       "      <td>4.962860e+34</td>\n",
       "      <td>-1.500293e+35</td>\n",
       "      <td>-1.311310e+35</td>\n",
       "    </tr>\n",
       "    <tr>\n",
       "      <th>5</th>\n",
       "      <td>Lasso</td>\n",
       "      <td>1.721564e-01</td>\n",
       "      <td>1.872738e-01</td>\n",
       "      <td>5.189918e-01</td>\n",
       "      <td>5.051764e-01</td>\n",
       "    </tr>\n",
       "    <tr>\n",
       "      <th>6</th>\n",
       "      <td>AdaBoost</td>\n",
       "      <td>3.009217e+00</td>\n",
       "      <td>3.020283e+00</td>\n",
       "      <td>-7.407809e+00</td>\n",
       "      <td>-6.980334e+00</td>\n",
       "    </tr>\n",
       "    <tr>\n",
       "      <th>7</th>\n",
       "      <td>dummy</td>\n",
       "      <td>3.579074e-01</td>\n",
       "      <td>3.784657e-01</td>\n",
       "      <td>0.000000e+00</td>\n",
       "      <td>-2.305749e-08</td>\n",
       "    </tr>\n",
       "  </tbody>\n",
       "</table>\n",
       "</div>"
      ],
      "text/plain": [
       "      Regressor  train loss_l2  test loss_l2  train accuracy  test accuracy\n",
       "0  RandomForest   1.853458e-02  1.026862e-01    9.482140e-01   7.286778e-01\n",
       "1  DecisionTree   0.000000e+00  1.895718e-01    1.000000e+00   4.991043e-01\n",
       "2       Bagging   1.810954e-02  1.029901e-01    9.494016e-01   7.278748e-01\n",
       "3         Ridge   1.718924e-01  1.881618e-01    5.197293e-01   5.028300e-01\n",
       "4           SGD   5.369659e+34  4.962860e+34   -1.500293e+35  -1.311310e+35\n",
       "5         Lasso   1.721564e-01  1.872738e-01    5.189918e-01   5.051764e-01\n",
       "6      AdaBoost   3.009217e+00  3.020283e+00   -7.407809e+00  -6.980334e+00\n",
       "7         dummy   3.579074e-01  3.784657e-01    0.000000e+00  -2.305749e-08"
      ]
     },
     "execution_count": 40,
     "metadata": {},
     "output_type": "execute_result"
    }
   ],
   "source": [
    "\n",
    "tab = {'Regressor' : ['RandomForest' , 'DecisionTree' , 'Bagging' , 'Ridge' , 'SGD' , 'Lasso' , 'AdaBoost' , 'dummy' ]  ,\n",
    "       'train loss_l2' :[rand_error_bias , tree_error_bias,bagging_error_bias,ridge_error_bias,sgd_error_bias,lasso_error_bias,adaboost_error_bias,dummy_error_bias],\n",
    "       'test loss_l2' : [rand_error_var , tree_error_var,bagging_error_var,ridge_error_var,sgd_error_var,lasso_error_var,adaboost_error_var,dummy_error_var],\n",
    "      'train accuracy': [rand_score_train , tree_score_train , bagging_score_train , ridge_score_train, sgd_score_train, lasso_score_train , adaboost_score_train,\n",
    "                        dummy_score_train], 'test accuracy': [rand_score_test , tree_score_test , bagging_score_test , ridge_score_test, sgd_score_test, lasso_score_test , adaboost_score_test,\n",
    "                        dummy_score_test]}\n",
    "\n",
    "table = pd.DataFrame(data = tab)\n",
    "table.head(8)"
   ]
  },
  {
   "cell_type": "code",
   "execution_count": 46,
   "metadata": {},
   "outputs": [
    {
     "data": {
      "text/html": [
       "<div>\n",
       "<style scoped>\n",
       "    .dataframe tbody tr th:only-of-type {\n",
       "        vertical-align: middle;\n",
       "    }\n",
       "\n",
       "    .dataframe tbody tr th {\n",
       "        vertical-align: top;\n",
       "    }\n",
       "\n",
       "    .dataframe thead th {\n",
       "        text-align: right;\n",
       "    }\n",
       "</style>\n",
       "<table border=\"1\" class=\"dataframe\">\n",
       "  <thead>\n",
       "    <tr style=\"text-align: right;\">\n",
       "      <th></th>\n",
       "      <th>Regressor</th>\n",
       "      <th>train loss_l2</th>\n",
       "      <th>test loss_l2</th>\n",
       "      <th>train accuracy</th>\n",
       "      <th>test accuracy</th>\n",
       "    </tr>\n",
       "  </thead>\n",
       "  <tbody>\n",
       "    <tr>\n",
       "      <th>0</th>\n",
       "      <td>RandomForest</td>\n",
       "      <td>0.018534579216167968</td>\n",
       "      <td>0.10268616042568003</td>\n",
       "      <td>0.9482140361125597</td>\n",
       "      <td>0.7286777603883187</td>\n",
       "    </tr>\n",
       "    <tr>\n",
       "      <th>1</th>\n",
       "      <td>DecisionTree</td>\n",
       "      <td>0.0</td>\n",
       "      <td>0.18957183350738474</td>\n",
       "      <td>1.0</td>\n",
       "      <td>0.49910431725857585</td>\n",
       "    </tr>\n",
       "    <tr>\n",
       "      <th>2</th>\n",
       "      <td>Bagging</td>\n",
       "      <td>0.018109543535449475</td>\n",
       "      <td>0.10299005420458501</td>\n",
       "      <td>0.9494015938205526</td>\n",
       "      <td>0.727874797843466</td>\n",
       "    </tr>\n",
       "    <tr>\n",
       "      <th>3</th>\n",
       "      <td>Ridge</td>\n",
       "      <td>0.171892445692285</td>\n",
       "      <td>0.18816180605599125</td>\n",
       "      <td>0.519729264887792</td>\n",
       "      <td>0.5028299586151141</td>\n",
       "    </tr>\n",
       "    <tr>\n",
       "      <th>4</th>\n",
       "      <td>SGD</td>\n",
       "      <td>5.369659276399112e+34</td>\n",
       "      <td>4.962859533963799e+34</td>\n",
       "      <td>-1.5002929288672254e+35</td>\n",
       "      <td>-1.3113102662045763e+35</td>\n",
       "    </tr>\n",
       "    <tr>\n",
       "      <th>5</th>\n",
       "      <td>Lasso</td>\n",
       "      <td>0.1721563915052147</td>\n",
       "      <td>0.18727375838140878</td>\n",
       "      <td>0.5189917953085155</td>\n",
       "      <td>0.5051764002675319</td>\n",
       "    </tr>\n",
       "    <tr>\n",
       "      <th>6</th>\n",
       "      <td>AdaBoost</td>\n",
       "      <td>3.009216862248943</td>\n",
       "      <td>3.0202827626879674</td>\n",
       "      <td>-7.407808666190951</td>\n",
       "      <td>-6.980334253768829</td>\n",
       "    </tr>\n",
       "    <tr>\n",
       "      <th>7</th>\n",
       "      <td>dummy</td>\n",
       "      <td>0.35790739082223066</td>\n",
       "      <td>0.3784657053558533</td>\n",
       "      <td>0.0</td>\n",
       "      <td>-2.3057486586708364e-08</td>\n",
       "    </tr>\n",
       "  </tbody>\n",
       "</table>\n",
       "</div>"
      ],
      "text/plain": [
       "      Regressor          train loss_l2           test loss_l2  \\\n",
       "0  RandomForest   0.018534579216167968    0.10268616042568003   \n",
       "1  DecisionTree                    0.0    0.18957183350738474   \n",
       "2       Bagging   0.018109543535449475    0.10299005420458501   \n",
       "3         Ridge      0.171892445692285    0.18816180605599125   \n",
       "4           SGD  5.369659276399112e+34  4.962859533963799e+34   \n",
       "5         Lasso     0.1721563915052147    0.18727375838140878   \n",
       "6      AdaBoost      3.009216862248943     3.0202827626879674   \n",
       "7         dummy    0.35790739082223066     0.3784657053558533   \n",
       "\n",
       "            train accuracy            test accuracy  \n",
       "0       0.9482140361125597       0.7286777603883187  \n",
       "1                      1.0      0.49910431725857585  \n",
       "2       0.9494015938205526        0.727874797843466  \n",
       "3        0.519729264887792       0.5028299586151141  \n",
       "4  -1.5002929288672254e+35  -1.3113102662045763e+35  \n",
       "5       0.5189917953085155       0.5051764002675319  \n",
       "6       -7.407808666190951       -6.980334253768829  \n",
       "7                      0.0  -2.3057486586708364e-08  "
      ]
     },
     "execution_count": 46,
     "metadata": {},
     "output_type": "execute_result"
    }
   ],
   "source": [
    "\n",
    "tab = {'Regressor' : ['RandomForest' , 'DecisionTree' , 'Bagging' , 'Ridge' , 'SGD' , 'Lasso' , 'AdaBoost' , 'dummy' ]  ,\n",
    "       'train loss_l2' :[str(rand_error_bias).replace(',','.') , str(tree_error_bias).replace(',','.'),str(bagging_error_bias).replace(',','.'),str(ridge_error_bias).replace(',','.'),str(sgd_error_bias).replace(',','.'),str(lasso_error_bias).replace(',','.'),str(adaboost_error_bias).replace(',','.'),str(dummy_error_bias).replace(',','.')],\n",
    "       'test loss_l2' : [str(rand_error_var).replace(',','.') , str(tree_error_var).replace(',','.'),str(bagging_error_var).replace(',','.'),str(ridge_error_var).replace(',','.'),str(sgd_error_var).replace(',','.'),str(lasso_error_var).replace(',','.'),str(adaboost_error_var).replace(',','.'),str(dummy_error_var).replace(',','.')],\n",
    "      'train accuracy': [str(rand_score_train).replace(',','.') , str(tree_score_train).replace(',','.') , str(bagging_score_train).replace(',','.') , str(ridge_score_train).replace(',','.'), str(sgd_score_train).replace(',','.'), str(lasso_score_train).replace(',','.') , str(adaboost_score_train).replace(',','.'),\n",
    "                        str(dummy_score_train).replace(',','.')], 'test accuracy': [str(rand_score_test).replace(',','.') , str(tree_score_test).replace(',','.') ,str( bagging_score_test).replace(',', '.') , str(ridge_score_test).replace(',' , '.'), str(sgd_score_test).replace(',' , '.'),str(lasso_score_test).replace(',' , '.') , str(adaboost_score_test).replace(',','.')\n",
    "                        ,str(dummy_score_test).replace(',','.')]}\n",
    "\n",
    "table = pd.DataFrame(data = tab)\n",
    "table.head(8)"
   ]
  },
  {
   "cell_type": "code",
   "execution_count": null,
   "metadata": {},
   "outputs": [],
   "source": []
  }
 ],
 "metadata": {
  "kernelspec": {
   "display_name": "Python 3",
   "language": "python",
   "name": "python3"
  },
  "language_info": {
   "codemirror_mode": {
    "name": "ipython",
    "version": 3
   },
   "file_extension": ".py",
   "mimetype": "text/x-python",
   "name": "python",
   "nbconvert_exporter": "python",
   "pygments_lexer": "ipython3",
   "version": "3.7.1"
  }
 },
 "nbformat": 4,
 "nbformat_minor": 2
}
