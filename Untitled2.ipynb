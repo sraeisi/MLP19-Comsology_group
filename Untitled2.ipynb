{
  "nbformat": 4,
  "nbformat_minor": 0,
  "metadata": {
    "colab": {
      "name": "Untitled2.ipynb",
      "version": "0.3.2",
      "provenance": [],
      "collapsed_sections": [],
      "include_colab_link": true
    },
    "kernelspec": {
      "name": "python3",
      "display_name": "Python 3"
    }
  },
  "cells": [
    {
      "cell_type": "markdown",
      "metadata": {
        "id": "view-in-github",
        "colab_type": "text"
      },
      "source": [
        "<a href=\"https://colab.research.google.com/github/sraeisi/MLP19-Comsology_group/blob/zahrabaghkhani-patch-1/Untitled2.ipynb\" target=\"_parent\"><img src=\"https://colab.research.google.com/assets/colab-badge.svg\" alt=\"Open In Colab\"/></a>"
      ]
    },
    {
      "cell_type": "code",
      "metadata": {
        "id": "11N5UTY8q733",
        "colab_type": "code",
        "colab": {}
      },
      "source": [
        "import numpy as np\n",
        "import pandas as pd\n",
        "import matplotlib.pyplot as plt"
      ],
      "execution_count": 0,
      "outputs": []
    },
    {
      "cell_type": "code",
      "metadata": {
        "id": "ZxbWO3Qj66oE",
        "colab_type": "code",
        "colab": {}
      },
      "source": [
        "def get(path):\n",
        "    headers = {\"api-key\":\"0d4b1b3b7fffcb0819f78ddbf8a8209e\"}\n",
        "    r = requests.get(path,  headers=headers)\n",
        "    r.raise_for_status()\n",
        "    if r.headers['content-type'] == 'application/json':\n",
        "        return r.json()\n",
        "    if 'content-disposition' in r.headers:\n",
        "        filename = r.headers['content-disposition'].split(\"filename=\")[1]\n",
        "        with open(filename, 'wb') as f:\n",
        "            f.write(r.content)\n",
        "        return filename\n",
        "    return r"
      ],
      "execution_count": 0,
      "outputs": []
    },
    {
      "cell_type": "code",
      "metadata": {
        "id": "jNIAvpyV7iof",
        "colab_type": "code",
        "colab": {}
      },
      "source": [
        "url = \"http://www.illustris-project.org/api/Illustris-3/files/groupcat-135/?Subhalo=SubhaloPos\"\n",
        "data = get2(url)\n",
        "import h5py\n",
        "subhalo_data = h5py.File(data,'r')"
      ],
      "execution_count": 0,
      "outputs": []
    },
    {
      "cell_type": "code",
      "metadata": {
        "id": "bg9yXK837_KQ",
        "colab_type": "code",
        "colab": {
          "base_uri": "https://localhost:8080/",
          "height": 376
        },
        "outputId": "97027828-4538-4570-b8e9-197fcf625d2e"
      },
      "source": [
        "head_subhalo = subhalo_data['Subhalo']\n",
        "data_subhalo = np.array(head_subhalo['SubhaloPos'])\n",
        "print(data_subhalo.shape)\n",
        "position = pd.DataFrame(data_subhalo)\n",
        "position.columns = ['x' , 'y' , 'z']\n",
        "position.head(10)"
      ],
      "execution_count": 75,
      "outputs": [
        {
          "output_type": "stream",
          "text": [
            "(111992, 3)\n"
          ],
          "name": "stdout"
        },
        {
          "output_type": "execute_result",
          "data": {
            "text/html": [
              "<div>\n",
              "<style scoped>\n",
              "    .dataframe tbody tr th:only-of-type {\n",
              "        vertical-align: middle;\n",
              "    }\n",
              "\n",
              "    .dataframe tbody tr th {\n",
              "        vertical-align: top;\n",
              "    }\n",
              "\n",
              "    .dataframe thead th {\n",
              "        text-align: right;\n",
              "    }\n",
              "</style>\n",
              "<table border=\"1\" class=\"dataframe\">\n",
              "  <thead>\n",
              "    <tr style=\"text-align: right;\">\n",
              "      <th></th>\n",
              "      <th>x</th>\n",
              "      <th>y</th>\n",
              "      <th>z</th>\n",
              "    </tr>\n",
              "  </thead>\n",
              "  <tbody>\n",
              "    <tr>\n",
              "      <th>0</th>\n",
              "      <td>900.425293</td>\n",
              "      <td>26286.689453</td>\n",
              "      <td>18321.949219</td>\n",
              "    </tr>\n",
              "    <tr>\n",
              "      <th>1</th>\n",
              "      <td>181.120392</td>\n",
              "      <td>24638.792969</td>\n",
              "      <td>16896.896484</td>\n",
              "    </tr>\n",
              "    <tr>\n",
              "      <th>2</th>\n",
              "      <td>826.923584</td>\n",
              "      <td>26747.314453</td>\n",
              "      <td>17363.390625</td>\n",
              "    </tr>\n",
              "    <tr>\n",
              "      <th>3</th>\n",
              "      <td>1492.193726</td>\n",
              "      <td>26514.935547</td>\n",
              "      <td>19381.691406</td>\n",
              "    </tr>\n",
              "    <tr>\n",
              "      <th>4</th>\n",
              "      <td>839.730957</td>\n",
              "      <td>26543.013672</td>\n",
              "      <td>15552.993164</td>\n",
              "    </tr>\n",
              "    <tr>\n",
              "      <th>5</th>\n",
              "      <td>267.409637</td>\n",
              "      <td>26475.843750</td>\n",
              "      <td>15855.078125</td>\n",
              "    </tr>\n",
              "    <tr>\n",
              "      <th>6</th>\n",
              "      <td>963.795166</td>\n",
              "      <td>26495.972656</td>\n",
              "      <td>17794.994141</td>\n",
              "    </tr>\n",
              "    <tr>\n",
              "      <th>7</th>\n",
              "      <td>1171.580200</td>\n",
              "      <td>26447.220703</td>\n",
              "      <td>18336.576172</td>\n",
              "    </tr>\n",
              "    <tr>\n",
              "      <th>8</th>\n",
              "      <td>74993.562500</td>\n",
              "      <td>24189.980469</td>\n",
              "      <td>16774.009766</td>\n",
              "    </tr>\n",
              "    <tr>\n",
              "      <th>9</th>\n",
              "      <td>1632.506470</td>\n",
              "      <td>25474.320312</td>\n",
              "      <td>18378.683594</td>\n",
              "    </tr>\n",
              "  </tbody>\n",
              "</table>\n",
              "</div>"
            ],
            "text/plain": [
              "              x             y             z\n",
              "0    900.425293  26286.689453  18321.949219\n",
              "1    181.120392  24638.792969  16896.896484\n",
              "2    826.923584  26747.314453  17363.390625\n",
              "3   1492.193726  26514.935547  19381.691406\n",
              "4    839.730957  26543.013672  15552.993164\n",
              "5    267.409637  26475.843750  15855.078125\n",
              "6    963.795166  26495.972656  17794.994141\n",
              "7   1171.580200  26447.220703  18336.576172\n",
              "8  74993.562500  24189.980469  16774.009766\n",
              "9   1632.506470  25474.320312  18378.683594"
            ]
          },
          "metadata": {
            "tags": []
          },
          "execution_count": 75
        }
      ]
    },
    {
      "cell_type": "code",
      "metadata": {
        "id": "PVLCzH0ad-rv",
        "colab_type": "code",
        "colab": {
          "base_uri": "https://localhost:8080/",
          "height": 359
        },
        "outputId": "677a9f17-becd-4d40-d30b-fb8b52844f52"
      },
      "source": [
        "def process(position):\n",
        "    position['x_b'] = np.floor(position['x']/(75000/100))\n",
        "    position['y_b'] = np.floor(position['y']/(75000/100))\n",
        "    position['z_b'] = np.floor(position['z']/(75000/100))\n",
        "    position['x_b'] = position['x_b'].astype(int)\n",
        "    position['y_b'] = position['y_b'].astype(int)\n",
        "    position['z_b'] = position['z_b'].astype(int)\n",
        "    \n",
        "    \n",
        "    return position\n",
        "    \n",
        "position = process(position)\n",
        "position['c'] = 1\n",
        "position.head(10)"
      ],
      "execution_count": 76,
      "outputs": [
        {
          "output_type": "execute_result",
          "data": {
            "text/html": [
              "<div>\n",
              "<style scoped>\n",
              "    .dataframe tbody tr th:only-of-type {\n",
              "        vertical-align: middle;\n",
              "    }\n",
              "\n",
              "    .dataframe tbody tr th {\n",
              "        vertical-align: top;\n",
              "    }\n",
              "\n",
              "    .dataframe thead th {\n",
              "        text-align: right;\n",
              "    }\n",
              "</style>\n",
              "<table border=\"1\" class=\"dataframe\">\n",
              "  <thead>\n",
              "    <tr style=\"text-align: right;\">\n",
              "      <th></th>\n",
              "      <th>x</th>\n",
              "      <th>y</th>\n",
              "      <th>z</th>\n",
              "      <th>x_b</th>\n",
              "      <th>y_b</th>\n",
              "      <th>z_b</th>\n",
              "      <th>c</th>\n",
              "    </tr>\n",
              "  </thead>\n",
              "  <tbody>\n",
              "    <tr>\n",
              "      <th>0</th>\n",
              "      <td>900.425293</td>\n",
              "      <td>26286.689453</td>\n",
              "      <td>18321.949219</td>\n",
              "      <td>1</td>\n",
              "      <td>35</td>\n",
              "      <td>24</td>\n",
              "      <td>1</td>\n",
              "    </tr>\n",
              "    <tr>\n",
              "      <th>1</th>\n",
              "      <td>181.120392</td>\n",
              "      <td>24638.792969</td>\n",
              "      <td>16896.896484</td>\n",
              "      <td>0</td>\n",
              "      <td>32</td>\n",
              "      <td>22</td>\n",
              "      <td>1</td>\n",
              "    </tr>\n",
              "    <tr>\n",
              "      <th>2</th>\n",
              "      <td>826.923584</td>\n",
              "      <td>26747.314453</td>\n",
              "      <td>17363.390625</td>\n",
              "      <td>1</td>\n",
              "      <td>35</td>\n",
              "      <td>23</td>\n",
              "      <td>1</td>\n",
              "    </tr>\n",
              "    <tr>\n",
              "      <th>3</th>\n",
              "      <td>1492.193726</td>\n",
              "      <td>26514.935547</td>\n",
              "      <td>19381.691406</td>\n",
              "      <td>1</td>\n",
              "      <td>35</td>\n",
              "      <td>25</td>\n",
              "      <td>1</td>\n",
              "    </tr>\n",
              "    <tr>\n",
              "      <th>4</th>\n",
              "      <td>839.730957</td>\n",
              "      <td>26543.013672</td>\n",
              "      <td>15552.993164</td>\n",
              "      <td>1</td>\n",
              "      <td>35</td>\n",
              "      <td>20</td>\n",
              "      <td>1</td>\n",
              "    </tr>\n",
              "    <tr>\n",
              "      <th>5</th>\n",
              "      <td>267.409637</td>\n",
              "      <td>26475.843750</td>\n",
              "      <td>15855.078125</td>\n",
              "      <td>0</td>\n",
              "      <td>35</td>\n",
              "      <td>21</td>\n",
              "      <td>1</td>\n",
              "    </tr>\n",
              "    <tr>\n",
              "      <th>6</th>\n",
              "      <td>963.795166</td>\n",
              "      <td>26495.972656</td>\n",
              "      <td>17794.994141</td>\n",
              "      <td>1</td>\n",
              "      <td>35</td>\n",
              "      <td>23</td>\n",
              "      <td>1</td>\n",
              "    </tr>\n",
              "    <tr>\n",
              "      <th>7</th>\n",
              "      <td>1171.580200</td>\n",
              "      <td>26447.220703</td>\n",
              "      <td>18336.576172</td>\n",
              "      <td>1</td>\n",
              "      <td>35</td>\n",
              "      <td>24</td>\n",
              "      <td>1</td>\n",
              "    </tr>\n",
              "    <tr>\n",
              "      <th>8</th>\n",
              "      <td>74993.562500</td>\n",
              "      <td>24189.980469</td>\n",
              "      <td>16774.009766</td>\n",
              "      <td>99</td>\n",
              "      <td>32</td>\n",
              "      <td>22</td>\n",
              "      <td>1</td>\n",
              "    </tr>\n",
              "    <tr>\n",
              "      <th>9</th>\n",
              "      <td>1632.506470</td>\n",
              "      <td>25474.320312</td>\n",
              "      <td>18378.683594</td>\n",
              "      <td>2</td>\n",
              "      <td>33</td>\n",
              "      <td>24</td>\n",
              "      <td>1</td>\n",
              "    </tr>\n",
              "  </tbody>\n",
              "</table>\n",
              "</div>"
            ],
            "text/plain": [
              "              x             y             z  x_b  y_b  z_b  c\n",
              "0    900.425293  26286.689453  18321.949219    1   35   24  1\n",
              "1    181.120392  24638.792969  16896.896484    0   32   22  1\n",
              "2    826.923584  26747.314453  17363.390625    1   35   23  1\n",
              "3   1492.193726  26514.935547  19381.691406    1   35   25  1\n",
              "4    839.730957  26543.013672  15552.993164    1   35   20  1\n",
              "5    267.409637  26475.843750  15855.078125    0   35   21  1\n",
              "6    963.795166  26495.972656  17794.994141    1   35   23  1\n",
              "7   1171.580200  26447.220703  18336.576172    1   35   24  1\n",
              "8  74993.562500  24189.980469  16774.009766   99   32   22  1\n",
              "9   1632.506470  25474.320312  18378.683594    2   33   24  1"
            ]
          },
          "metadata": {
            "tags": []
          },
          "execution_count": 76
        }
      ]
    },
    {
      "cell_type": "code",
      "metadata": {
        "id": "2nQqNtvwe62v",
        "colab_type": "code",
        "colab": {
          "base_uri": "https://localhost:8080/",
          "height": 51
        },
        "outputId": "0543a505-e461-4b64-cf86-4b0851bcd8b1"
      },
      "source": [
        "counts = position.groupby(['x_b' , 'y_b' , 'z_b'])['c'].count().reset_index(name = \"count\")\n",
        "counts.head(180)\n",
        "print(position.shape)\n",
        "print(counts.shape)"
      ],
      "execution_count": 77,
      "outputs": [
        {
          "output_type": "stream",
          "text": [
            "(111992, 7)\n",
            "(68353, 4)\n"
          ],
          "name": "stdout"
        }
      ]
    },
    {
      "cell_type": "code",
      "metadata": {
        "id": "3d4wMDpOiznI",
        "colab_type": "code",
        "colab": {
          "base_uri": "https://localhost:8080/",
          "height": 34
        },
        "outputId": "b719b884-e11e-49e4-df93-3f490a748a6c"
      },
      "source": [
        "def dataframe_to_array(data , shape):\n",
        "    ids = np.ravel_multi_index(data[['x_b' , 'y_b' , 'z_b']].values.T , shape)\n",
        "    val = data['count'].values\n",
        "    return np.bincount(ids , val , minlength = np.prod(shape)).reshape(shape)\n",
        "arr_subhalo = dataframe_to_array(counts , (100,100,100))\n",
        "\n",
        "print(arr_subhalo.shape)\n"
      ],
      "execution_count": 79,
      "outputs": [
        {
          "output_type": "stream",
          "text": [
            "(100, 100, 100)\n"
          ],
          "name": "stdout"
        }
      ]
    },
    {
      "cell_type": "code",
      "metadata": {
        "id": "jtBkDFUlrY7Z",
        "colab_type": "code",
        "colab": {}
      },
      "source": [
        "\n",
        "def get2(path, params=None):\n",
        "    headers = {\"api-key\":\"0d4b1b3b7fffcb0819f78ddbf8a8209e\"}\n",
        "    r = requests.get(path, params=params, headers=headers)\n",
        "    r.raise_for_status()\n",
        "    if r.headers['content-type'] == 'application/json':\n",
        "        return r.json()\n",
        "    if 'content-disposition' in r.headers:\n",
        "        filename = r.headers['content-disposition'].split(\"filename=\")[1]\n",
        "        with open(filename, 'wb') as f:\n",
        "            f.write(r.content)\n",
        "        return filename\n",
        "    return r\n",
        "\n",
        "params = {'dm':'Coordinates'}\n",
        "\n",
        "\n",
        "url_dm0 = \"http://www.illustris-project.org/api/Illustris-3-dark/files/snapshot-135.0.hdf5\"\n",
        "\n",
        "url_dm1 = \"http://www.illustris-project.org/api/Illustris-3-dark/files/snapshot-135.1.hdf5\"\n",
        "url_dm2 = \"http://www.illustris-project.org/api/Illustris-3-dark/files/snapshot-135.2.hdf5\"\n",
        "url_dm3 = \"http://www.illustris-project.org/api/Illustris-3-dark/files/snapshot-135.3.hdf5\"\n",
        "url_dm4 = \"http://www.illustris-project.org/api/Illustris-3-dark/files/snapshot-135.4.hdf5\"\n",
        "url_dm5 = \"http://www.illustris-project.org/api/Illustris-3-dark/files/snapshot-135.5.hdf5\"\n",
        "url_dm6 = \"http://www.illustris-project.org/api/Illustris-3-dark/files/snapshot-135.6.hdf5\"\n",
        "url_dm7 = \"http://www.illustris-project.org/api/Illustris-3-dark/files/snapshot-135.7.hdf5\"\n",
        "\n",
        "data0=get2(url_dm0,params)\n",
        "data1=get2(url_dm1,params)\n",
        "data2=get2(url_dm2,params)\n",
        "data3=get2(url_dm3,params)\n",
        "data4=get2(url_dm4,params)\n",
        "data5=get2(url_dm5,params)\n",
        "data6=get2(url_dm6,params)\n",
        "data7=get2(url_dm7,params)\n"
      ],
      "execution_count": 0,
      "outputs": []
    },
    {
      "cell_type": "code",
      "metadata": {
        "id": "bZkpUtbdxKPl",
        "colab_type": "code",
        "colab": {}
      },
      "source": [
        "dm_data0 = h5py.File(data0 , 'r')\n",
        "dm_data1 = h5py.File(data1 , 'r')\n",
        "dm_data2 = h5py.File(data2 , 'r')\n",
        "dm_data3 = h5py.File(data3 , 'r')\n",
        "dm_data4 = h5py.File(data4 , 'r')\n",
        "dm_data5 =h5py.File(data5 , 'r')\n",
        "dm_data6 =h5py.File(data6 , 'r')\n",
        "dm_data7 = h5py.File(data7 , 'r')\n"
      ],
      "execution_count": 0,
      "outputs": []
    },
    {
      "cell_type": "code",
      "metadata": {
        "id": "g-bPi950PMQ8",
        "colab_type": "code",
        "colab": {}
      },
      "source": [
        "head_dm0 = dm_data0['PartType1']\n",
        "data_dm_0 = head_dm0['Coordinates']\n",
        "X_pos_dm_0 = data_dm_0[:,0]\n",
        "Y_pos_dm_0 = data_dm_0[:,1]\n",
        "Z_pos_dm_0 = data_dm_0[:,2]\n",
        "\n",
        "head_dm1 = dm_data1['PartType1']\n",
        "data_dm_1 = head_dm1['Coordinates']\n",
        "X_pos_dm_1 = data_dm_1[:,0]\n",
        "Y_pos_dm_1 = data_dm_1[:,1]\n",
        "Z_pos_dm_1 = data_dm_1[:,2]\n",
        "\n",
        "head_dm2 = dm_data2['PartType1']\n",
        "data_dm_2 = head_dm2['Coordinates']\n",
        "X_pos_dm_2 = data_dm_2[:,0]\n",
        "Y_pos_dm_2 = data_dm_2[:,1]\n",
        "Z_pos_dm_2 = data_dm_2[:,2]\n",
        "\n",
        "head_dm3 = dm_data3['PartType1']\n",
        "data_dm_3 = head_dm3['Coordinates']\n",
        "X_pos_dm_3 = data_dm_3[:,0]\n",
        "Y_pos_dm_3 = data_dm_3[:,1]\n",
        "Z_pos_dm_3 = data_dm_3[:,2]\n",
        "\n",
        "head_dm4= dm_data4['PartType1']\n",
        "data_dm_4 = head_dm4['Coordinates']\n",
        "X_pos_dm_4 = data_dm_4[:,0]\n",
        "Y_pos_dm_4 = data_dm_4[:,1]\n",
        "Z_pos_dm_4 = data_dm_4[:,2]\n",
        "\n",
        "head_dm5 = dm_data5['PartType1']\n",
        "data_dm_5 = head_dm5['Coordinates']\n",
        "X_pos_dm_5 = data_dm_5[:,0]\n",
        "Y_pos_dm_5 = data_dm_5[:,1]\n",
        "Z_pos_dm_5 = data_dm_5[:,2]\n",
        "\n",
        "head_dm6 = dm_data6['PartType1']\n",
        "data_dm_6= head_dm6['Coordinates']\n",
        "X_pos_dm_6 = data_dm_6[:,0]\n",
        "Y_pos_dm_6 = data_dm_6[:,1]\n",
        "Z_pos_dm_6 = data_dm_6[:,2]\n",
        "\n",
        "head_dm7 = dm_data7['PartType1']\n",
        "data_dm_7 = head_dm7['Coordinates']\n",
        "X_pos_dm_7 = data_dm_7[:,0]\n",
        "Y_pos_dm_7 = data_dm_7[:,1]\n",
        "Z_pos_dm_7 = data_dm_7[:,2]"
      ],
      "execution_count": 0,
      "outputs": []
    },
    {
      "cell_type": "code",
      "metadata": {
        "id": "BmSyOY4-QgB1",
        "colab_type": "code",
        "colab": {
          "base_uri": "https://localhost:8080/",
          "height": 34
        },
        "outputId": "95827d4f-5ca6-41f1-c198-50260212b4d2"
      },
      "source": [
        "#merging hdf5 files\n",
        "X_pos_dm = np.hstack((X_pos_dm_0,X_pos_dm_1,X_pos_dm_2,X_pos_dm_3,X_pos_dm_4,X_pos_dm_5,X_pos_dm_6,X_pos_dm_7))\n",
        "Y_pos_dm = np.hstack((Y_pos_dm_0,Y_pos_dm_1,Y_pos_dm_2,Y_pos_dm_3,Y_pos_dm_4,Y_pos_dm_5,Y_pos_dm_6,Y_pos_dm_7))\n",
        "Z_pos_dm = np.hstack((Z_pos_dm_0,Z_pos_dm_1,Z_pos_dm_2,Z_pos_dm_3,Z_pos_dm_4,Z_pos_dm_5,Z_pos_dm_6,Z_pos_dm_7))\n",
        "\n",
        "\n",
        "X_pos_dm.shape"
      ],
      "execution_count": 67,
      "outputs": [
        {
          "output_type": "execute_result",
          "data": {
            "text/plain": [
              "(94196375,)"
            ]
          },
          "metadata": {
            "tags": []
          },
          "execution_count": 67
        }
      ]
    },
    {
      "cell_type": "code",
      "metadata": {
        "id": "UCFGoasjdf51",
        "colab_type": "code",
        "colab": {
          "base_uri": "https://localhost:8080/",
          "height": 204
        },
        "outputId": "b0b58c99-3575-4aa7-8138-fc991e063553"
      },
      "source": [
        "import pandas as pd\n",
        "dm_data = {'X' : X_pos_dm , 'Y' : Y_pos_dm , 'Z' : Z_pos_dm} \n",
        "df_dm = pd.DataFrame(data = dm_data)\n",
        "df_dm.head()"
      ],
      "execution_count": 61,
      "outputs": [
        {
          "output_type": "execute_result",
          "data": {
            "text/html": [
              "<div>\n",
              "<style scoped>\n",
              "    .dataframe tbody tr th:only-of-type {\n",
              "        vertical-align: middle;\n",
              "    }\n",
              "\n",
              "    .dataframe tbody tr th {\n",
              "        vertical-align: top;\n",
              "    }\n",
              "\n",
              "    .dataframe thead th {\n",
              "        text-align: right;\n",
              "    }\n",
              "</style>\n",
              "<table border=\"1\" class=\"dataframe\">\n",
              "  <thead>\n",
              "    <tr style=\"text-align: right;\">\n",
              "      <th></th>\n",
              "      <th>X</th>\n",
              "      <th>Y</th>\n",
              "      <th>Z</th>\n",
              "    </tr>\n",
              "  </thead>\n",
              "  <tbody>\n",
              "    <tr>\n",
              "      <th>0</th>\n",
              "      <td>860.278625</td>\n",
              "      <td>26320.939453</td>\n",
              "      <td>18281.757812</td>\n",
              "    </tr>\n",
              "    <tr>\n",
              "      <th>1</th>\n",
              "      <td>862.896790</td>\n",
              "      <td>26320.160156</td>\n",
              "      <td>18283.193359</td>\n",
              "    </tr>\n",
              "    <tr>\n",
              "      <th>2</th>\n",
              "      <td>859.645874</td>\n",
              "      <td>26324.167969</td>\n",
              "      <td>18280.250000</td>\n",
              "    </tr>\n",
              "    <tr>\n",
              "      <th>3</th>\n",
              "      <td>861.843018</td>\n",
              "      <td>26322.359375</td>\n",
              "      <td>18286.849609</td>\n",
              "    </tr>\n",
              "    <tr>\n",
              "      <th>4</th>\n",
              "      <td>860.395447</td>\n",
              "      <td>26319.984375</td>\n",
              "      <td>18284.232422</td>\n",
              "    </tr>\n",
              "  </tbody>\n",
              "</table>\n",
              "</div>"
            ],
            "text/plain": [
              "            X             Y             Z\n",
              "0  860.278625  26320.939453  18281.757812\n",
              "1  862.896790  26320.160156  18283.193359\n",
              "2  859.645874  26324.167969  18280.250000\n",
              "3  861.843018  26322.359375  18286.849609\n",
              "4  860.395447  26319.984375  18284.232422"
            ]
          },
          "metadata": {
            "tags": []
          },
          "execution_count": 61
        }
      ]
    },
    {
      "cell_type": "code",
      "metadata": {
        "id": "vtK5gJZwduun",
        "colab_type": "code",
        "colab": {
          "base_uri": "https://localhost:8080/",
          "height": 359
        },
        "outputId": "ec37a0b8-7a91-4e4d-bc78-ccd19c1e6332"
      },
      "source": [
        "def process(data):\n",
        "    data['x_b'] = np.floor(data['X']/(75000/100))\n",
        "    data['y_b'] = np.floor(data['Y']/(75000/100))\n",
        "    data['z_b'] = np.floor(data['Z']/(75000/100))\n",
        "    data['x_b'] = data['x_b'].astype(int)\n",
        "    data['y_b'] = data['y_b'].astype(int)\n",
        "    data['z_b'] = data['z_b'].astype(int)\n",
        "    \n",
        "    \n",
        "    return data\n",
        "    \n",
        "dm_data = process(df_dm)\n",
        "dm_data['c'] = 1\n",
        "dm_data.head(10)"
      ],
      "execution_count": 78,
      "outputs": [
        {
          "output_type": "execute_result",
          "data": {
            "text/html": [
              "<div>\n",
              "<style scoped>\n",
              "    .dataframe tbody tr th:only-of-type {\n",
              "        vertical-align: middle;\n",
              "    }\n",
              "\n",
              "    .dataframe tbody tr th {\n",
              "        vertical-align: top;\n",
              "    }\n",
              "\n",
              "    .dataframe thead th {\n",
              "        text-align: right;\n",
              "    }\n",
              "</style>\n",
              "<table border=\"1\" class=\"dataframe\">\n",
              "  <thead>\n",
              "    <tr style=\"text-align: right;\">\n",
              "      <th></th>\n",
              "      <th>X</th>\n",
              "      <th>Y</th>\n",
              "      <th>Z</th>\n",
              "      <th>x_b</th>\n",
              "      <th>y_b</th>\n",
              "      <th>z_b</th>\n",
              "      <th>c</th>\n",
              "    </tr>\n",
              "  </thead>\n",
              "  <tbody>\n",
              "    <tr>\n",
              "      <th>0</th>\n",
              "      <td>860.278625</td>\n",
              "      <td>26320.939453</td>\n",
              "      <td>18281.757812</td>\n",
              "      <td>1</td>\n",
              "      <td>35</td>\n",
              "      <td>24</td>\n",
              "      <td>1</td>\n",
              "    </tr>\n",
              "    <tr>\n",
              "      <th>1</th>\n",
              "      <td>862.896790</td>\n",
              "      <td>26320.160156</td>\n",
              "      <td>18283.193359</td>\n",
              "      <td>1</td>\n",
              "      <td>35</td>\n",
              "      <td>24</td>\n",
              "      <td>1</td>\n",
              "    </tr>\n",
              "    <tr>\n",
              "      <th>2</th>\n",
              "      <td>859.645874</td>\n",
              "      <td>26324.167969</td>\n",
              "      <td>18280.250000</td>\n",
              "      <td>1</td>\n",
              "      <td>35</td>\n",
              "      <td>24</td>\n",
              "      <td>1</td>\n",
              "    </tr>\n",
              "    <tr>\n",
              "      <th>3</th>\n",
              "      <td>861.843018</td>\n",
              "      <td>26322.359375</td>\n",
              "      <td>18286.849609</td>\n",
              "      <td>1</td>\n",
              "      <td>35</td>\n",
              "      <td>24</td>\n",
              "      <td>1</td>\n",
              "    </tr>\n",
              "    <tr>\n",
              "      <th>4</th>\n",
              "      <td>860.395447</td>\n",
              "      <td>26319.984375</td>\n",
              "      <td>18284.232422</td>\n",
              "      <td>1</td>\n",
              "      <td>35</td>\n",
              "      <td>24</td>\n",
              "      <td>1</td>\n",
              "    </tr>\n",
              "    <tr>\n",
              "      <th>5</th>\n",
              "      <td>862.295593</td>\n",
              "      <td>26322.332031</td>\n",
              "      <td>18286.097656</td>\n",
              "      <td>1</td>\n",
              "      <td>35</td>\n",
              "      <td>24</td>\n",
              "      <td>1</td>\n",
              "    </tr>\n",
              "    <tr>\n",
              "      <th>6</th>\n",
              "      <td>860.981873</td>\n",
              "      <td>26320.837891</td>\n",
              "      <td>18278.978516</td>\n",
              "      <td>1</td>\n",
              "      <td>35</td>\n",
              "      <td>24</td>\n",
              "      <td>1</td>\n",
              "    </tr>\n",
              "    <tr>\n",
              "      <th>7</th>\n",
              "      <td>862.746643</td>\n",
              "      <td>26323.728516</td>\n",
              "      <td>18281.339844</td>\n",
              "      <td>1</td>\n",
              "      <td>35</td>\n",
              "      <td>24</td>\n",
              "      <td>1</td>\n",
              "    </tr>\n",
              "    <tr>\n",
              "      <th>8</th>\n",
              "      <td>862.724243</td>\n",
              "      <td>26319.615234</td>\n",
              "      <td>18281.880859</td>\n",
              "      <td>1</td>\n",
              "      <td>35</td>\n",
              "      <td>24</td>\n",
              "      <td>1</td>\n",
              "    </tr>\n",
              "    <tr>\n",
              "      <th>9</th>\n",
              "      <td>858.579590</td>\n",
              "      <td>26325.712891</td>\n",
              "      <td>18279.990234</td>\n",
              "      <td>1</td>\n",
              "      <td>35</td>\n",
              "      <td>24</td>\n",
              "      <td>1</td>\n",
              "    </tr>\n",
              "  </tbody>\n",
              "</table>\n",
              "</div>"
            ],
            "text/plain": [
              "            X             Y             Z  x_b  y_b  z_b  c\n",
              "0  860.278625  26320.939453  18281.757812    1   35   24  1\n",
              "1  862.896790  26320.160156  18283.193359    1   35   24  1\n",
              "2  859.645874  26324.167969  18280.250000    1   35   24  1\n",
              "3  861.843018  26322.359375  18286.849609    1   35   24  1\n",
              "4  860.395447  26319.984375  18284.232422    1   35   24  1\n",
              "5  862.295593  26322.332031  18286.097656    1   35   24  1\n",
              "6  860.981873  26320.837891  18278.978516    1   35   24  1\n",
              "7  862.746643  26323.728516  18281.339844    1   35   24  1\n",
              "8  862.724243  26319.615234  18281.880859    1   35   24  1\n",
              "9  858.579590  26325.712891  18279.990234    1   35   24  1"
            ]
          },
          "metadata": {
            "tags": []
          },
          "execution_count": 78
        }
      ]
    },
    {
      "cell_type": "code",
      "metadata": {
        "id": "onMciSDui6Ez",
        "colab_type": "code",
        "colab": {
          "base_uri": "https://localhost:8080/",
          "height": 51
        },
        "outputId": "2362923c-9cdc-446d-aa88-0ce0f77fd4f4"
      },
      "source": [
        "counts = dm_data.groupby(['x_b' , 'y_b' , 'z_b'])['c'].count().reset_index(name = \"count\")\n",
        "print(counts.shape)\n",
        "print(dm_data.shape)"
      ],
      "execution_count": 80,
      "outputs": [
        {
          "output_type": "stream",
          "text": [
            "(999941, 4)\n",
            "(94196375, 7)\n"
          ],
          "name": "stdout"
        }
      ]
    },
    {
      "cell_type": "code",
      "metadata": {
        "id": "5CSIxw9djNWG",
        "colab_type": "code",
        "colab": {
          "base_uri": "https://localhost:8080/",
          "height": 34
        },
        "outputId": "d87d1731-fc76-464d-bbaf-ef1f39a9b68a"
      },
      "source": [
        "def dataframe_to_array(data , shape):\n",
        "    ids = np.ravel_multi_index(data[['x_b' , 'y_b' , 'z_b']].values.T , shape)\n",
        "    val = data['count'].values\n",
        "    return np.bincount(ids , val , minlength = np.prod(shape)).reshape(shape)\n",
        "dm_arr = dataframe_to_array(counts , (100,100,100))\n",
        "print(dm_arr.shape)"
      ],
      "execution_count": 81,
      "outputs": [
        {
          "output_type": "stream",
          "text": [
            "(100, 100, 100)\n"
          ],
          "name": "stdout"
        }
      ]
    },
    {
      "cell_type": "code",
      "metadata": {
        "id": "hDLG9nPnjQZD",
        "colab_type": "code",
        "colab": {}
      },
      "source": [
        "\n",
        "X = np.zeros((804357,8,8,8))\n",
        "Y = np.zeros((804357,1))\n",
        "\n",
        "l = 0\n",
        "m = 0\n",
        "for i in range(4,97):\n",
        "    for j in range(4,97):\n",
        "        for k in range(4,97):\n",
        "            X [l,0:8,0:8,0:8] = dm_arr[i-4:i +4 , j-4: j +4 , k-4:k+4]\n",
        "            Y [l,0] = arr_subhalo[i , j , k]\n",
        "            l +=1\n",
        "                \n",
        "             \n",
        "            "
      ],
      "execution_count": 0,
      "outputs": []
    },
    {
      "cell_type": "code",
      "metadata": {
        "id": "8r39rvxejUvp",
        "colab_type": "code",
        "colab": {}
      },
      "source": [
        "from sklearn.model_selection import train_test_split\n",
        "X_train , X_test , Y_train , Y_test = train_test_split(X,Y, random_state = 0)"
      ],
      "execution_count": 0,
      "outputs": []
    }
  ]
}