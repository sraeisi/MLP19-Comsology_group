{
  "nbformat": 4,
  "nbformat_minor": 0,
  "metadata": {
    "colab": {
      "name": "Copy of Untitled12.ipynb",
      "version": "0.3.2",
      "provenance": [],
      "collapsed_sections": [],
      "include_colab_link": true
    },
    "kernelspec": {
      "name": "python3",
      "display_name": "Python 3"
    },
    "accelerator": "GPU"
  },
  "cells": [
    {
      "cell_type": "markdown",
      "metadata": {
        "id": "view-in-github",
        "colab_type": "text"
      },
      "source": [
        "<a href=\"https://colab.research.google.com/github/sraeisi/MLP19-Comsology_group/blob/zahrabaghkhani-patch-1/Copy_of_Untitled12.ipynb\" target=\"_parent\"><img src=\"https://colab.research.google.com/assets/colab-badge.svg\" alt=\"Open In Colab\"/></a>"
      ]
    },
    {
      "cell_type": "code",
      "metadata": {
        "id": "NnuR-NyU7A3x",
        "colab_type": "code",
        "colab": {
          "base_uri": "https://localhost:8080/",
          "height": 122
        },
        "outputId": "9bf1479f-46b4-482b-9f1a-ff84f3941f76"
      },
      "source": [
        "from google.colab import drive\n",
        "drive.mount('/content/gdrive')"
      ],
      "execution_count": 1,
      "outputs": [
        {
          "output_type": "stream",
          "text": [
            "Go to this URL in a browser: https://accounts.google.com/o/oauth2/auth?client_id=947318989803-6bn6qk8qdgf4n4g3pfee6491hc0brc4i.apps.googleusercontent.com&redirect_uri=urn%3Aietf%3Awg%3Aoauth%3A2.0%3Aoob&scope=email%20https%3A%2F%2Fwww.googleapis.com%2Fauth%2Fdocs.test%20https%3A%2F%2Fwww.googleapis.com%2Fauth%2Fdrive%20https%3A%2F%2Fwww.googleapis.com%2Fauth%2Fdrive.photos.readonly%20https%3A%2F%2Fwww.googleapis.com%2Fauth%2Fpeopleapi.readonly&response_type=code\n",
            "\n",
            "Enter your authorization code:\n",
            "··········\n",
            "Mounted at /content/gdrive\n"
          ],
          "name": "stdout"
        }
      ]
    },
    {
      "cell_type": "code",
      "metadata": {
        "id": "-ltVdtc47Ozr",
        "colab_type": "code",
        "colab": {}
      },
      "source": [
        "import h5py\n",
        "url = '/content/gdrive/My Drive/ml project/Untitled folder/dataml.h5'\n",
        "a = h5py.File(url,'r')\n",
        "x_train = a['x_train']"
      ],
      "execution_count": 0,
      "outputs": []
    },
    {
      "cell_type": "code",
      "metadata": {
        "id": "zcvKTcOn8l9O",
        "colab_type": "code",
        "colab": {}
      },
      "source": [
        "y_train = a['Y_train']\n",
        "x_test = a['x_test']\n",
        "y_test = a['y_test']"
      ],
      "execution_count": 0,
      "outputs": []
    },
    {
      "cell_type": "code",
      "metadata": {
        "id": "OCZX2Jmi8-b4",
        "colab_type": "code",
        "outputId": "f00e9476-eee9-4d42-d4d9-d9fe67e30d72",
        "colab": {
          "base_uri": "https://localhost:8080/",
          "height": 85
        }
      },
      "source": [
        "print(x_train.shape)\n",
        "print(y_train.shape)\n",
        "print(x_test.shape)\n",
        "print(y_test.shape)"
      ],
      "execution_count": 0,
      "outputs": [
        {
          "output_type": "stream",
          "text": [
            "(603267, 8, 8, 8)\n",
            "(603267, 1)\n",
            "(201090, 8, 8, 8)\n",
            "(201090, 1)\n"
          ],
          "name": "stdout"
        }
      ]
    },
    {
      "cell_type": "code",
      "metadata": {
        "id": "eH_3oaCK9H_Q",
        "colab_type": "code",
        "colab": {}
      },
      "source": [
        "import numpy as np\n",
        "x_train=np.array(x_train)\n",
        "x_test = np.array(x_test)\n",
        "y_train = np.array(y_train)\n",
        "y_test = np.array(y_test)\n",
        "x_train = x_train.reshape(-1,8,8,8,1)\n",
        "x_test = x_test.reshape(-1,8,8,8,1)\n"
      ],
      "execution_count": 0,
      "outputs": []
    },
    {
      "cell_type": "code",
      "metadata": {
        "id": "izNT013W_I7V",
        "colab_type": "code",
        "colab": {
          "base_uri": "https://localhost:8080/",
          "height": 190
        },
        "outputId": "4dc8b00d-c05a-475a-8569-b29b6aadf30d"
      },
      "source": [
        "import tensorflow as tf\n",
        "from tensorflow import keras\n",
        "\n",
        "new_model = keras.models.Sequential()\n",
        "\n",
        "new_model.add(keras.layers.Conv3D(32, (3,3,1)  , activation = 'relu' , padding = 'same' , input_shape=(8,8,8,1)))\n",
        "new_model.add(keras.layers.Conv3D(32, (3,3,1) , padding = 'same' , activation = 'relu' ))\n",
        "new_model.add(keras.layers.MaxPooling3D((2,2,1) , padding = 'same'))\n",
        "new_model.add(keras.layers.Dropout(0.25))\n",
        "new_model.add(keras.layers.Conv3D(64, (3,3,1) , padding = 'same' , activation = 'relu' ))\n",
        "new_model.add(keras.layers.Conv3D(64, (3,3,1) , padding = 'same' , activation = 'relu' ))\n",
        "new_model.add(keras.layers.MaxPooling3D((2,2,1) , padding = 'same'))\n",
        "new_model.add(keras.layers.Dropout(0.25))\n",
        "new_model.add(keras.layers.Flatten())\n",
        "\n",
        "new_model.add(keras.layers.Dense(120 , activation = 'relu'))\n",
        "new_model.add(keras.layers.Dense(60 , activation = 'relu'))\n",
        "new_model.add(keras.layers.Dense(1, activation = 'linear'))\n",
        "              \n",
        "new_model.compile(optimizer = 'adam' , loss = 'mean_squared_error' , metrics = ['accuracy' ])\n"
      ],
      "execution_count": 5,
      "outputs": [
        {
          "output_type": "stream",
          "text": [
            "WARNING:tensorflow:From /usr/local/lib/python3.6/dist-packages/tensorflow/python/ops/resource_variable_ops.py:435: colocate_with (from tensorflow.python.framework.ops) is deprecated and will be removed in a future version.\n",
            "Instructions for updating:\n",
            "Colocations handled automatically by placer.\n",
            "WARNING:tensorflow:From /usr/local/lib/python3.6/dist-packages/tensorflow/python/keras/layers/core.py:143: calling dropout (from tensorflow.python.ops.nn_ops) with keep_prob is deprecated and will be removed in a future version.\n",
            "Instructions for updating:\n",
            "Please use `rate` instead of `keep_prob`. Rate should be set to `rate = 1 - keep_prob`.\n",
            "WARNING:tensorflow:From /usr/local/lib/python3.6/dist-packages/tensorflow/python/keras/utils/losses_utils.py:170: to_float (from tensorflow.python.ops.math_ops) is deprecated and will be removed in a future version.\n",
            "Instructions for updating:\n",
            "Use tf.cast instead.\n"
          ],
          "name": "stdout"
        }
      ]
    },
    {
      "cell_type": "code",
      "metadata": {
        "id": "4ps_OPWM_NBK",
        "colab_type": "code",
        "colab": {
          "base_uri": "https://localhost:8080/",
          "height": 785
        },
        "outputId": "e4008eb2-7bb3-4bb6-87a6-09c68c494d72"
      },
      "source": [
        "history = new_model.fit(x_train , y_train, epochs = 20 , batch_size = 5000, validation_data = (x_test,y_test))"
      ],
      "execution_count": 6,
      "outputs": [
        {
          "output_type": "stream",
          "text": [
            "Train on 603267 samples, validate on 201090 samples\n",
            "WARNING:tensorflow:From /usr/local/lib/python3.6/dist-packages/tensorflow/python/ops/math_ops.py:3066: to_int32 (from tensorflow.python.ops.math_ops) is deprecated and will be removed in a future version.\n",
            "Instructions for updating:\n",
            "Use tf.cast instead.\n",
            "Epoch 1/20\n",
            "603267/603267 [==============================] - 49s 82us/sample - loss: 777.1301 - acc: 0.6836 - val_loss: 2.8182 - val_acc: 0.7826\n",
            "Epoch 2/20\n",
            "603267/603267 [==============================] - 44s 73us/sample - loss: 6.1590 - acc: 0.7843 - val_loss: 1.7106 - val_acc: 0.8262\n",
            "Epoch 3/20\n",
            "603267/603267 [==============================] - 45s 74us/sample - loss: 3.8489 - acc: 0.8141 - val_loss: 1.2039 - val_acc: 0.8458\n",
            "Epoch 4/20\n",
            "603267/603267 [==============================] - 44s 74us/sample - loss: 2.7635 - acc: 0.8320 - val_loss: 0.9455 - val_acc: 0.8605\n",
            "Epoch 5/20\n",
            "603267/603267 [==============================] - 45s 74us/sample - loss: 2.1429 - acc: 0.8436 - val_loss: 0.7787 - val_acc: 0.8721\n",
            "Epoch 6/20\n",
            "603267/603267 [==============================] - 44s 74us/sample - loss: 1.7130 - acc: 0.8539 - val_loss: 0.6843 - val_acc: 0.8772\n",
            "Epoch 7/20\n",
            "603267/603267 [==============================] - 45s 74us/sample - loss: 1.4571 - acc: 0.8572 - val_loss: 0.6025 - val_acc: 0.8834\n",
            "Epoch 8/20\n",
            "603267/603267 [==============================] - 44s 74us/sample - loss: 1.2066 - acc: 0.8642 - val_loss: 0.5504 - val_acc: 0.8909\n",
            "Epoch 9/20\n",
            "603267/603267 [==============================] - 44s 74us/sample - loss: 1.0726 - acc: 0.8689 - val_loss: 0.5115 - val_acc: 0.8894\n",
            "Epoch 10/20\n",
            "603267/603267 [==============================] - 44s 74us/sample - loss: 0.9558 - acc: 0.8710 - val_loss: 0.4822 - val_acc: 0.8937\n",
            "Epoch 11/20\n",
            "603267/603267 [==============================] - 44s 74us/sample - loss: 0.8290 - acc: 0.8748 - val_loss: 0.4575 - val_acc: 0.8972\n",
            "Epoch 12/20\n",
            "603267/603267 [==============================] - 44s 73us/sample - loss: 0.7474 - acc: 0.8784 - val_loss: 0.4331 - val_acc: 0.8992\n",
            "Epoch 13/20\n",
            "603267/603267 [==============================] - 44s 74us/sample - loss: 0.6698 - acc: 0.8801 - val_loss: 0.4134 - val_acc: 0.9031\n",
            "Epoch 14/20\n",
            "603267/603267 [==============================] - 44s 74us/sample - loss: 0.6233 - acc: 0.8849 - val_loss: 0.3902 - val_acc: 0.9030\n",
            "Epoch 15/20\n",
            "603267/603267 [==============================] - 44s 74us/sample - loss: 0.5644 - acc: 0.8867 - val_loss: 0.3717 - val_acc: 0.9065\n",
            "Epoch 16/20\n",
            "603267/603267 [==============================] - 44s 73us/sample - loss: 0.5239 - acc: 0.8888 - val_loss: 0.3551 - val_acc: 0.9074\n",
            "Epoch 17/20\n",
            "603267/603267 [==============================] - 44s 73us/sample - loss: 0.4784 - acc: 0.8926 - val_loss: 0.3433 - val_acc: 0.9115\n",
            "Epoch 18/20\n",
            "603267/603267 [==============================] - 44s 73us/sample - loss: 0.4570 - acc: 0.8945 - val_loss: 0.3302 - val_acc: 0.9131\n",
            "Epoch 19/20\n",
            "603267/603267 [==============================] - 44s 73us/sample - loss: 0.4102 - acc: 0.8974 - val_loss: 0.3177 - val_acc: 0.9147\n",
            "Epoch 20/20\n",
            "603267/603267 [==============================] - 44s 74us/sample - loss: 0.3959 - acc: 0.8992 - val_loss: 0.3007 - val_acc: 0.9124\n"
          ],
          "name": "stdout"
        }
      ]
    },
    {
      "cell_type": "code",
      "metadata": {
        "id": "nzIpy4JSDjkP",
        "colab_type": "code",
        "colab": {
          "base_uri": "https://localhost:8080/",
          "height": 544
        },
        "outputId": "1a850f07-048d-443f-eb02-ecfad98bc556"
      },
      "source": [
        "new_model.summary()\n"
      ],
      "execution_count": 9,
      "outputs": [
        {
          "output_type": "stream",
          "text": [
            "_________________________________________________________________\n",
            "Layer (type)                 Output Shape              Param #   \n",
            "=================================================================\n",
            "conv3d (Conv3D)              (None, 8, 8, 8, 32)       320       \n",
            "_________________________________________________________________\n",
            "conv3d_1 (Conv3D)            (None, 8, 8, 8, 32)       9248      \n",
            "_________________________________________________________________\n",
            "max_pooling3d (MaxPooling3D) (None, 4, 4, 8, 32)       0         \n",
            "_________________________________________________________________\n",
            "dropout (Dropout)            (None, 4, 4, 8, 32)       0         \n",
            "_________________________________________________________________\n",
            "conv3d_2 (Conv3D)            (None, 4, 4, 8, 64)       18496     \n",
            "_________________________________________________________________\n",
            "conv3d_3 (Conv3D)            (None, 4, 4, 8, 64)       36928     \n",
            "_________________________________________________________________\n",
            "max_pooling3d_1 (MaxPooling3 (None, 2, 2, 8, 64)       0         \n",
            "_________________________________________________________________\n",
            "dropout_1 (Dropout)          (None, 2, 2, 8, 64)       0         \n",
            "_________________________________________________________________\n",
            "flatten (Flatten)            (None, 2048)              0         \n",
            "_________________________________________________________________\n",
            "dense (Dense)                (None, 120)               245880    \n",
            "_________________________________________________________________\n",
            "dense_1 (Dense)              (None, 60)                7260      \n",
            "_________________________________________________________________\n",
            "dense_2 (Dense)              (None, 1)                 61        \n",
            "=================================================================\n",
            "Total params: 318,193\n",
            "Trainable params: 318,193\n",
            "Non-trainable params: 0\n",
            "_________________________________________________________________\n"
          ],
          "name": "stdout"
        }
      ]
    },
    {
      "cell_type": "code",
      "metadata": {
        "id": "39XBMR8pD6NP",
        "colab_type": "code",
        "colab": {}
      },
      "source": [
        ""
      ],
      "execution_count": 0,
      "outputs": []
    }
  ]
}