{
  "nbformat": 4,
  "nbformat_minor": 0,
  "metadata": {
    "colab": {
      "name": "Keras_basics.ipynb",
      "version": "0.3.2",
      "provenance": [],
      "collapsed_sections": [],
      "include_colab_link": true
    },
    "kernelspec": {
      "name": "python3",
      "display_name": "Python 3"
    }
  },
  "cells": [
    {
      "cell_type": "markdown",
      "metadata": {
        "id": "view-in-github",
        "colab_type": "text"
      },
      "source": [
        "<a href=\"https://colab.research.google.com/github/sraeisi/MLP19-Comsology_group/blob/master/Lec_6/Keras_basics.ipynb\" target=\"_parent\"><img src=\"https://colab.research.google.com/assets/colab-badge.svg\" alt=\"Open In Colab\"/></a>"
      ]
    },
    {
      "metadata": {
        "id": "XyaKzVDuXLmF",
        "colab_type": "code",
        "colab": {}
      },
      "cell_type": "code",
      "source": [
        "import numpy as np\n",
        "import matplotlib.pyplot as plt\n",
        "\n",
        "# TensorFlow and tf.keras\n",
        "import tensorflow as tf\n",
        "from tensorflow import keras\n",
        "\n",
        "import requests\n",
        "import io"
      ],
      "execution_count": 0,
      "outputs": []
    },
    {
      "metadata": {
        "id": "FE54NJdSXplU",
        "colab_type": "code",
        "colab": {}
      },
      "cell_type": "code",
      "source": [
        "'''\n",
        "Let's import the Farsi digits (your assignment)\n",
        "'''\n",
        "\n",
        "url = 'https://raw.githubusercontent.com/sraeisi/MachineLearning_Physics/master/Assignments/A3/X.npz'\n",
        "s=requests.get(url, stream=True).content\n",
        "X = np.load(io.BytesIO(s) )['arr_0']\n",
        "url = 'https://raw.githubusercontent.com/sraeisi/MachineLearning_Physics/master/Assignments/A3/Y.npz'\n",
        "s=requests.get(url, stream=True).content\n",
        "Y = np.load(io.BytesIO(s) )['arr_0']\n",
        "\n",
        "from sklearn.utils import shuffle\n",
        "X, Y = shuffle(X,Y, random_state = 0 )"
      ],
      "execution_count": 0,
      "outputs": []
    },
    {
      "metadata": {
        "id": "ldLimT4BXqVg",
        "colab_type": "code",
        "colab": {
          "base_uri": "https://localhost:8080/",
          "height": 34
        },
        "outputId": "1853c029-13b5-45de-99c5-3c8696214bb0"
      },
      "cell_type": "code",
      "source": [
        "print('Each image is of the form: {}'.format(X[0].shape ) )"
      ],
      "execution_count": 3,
      "outputs": [
        {
          "output_type": "stream",
          "text": [
            "Each image is of the form: (32, 32)\n"
          ],
          "name": "stdout"
        }
      ]
    },
    {
      "metadata": {
        "id": "WSXG5PFOXtQC",
        "colab_type": "code",
        "colab": {
          "base_uri": "https://localhost:8080/",
          "height": 89
        },
        "outputId": "9b834a4a-9209-4931-c944-0f022ab8ee6d"
      },
      "cell_type": "code",
      "source": [
        "model = keras.Sequential([\n",
        "    keras.layers.Flatten(input_shape=(32, 32)),\n",
        "    keras.layers.Dense(128, activation=tf.nn.relu),\n",
        "    keras.layers.Dense(10, activation=tf.nn.softmax)\n",
        "])\n",
        "\n",
        "\n",
        "model.compile(optimizer='adam', \n",
        "              loss='sparse_categorical_crossentropy',\n",
        "              metrics=['accuracy'])"
      ],
      "execution_count": 4,
      "outputs": [
        {
          "output_type": "stream",
          "text": [
            "WARNING:tensorflow:From /usr/local/lib/python3.6/dist-packages/tensorflow/python/ops/resource_variable_ops.py:435: colocate_with (from tensorflow.python.framework.ops) is deprecated and will be removed in a future version.\n",
            "Instructions for updating:\n",
            "Colocations handled automatically by placer.\n"
          ],
          "name": "stdout"
        }
      ]
    },
    {
      "metadata": {
        "id": "FyNX5FJRXx9V",
        "colab_type": "code",
        "colab": {}
      },
      "cell_type": "code",
      "source": [
        "from sklearn.model_selection import train_test_split\n",
        "from sklearn.metrics import confusion_matrix\n",
        "\n",
        "X_train, X_test, Y_train, Y_test = train_test_split(X, Y, random_state=0)"
      ],
      "execution_count": 0,
      "outputs": []
    },
    {
      "metadata": {
        "id": "RPYBp6g9Xy23",
        "colab_type": "code",
        "colab": {
          "base_uri": "https://localhost:8080/",
          "height": 229
        },
        "outputId": "0b8bee41-d32a-42d4-ed0f-ce68c556c3c8"
      },
      "cell_type": "code",
      "source": [
        "history = model.fit(X_train,Y_train, validation_split=0.25, epochs=5)"
      ],
      "execution_count": 6,
      "outputs": [
        {
          "output_type": "stream",
          "text": [
            "Train on 57573 samples, validate on 19191 samples\n",
            "Epoch 1/5\n",
            "57573/57573 [==============================] - 8s 130us/sample - loss: 0.1518 - acc: 0.9566 - val_loss: 0.0899 - val_acc: 0.9733\n",
            "Epoch 2/5\n",
            "57573/57573 [==============================] - 7s 125us/sample - loss: 0.0568 - acc: 0.9833 - val_loss: 0.0620 - val_acc: 0.9810\n",
            "Epoch 3/5\n",
            "57573/57573 [==============================] - 7s 124us/sample - loss: 0.0346 - acc: 0.9896 - val_loss: 0.0617 - val_acc: 0.9811\n",
            "Epoch 4/5\n",
            "57573/57573 [==============================] - 7s 124us/sample - loss: 0.0228 - acc: 0.9927 - val_loss: 0.0669 - val_acc: 0.9809\n",
            "Epoch 5/5\n",
            "57573/57573 [==============================] - 7s 124us/sample - loss: 0.0163 - acc: 0.9946 - val_loss: 0.0661 - val_acc: 0.9813\n"
          ],
          "name": "stdout"
        }
      ]
    },
    {
      "metadata": {
        "id": "soJviX78X19-",
        "colab_type": "code",
        "colab": {
          "base_uri": "https://localhost:8080/",
          "height": 191
        },
        "outputId": "96a64709-61a0-4c0f-b157-d432c06bec31"
      },
      "cell_type": "code",
      "source": [
        "Y_predicted = np.argmax( model.predict(X_test) , axis=1 )\n",
        "cm = confusion_matrix(Y_test, Y_predicted)\n",
        "print(cm)"
      ],
      "execution_count": 7,
      "outputs": [
        {
          "output_type": "stream",
          "text": [
            "[[2532    0    0    0    0    4    0    0    0    0]\n",
            " [   2 2489    4    0    3    0    6    0    0    7]\n",
            " [   2    7 2453   23    3    0    6    1    0    5]\n",
            " [   2    0   70 2440   30    1    0    0    0    1]\n",
            " [   3    1   32   26 2607    3   16    2    0    2]\n",
            " [  19    3    1    2    9 2451    4    0    8    0]\n",
            " [   1    1    2    1    1    0 2596    2    1    3]\n",
            " [   3    3   12    1    1    3    7 2578    0    0]\n",
            " [   3    3    0    0    0    0    7    0 2527    8]\n",
            " [   0    5    1    0    0    0   70    0   11 2457]]\n"
          ],
          "name": "stdout"
        }
      ]
    },
    {
      "metadata": {
        "id": "OW8pM1UVYI_H",
        "colab_type": "code",
        "colab": {
          "base_uri": "https://localhost:8080/",
          "height": 369
        },
        "outputId": "9470cc15-bc6a-4b4f-cfd3-3f52c952640f"
      },
      "cell_type": "code",
      "source": [
        "# Plot training & validation accuracy values\n",
        "fig = plt.figure(figsize=(10,5))\n",
        "ax = fig.add_subplot(1,2,1, title = 'Model accuracy', ylabel= 'Accuracy')\n",
        "plt.plot(history.history['acc'])\n",
        "plt.plot(history.history['val_acc'])\n",
        "plt.legend(['Train', 'Test'], loc='upper left')\n",
        "\n",
        "# Plot training & validation loss values\n",
        "ax = fig.add_subplot(1,2,2, title = 'Model loss', ylabel= 'Loss')\n",
        "plt.plot(history.history['loss'])\n",
        "plt.plot(history.history['val_loss'])\n",
        "plt.legend(['Train', 'Test'], loc='upper left')\n",
        "\n",
        "plt.tight_layout()\n",
        "plt.show()"
      ],
      "execution_count": 8,
      "outputs": [
        {
          "output_type": "display_data",
          "data": {
            "image/png": "[encoded data removed]",
            "text/plain": [
              "<Figure size 720x360 with 2 Axes>"
            ]
          },
          "metadata": {
            "tags": []
          }
        }
      ]
    },
    {
      "metadata": {
        "id": "VUBhOlWvX5z7",
        "colab_type": "code",
        "colab": {}
      },
      "cell_type": "code",
      "source": [
        "Y_oh = keras.utils.to_categorical(Y, num_classes=10, dtype=int)\n",
        "\n",
        "X_train, X_test, Y_train, Y_test = train_test_split(X, Y, random_state=0)\n",
        "Y_oh[0]"
      ],
      "execution_count": 0,
      "outputs": []
    },
    {
      "metadata": {
        "id": "xiy9_xdXYBIw",
        "colab_type": "code",
        "colab": {}
      },
      "cell_type": "code",
      "source": [
        "history = model.fit(X_train,Y_train, validation_split=0.25, epochs=10, batch_size=16, verbose=1)"
      ],
      "execution_count": 0,
      "outputs": []
    },
    {
      "metadata": {
        "id": "x4XW7S7CYEOB",
        "colab_type": "code",
        "colab": {}
      },
      "cell_type": "code",
      "source": [
        "Y_predicted = np.argmax( model.predict(X_test) , axis=1 )\n",
        "cm = confusion_matrix(Y_test, Y_predicted)\n",
        "print(cm)"
      ],
      "execution_count": 0,
      "outputs": []
    },
    {
      "metadata": {
        "id": "v5n5eQS4YHO4",
        "colab_type": "code",
        "colab": {}
      },
      "cell_type": "code",
      "source": [
        "# Plot training & validation accuracy values\n",
        "fig = plt.figure(figsize=(10,5))\n",
        "ax = fig.add_subplot(1,2,1, title = 'Model accuracy', ylabel= 'Accuracy')\n",
        "plt.plot(history.history['acc'])\n",
        "plt.plot(history.history['val_acc'])\n",
        "plt.legend(['Train', 'Test'], loc='upper left')\n",
        "\n",
        "# Plot training & validation loss values\n",
        "ax = fig.add_subplot(1,2,2, title = 'Model loss', ylabel= 'Loss')\n",
        "plt.plot(history.history['loss'])\n",
        "plt.plot(history.history['val_loss'])\n",
        "plt.legend(['Train', 'Test'], loc='upper left')\n",
        "\n",
        "plt.tight_layout()\n",
        "plt.show()"
      ],
      "execution_count": 0,
      "outputs": []
    },
    {
      "metadata": {
        "id": "PvZd8dNkagLl",
        "colab_type": "text"
      },
      "cell_type": "markdown",
      "source": [
        "## Try this for the particle identification problem."
      ]
    },
    {
      "metadata": {
        "id": "ipUS-xGwafLK",
        "colab_type": "code",
        "colab": {
          "base_uri": "https://localhost:8080/",
          "height": 202
        },
        "outputId": "2e524d19-59fa-491b-822a-a1d76de4ba45"
      },
      "cell_type": "code",
      "source": [
        "import pandas as pd\n",
        "url = 'https://www.dropbox.com/s/66dbhxl93y41coe/particle-identification-from-detector-responses.zip?dl=1'\n",
        "s=requests.get(url, stream=True).content\n",
        "data=pd.read_csv(io.BytesIO(s) , compression='zip' )\n",
        " \n",
        "'''\n",
        "Alternatively, you can download the file into your computer and run the following code. \n",
        "You need to uncomment it first. \n",
        "'''    \n",
        "\n",
        "# data = pd.read_csv('particle-identification-from-detector-responses.zip', compression='zip')\n",
        "data.head()"
      ],
      "execution_count": 10,
      "outputs": [
        {
          "output_type": "execute_result",
          "data": {
            "text/html": [
              "<div>\n",
              "<style scoped>\n",
              "    .dataframe tbody tr th:only-of-type {\n",
              "        vertical-align: middle;\n",
              "    }\n",
              "\n",
              "    .dataframe tbody tr th {\n",
              "        vertical-align: top;\n",
              "    }\n",
              "\n",
              "    .dataframe thead th {\n",
              "        text-align: right;\n",
              "    }\n",
              "</style>\n",
              "<table border=\"1\" class=\"dataframe\">\n",
              "  <thead>\n",
              "    <tr style=\"text-align: right;\">\n",
              "      <th></th>\n",
              "      <th>id</th>\n",
              "      <th>p</th>\n",
              "      <th>theta</th>\n",
              "      <th>beta</th>\n",
              "      <th>nphe</th>\n",
              "      <th>ein</th>\n",
              "      <th>eout</th>\n",
              "    </tr>\n",
              "  </thead>\n",
              "  <tbody>\n",
              "    <tr>\n",
              "      <th>0</th>\n",
              "      <td>211</td>\n",
              "      <td>0.780041</td>\n",
              "      <td>1.081480</td>\n",
              "      <td>0.989962</td>\n",
              "      <td>0</td>\n",
              "      <td>0.000000</td>\n",
              "      <td>0.000000</td>\n",
              "    </tr>\n",
              "    <tr>\n",
              "      <th>1</th>\n",
              "      <td>211</td>\n",
              "      <td>0.260929</td>\n",
              "      <td>0.778892</td>\n",
              "      <td>0.902450</td>\n",
              "      <td>0</td>\n",
              "      <td>0.000000</td>\n",
              "      <td>0.000000</td>\n",
              "    </tr>\n",
              "    <tr>\n",
              "      <th>2</th>\n",
              "      <td>2212</td>\n",
              "      <td>0.773022</td>\n",
              "      <td>0.185953</td>\n",
              "      <td>0.642428</td>\n",
              "      <td>4</td>\n",
              "      <td>0.101900</td>\n",
              "      <td>0.000000</td>\n",
              "    </tr>\n",
              "    <tr>\n",
              "      <th>3</th>\n",
              "      <td>211</td>\n",
              "      <td>0.476997</td>\n",
              "      <td>0.445561</td>\n",
              "      <td>0.951471</td>\n",
              "      <td>0</td>\n",
              "      <td>0.000000</td>\n",
              "      <td>0.000000</td>\n",
              "    </tr>\n",
              "    <tr>\n",
              "      <th>4</th>\n",
              "      <td>2212</td>\n",
              "      <td>2.123290</td>\n",
              "      <td>0.337332</td>\n",
              "      <td>0.908652</td>\n",
              "      <td>0</td>\n",
              "      <td>0.034379</td>\n",
              "      <td>0.049256</td>\n",
              "    </tr>\n",
              "  </tbody>\n",
              "</table>\n",
              "</div>"
            ],
            "text/plain": [
              "     id         p     theta      beta  nphe       ein      eout\n",
              "0   211  0.780041  1.081480  0.989962     0  0.000000  0.000000\n",
              "1   211  0.260929  0.778892  0.902450     0  0.000000  0.000000\n",
              "2  2212  0.773022  0.185953  0.642428     4  0.101900  0.000000\n",
              "3   211  0.476997  0.445561  0.951471     0  0.000000  0.000000\n",
              "4  2212  2.123290  0.337332  0.908652     0  0.034379  0.049256"
            ]
          },
          "metadata": {
            "tags": []
          },
          "execution_count": 10
        }
      ]
    },
    {
      "metadata": {
        "id": "1lc1lU1xa87h",
        "colab_type": "code",
        "colab": {
          "base_uri": "https://localhost:8080/",
          "height": 202
        },
        "outputId": "851994bf-6f6a-4c3d-dbb5-1fa573e58280"
      },
      "cell_type": "code",
      "source": [
        "n_s = 10000\n",
        "targets = list(set(data['id']))\n",
        "mini_data = data.sample(n_s, axis=0, random_state=0)\n",
        "mini_data['target'] = mini_data['id'].apply(lambda x: targets.index(x)) \n",
        "mini_data.drop('id',axis=1, inplace=True)\n",
        "mini_data.head()"
      ],
      "execution_count": 12,
      "outputs": [
        {
          "output_type": "execute_result",
          "data": {
            "text/html": [
              "<div>\n",
              "<style scoped>\n",
              "    .dataframe tbody tr th:only-of-type {\n",
              "        vertical-align: middle;\n",
              "    }\n",
              "\n",
              "    .dataframe tbody tr th {\n",
              "        vertical-align: top;\n",
              "    }\n",
              "\n",
              "    .dataframe thead th {\n",
              "        text-align: right;\n",
              "    }\n",
              "</style>\n",
              "<table border=\"1\" class=\"dataframe\">\n",
              "  <thead>\n",
              "    <tr style=\"text-align: right;\">\n",
              "      <th></th>\n",
              "      <th>p</th>\n",
              "      <th>theta</th>\n",
              "      <th>beta</th>\n",
              "      <th>nphe</th>\n",
              "      <th>ein</th>\n",
              "      <th>eout</th>\n",
              "      <th>target</th>\n",
              "    </tr>\n",
              "  </thead>\n",
              "  <tbody>\n",
              "    <tr>\n",
              "      <th>3748577</th>\n",
              "      <td>1.230330</td>\n",
              "      <td>0.415613</td>\n",
              "      <td>0.985857</td>\n",
              "      <td>0</td>\n",
              "      <td>0.182147</td>\n",
              "      <td>0.058503</td>\n",
              "      <td>1</td>\n",
              "    </tr>\n",
              "    <tr>\n",
              "      <th>4555504</th>\n",
              "      <td>0.870680</td>\n",
              "      <td>0.864884</td>\n",
              "      <td>0.989180</td>\n",
              "      <td>0</td>\n",
              "      <td>0.000000</td>\n",
              "      <td>0.000000</td>\n",
              "      <td>1</td>\n",
              "    </tr>\n",
              "    <tr>\n",
              "      <th>2388454</th>\n",
              "      <td>1.320670</td>\n",
              "      <td>0.481086</td>\n",
              "      <td>0.806984</td>\n",
              "      <td>0</td>\n",
              "      <td>0.151431</td>\n",
              "      <td>0.115267</td>\n",
              "      <td>2</td>\n",
              "    </tr>\n",
              "    <tr>\n",
              "      <th>3738046</th>\n",
              "      <td>0.657969</td>\n",
              "      <td>0.500238</td>\n",
              "      <td>0.982778</td>\n",
              "      <td>0</td>\n",
              "      <td>0.034974</td>\n",
              "      <td>0.055161</td>\n",
              "      <td>1</td>\n",
              "    </tr>\n",
              "    <tr>\n",
              "      <th>1572731</th>\n",
              "      <td>1.756310</td>\n",
              "      <td>0.340558</td>\n",
              "      <td>0.993275</td>\n",
              "      <td>0</td>\n",
              "      <td>0.030030</td>\n",
              "      <td>0.167452</td>\n",
              "      <td>1</td>\n",
              "    </tr>\n",
              "  </tbody>\n",
              "</table>\n",
              "</div>"
            ],
            "text/plain": [
              "                p     theta      beta  nphe       ein      eout  target\n",
              "3748577  1.230330  0.415613  0.985857     0  0.182147  0.058503       1\n",
              "4555504  0.870680  0.864884  0.989180     0  0.000000  0.000000       1\n",
              "2388454  1.320670  0.481086  0.806984     0  0.151431  0.115267       2\n",
              "3738046  0.657969  0.500238  0.982778     0  0.034974  0.055161       1\n",
              "1572731  1.756310  0.340558  0.993275     0  0.030030  0.167452       1"
            ]
          },
          "metadata": {
            "tags": []
          },
          "execution_count": 12
        }
      ]
    },
    {
      "metadata": {
        "id": "D46GLZBvcAKe",
        "colab_type": "code",
        "colab": {}
      },
      "cell_type": "code",
      "source": [
        ""
      ],
      "execution_count": 0,
      "outputs": []
    },
    {
      "metadata": {
        "id": "SJnTpEpoYbl1",
        "colab_type": "text"
      },
      "cell_type": "markdown",
      "source": [
        "# Learning rate:\n",
        "Change the learning rate and plot the results for \n",
        "\n",
        "eta = .01, .03, .1, .3, 1\n",
        "\n",
        "For each one, do 5 runs (5 epoch should be enough. )\n",
        "\n",
        "Plot and compare them. \n",
        "\n",
        "Track the time and report the average learning time for each value of eta. "
      ]
    },
    {
      "metadata": {
        "id": "9suSBEnhZC-S",
        "colab_type": "text"
      },
      "cell_type": "markdown",
      "source": [
        "# Batch size\n",
        "\n",
        "Change the Batch_size and plot the results for \n",
        "\n",
        "Batch_size = 8, 32, 128, 512, 1024 (change n_epochs too. )\n",
        "\n",
        "eta =  .03, .1, .3\n",
        "\n",
        "For each one, do 5 runs (5 epoch should be enough. )\n",
        "\n",
        "Plot and compare them. \n",
        "\n",
        "Track the time and report the average learning time for each value of eta. "
      ]
    },
    {
      "metadata": {
        "id": "F3x1xpwcZeF4",
        "colab_type": "text"
      },
      "cell_type": "markdown",
      "source": [
        "# Optimization techniques\n",
        "\n",
        "For a fixed batch_size (pick the best from last section) try the three different algorithms that we discussed. Look at \n",
        "\n",
        "https://keras.io/optimizers/\n",
        "\n",
        "for the possible optimizers. \n",
        "\n",
        "Try \n",
        "\n",
        "eta = .03, .1, .3\n",
        "\n",
        "For each one, do 5 runs (5 epoch should be enough. )\n",
        "\n",
        "Plot and compare them. \n",
        "\n",
        "Track the time and report the average learning time for each value of eta. "
      ]
    },
    {
      "metadata": {
        "id": "sGrwg_DOYbF4",
        "colab_type": "code",
        "colab": {}
      },
      "cell_type": "code",
      "source": [
        ""
      ],
      "execution_count": 0,
      "outputs": []
    }
  ]
}