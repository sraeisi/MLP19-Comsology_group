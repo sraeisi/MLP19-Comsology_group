{
  "nbformat": 4,
  "nbformat_minor": 0,
  "metadata": {
    "colab": {
      "name": "Untitled28.ipynb",
      "version": "0.3.2",
      "provenance": []
    },
    "kernelspec": {
      "name": "python3",
      "display_name": "Python 3"
    },
    "accelerator": "GPU"
  },
  "cells": [
    {
      "cell_type": "code",
      "metadata": {
        "id": "pfQI0UWU8qym",
        "colab_type": "code",
        "colab": {
          "base_uri": "https://localhost:8080/",
          "height": 122
        },
        "outputId": "8a470b1b-27ea-4ab1-e735-4dce42de2726"
      },
      "source": [
        "from google.colab import drive\n",
        "drive.mount('/content/gdrive')"
      ],
      "execution_count": 1,
      "outputs": [
        {
          "output_type": "stream",
          "text": [
            "Go to this URL in a browser: https://accounts.google.com/o/oauth2/auth?client_id=947318989803-6bn6qk8qdgf4n4g3pfee6491hc0brc4i.apps.googleusercontent.com&redirect_uri=urn%3Aietf%3Awg%3Aoauth%3A2.0%3Aoob&scope=email%20https%3A%2F%2Fwww.googleapis.com%2Fauth%2Fdocs.test%20https%3A%2F%2Fwww.googleapis.com%2Fauth%2Fdrive%20https%3A%2F%2Fwww.googleapis.com%2Fauth%2Fdrive.photos.readonly%20https%3A%2F%2Fwww.googleapis.com%2Fauth%2Fpeopleapi.readonly&response_type=code\n",
            "\n",
            "Enter your authorization code:\n",
            "··········\n",
            "Mounted at /content/gdrive\n"
          ],
          "name": "stdout"
        }
      ]
    },
    {
      "cell_type": "code",
      "metadata": {
        "id": "7PAne8AS9Eup",
        "colab_type": "code",
        "colab": {}
      },
      "source": [
        "import h5py\n",
        "url = '/content/gdrive/My Drive/ml project/Untitled folder/dataml.h5'\n",
        "a = h5py.File(url,'r')\n",
        "x_train = a['x_train']\n",
        "y_train = a['Y_train']\n",
        "x_test = a['x_test']\n",
        "y_test = a['y_test']"
      ],
      "execution_count": 0,
      "outputs": []
    },
    {
      "cell_type": "code",
      "metadata": {
        "id": "XeKN5-KO9Jsn",
        "colab_type": "code",
        "colab": {}
      },
      "source": [
        "import numpy as np\n",
        "x_train=np.array(x_train)\n",
        "x_test = np.array(x_test)\n",
        "y_train = np.array(y_train)\n",
        "y_test = np.array(y_test)\n",
        "x_train = x_train.reshape(-1,8,8,8,1)\n",
        "x_test = x_test.reshape(-1,8,8,8,1)\n"
      ],
      "execution_count": 0,
      "outputs": []
    },
    {
      "cell_type": "code",
      "metadata": {
        "id": "ZYBsdaOy9ofH",
        "colab_type": "code",
        "colab": {
          "base_uri": "https://localhost:8080/",
          "height": 105
        },
        "outputId": "0b1e6129-5363-4fd7-bb70-ef6269c3be87"
      },
      "source": [
        "import tensorflow as tf\n",
        "from tensorflow import keras\n",
        "\n",
        "new_model = keras.models.Sequential()\n",
        "\n",
        "new_model.add(keras.layers.Conv3D(32, (3,3,1)  , activation = 'relu' , padding = 'same' , input_shape=(8,8,8,1)))\n",
        "new_model.add(keras.layers.Conv3D(32, (3,3,1) , padding = 'same' , activation = 'relu' ))\n",
        "\n",
        "new_model.add(keras.layers.MaxPooling3D((2,2,1) , padding = 'same'))\n",
        "new_model.add(keras.layers.Conv3D(64, (3,3,1) , padding = 'same' , activation = 'relu' ))\n",
        "new_model.add(keras.layers.Conv3D(64, (3,3,1) , padding = 'same' , activation = 'relu' ))\n",
        "new_model.add(keras.layers.MaxPooling3D((2,2,1) , padding = 'same'))\n",
        "new_model.add(keras.layers.Dropout(0.25))\n",
        "new_model.add(keras.layers.Flatten())\n",
        "\n",
        "new_model.add(keras.layers.Dense(120 , activation = 'relu'))\n",
        "new_model.add(keras.layers.Dense(60 , activation = 'relu'))\n",
        "new_model.add(keras.layers.Dense(1, activation = 'linear'))\n",
        "              \n",
        "new_model.compile(optimizer = 'adam' , loss = 'mean_squared_error' , metrics = ['accuracy' ])\n"
      ],
      "execution_count": 4,
      "outputs": [
        {
          "output_type": "stream",
          "text": [
            "WARNING: Logging before flag parsing goes to stderr.\n",
            "W0620 13:57:26.349190 139714867754880 deprecation.py:506] From /usr/local/lib/python3.6/dist-packages/tensorflow/python/ops/init_ops.py:1251: calling VarianceScaling.__init__ (from tensorflow.python.ops.init_ops) with dtype is deprecated and will be removed in a future version.\n",
            "Instructions for updating:\n",
            "Call initializer instance with the dtype argument instead of passing it to the constructor\n"
          ],
          "name": "stderr"
        }
      ]
    },
    {
      "cell_type": "code",
      "metadata": {
        "id": "60sL3OAz93I4",
        "colab_type": "code",
        "colab": {
          "base_uri": "https://localhost:8080/",
          "height": 714
        },
        "outputId": "830440e7-a31f-4aa9-fcab-57f4aafcca92"
      },
      "source": [
        "history = new_model.fit(x_train , y_train, epochs = 20 , batch_size = 5000, validation_split= .25)"
      ],
      "execution_count": 6,
      "outputs": [
        {
          "output_type": "stream",
          "text": [
            "Train on 452450 samples, validate on 150817 samples\n",
            "Epoch 1/20\n",
            "452450/452450 [==============================] - 33s 72us/sample - loss: 3.6375 - acc: 0.8125 - val_loss: 1.6555 - val_acc: 0.8286\n",
            "Epoch 2/20\n",
            "452450/452450 [==============================] - 32s 70us/sample - loss: 2.1515 - acc: 0.8376 - val_loss: 1.1583 - val_acc: 0.8395\n",
            "Epoch 3/20\n",
            "452450/452450 [==============================] - 32s 72us/sample - loss: 1.5136 - acc: 0.8523 - val_loss: 0.8446 - val_acc: 0.8568\n",
            "Epoch 4/20\n",
            "452450/452450 [==============================] - 33s 73us/sample - loss: 1.1111 - acc: 0.8632 - val_loss: 0.6576 - val_acc: 0.8696\n",
            "Epoch 5/20\n",
            "452450/452450 [==============================] - 33s 74us/sample - loss: 0.8832 - acc: 0.8703 - val_loss: 0.5673 - val_acc: 0.8725\n",
            "Epoch 6/20\n",
            "452450/452450 [==============================] - 34s 74us/sample - loss: 0.7454 - acc: 0.8759 - val_loss: 0.4833 - val_acc: 0.8834\n",
            "Epoch 7/20\n",
            "452450/452450 [==============================] - 34s 75us/sample - loss: 0.6290 - acc: 0.8816 - val_loss: 0.4373 - val_acc: 0.8837\n",
            "Epoch 8/20\n",
            "452450/452450 [==============================] - 34s 75us/sample - loss: 0.5541 - acc: 0.8848 - val_loss: 0.3948 - val_acc: 0.8918\n",
            "Epoch 9/20\n",
            "452450/452450 [==============================] - 34s 76us/sample - loss: 0.4896 - acc: 0.8887 - val_loss: 0.3722 - val_acc: 0.8940\n",
            "Epoch 10/20\n",
            "452450/452450 [==============================] - 34s 76us/sample - loss: 0.4424 - acc: 0.8921 - val_loss: 0.3528 - val_acc: 0.8983\n",
            "Epoch 11/20\n",
            "452450/452450 [==============================] - 34s 75us/sample - loss: 0.4084 - acc: 0.8947 - val_loss: 0.3352 - val_acc: 0.8957\n",
            "Epoch 12/20\n",
            "452450/452450 [==============================] - 34s 75us/sample - loss: 0.3843 - acc: 0.8961 - val_loss: 0.3154 - val_acc: 0.9025\n",
            "Epoch 13/20\n",
            "452450/452450 [==============================] - 34s 75us/sample - loss: 0.3557 - acc: 0.8991 - val_loss: 0.3018 - val_acc: 0.9046\n",
            "Epoch 14/20\n",
            "452450/452450 [==============================] - 34s 75us/sample - loss: 0.3362 - acc: 0.9005 - val_loss: 0.2852 - val_acc: 0.9044\n",
            "Epoch 15/20\n",
            "452450/452450 [==============================] - 34s 75us/sample - loss: 0.3242 - acc: 0.9022 - val_loss: 0.2768 - val_acc: 0.9053\n",
            "Epoch 16/20\n",
            "452450/452450 [==============================] - 34s 75us/sample - loss: 0.3057 - acc: 0.9037 - val_loss: 0.2669 - val_acc: 0.9063\n",
            "Epoch 17/20\n",
            "452450/452450 [==============================] - 34s 75us/sample - loss: 0.2888 - acc: 0.9047 - val_loss: 0.2588 - val_acc: 0.9067\n",
            "Epoch 18/20\n",
            "452450/452450 [==============================] - 34s 75us/sample - loss: 0.2766 - acc: 0.9060 - val_loss: 0.2547 - val_acc: 0.9145\n",
            "Epoch 19/20\n",
            "452450/452450 [==============================] - 34s 75us/sample - loss: 0.2687 - acc: 0.9080 - val_loss: 0.2456 - val_acc: 0.9075\n",
            "Epoch 20/20\n",
            "452450/452450 [==============================] - 34s 75us/sample - loss: 0.2605 - acc: 0.9086 - val_loss: 0.2375 - val_acc: 0.9104\n"
          ],
          "name": "stdout"
        }
      ]
    },
    {
      "cell_type": "code",
      "metadata": {
        "id": "z96hjcuUECYJ",
        "colab_type": "code",
        "colab": {
          "base_uri": "https://localhost:8080/",
          "height": 295
        },
        "outputId": "77e3c9db-b61e-40d9-dc14-0048578fc198"
      },
      "source": [
        "import matplotlib.pyplot as plt\n",
        "fig = plt.figure()\n",
        "xlabel = 'epoch'\n",
        "ylabel = 'loss'\n",
        "plt_title = 'mean_squared_error vs epoch'\n",
        "ax = fig.add_subplot(111,xlabel = xlabel , ylabel = ylabel , title = plt_title)\n",
        "ax.plot(history.history['loss'] , label ='training')\n",
        "plt.legend()\n",
        "ax.plot(history.history['val_loss'] , label = 'validation')\n",
        "plt.legend()\n",
        "plt.show()"
      ],
      "execution_count": 9,
      "outputs": [
        {
          "output_type": "display_data",
          "data": {
            "image/png": "[encoded data removed]",
            "text/plain": [
              "<Figure size 432x288 with 1 Axes>"
            ]
          },
          "metadata": {
            "tags": []
          }
        }
      ]
    },
    {
      "cell_type": "code",
      "metadata": {
        "id": "Rgn-Ha3fQvSH",
        "colab_type": "code",
        "colab": {
          "base_uri": "https://localhost:8080/",
          "height": 295
        },
        "outputId": "460a02cb-2380-4be6-9601-5aabbf9adf7b"
      },
      "source": [
        "import matplotlib.pyplot as plt\n",
        "fig = plt.figure()\n",
        "xlabel = 'epoch'\n",
        "ylabel = 'accuracy'\n",
        "plt_title = 'accuracy vs epoch'\n",
        "ax = fig.add_subplot(111,xlabel = xlabel , ylabel = ylabel , title = plt_title)\n",
        "ax.plot(history.history['acc'] , label ='training')\n",
        "plt.legend()\n",
        "ax.plot(history.history['val_acc'] , label = 'validation')\n",
        "plt.legend()\n",
        "plt.show()"
      ],
      "execution_count": 11,
      "outputs": [
        {
          "output_type": "display_data",
          "data": {
            "image/png": "[encoded data removed]",
            "text/plain": [
              "<Figure size 432x288 with 1 Axes>"
            ]
          },
          "metadata": {
            "tags": []
          }
        }
      ]
    },
    {
      "cell_type": "code",
      "metadata": {
        "id": "KbcUfFESQ_0Q",
        "colab_type": "code",
        "colab": {
          "base_uri": "https://localhost:8080/",
          "height": 527
        },
        "outputId": "58b28c1e-4eb0-4449-a74c-80be79df96d1"
      },
      "source": [
        "new_model.summary()"
      ],
      "execution_count": 12,
      "outputs": [
        {
          "output_type": "stream",
          "text": [
            "Model: \"sequential\"\n",
            "_________________________________________________________________\n",
            "Layer (type)                 Output Shape              Param #   \n",
            "=================================================================\n",
            "conv3d (Conv3D)              (None, 8, 8, 8, 32)       320       \n",
            "_________________________________________________________________\n",
            "conv3d_1 (Conv3D)            (None, 8, 8, 8, 32)       9248      \n",
            "_________________________________________________________________\n",
            "max_pooling3d (MaxPooling3D) (None, 4, 4, 8, 32)       0         \n",
            "_________________________________________________________________\n",
            "conv3d_2 (Conv3D)            (None, 4, 4, 8, 64)       18496     \n",
            "_________________________________________________________________\n",
            "conv3d_3 (Conv3D)            (None, 4, 4, 8, 64)       36928     \n",
            "_________________________________________________________________\n",
            "max_pooling3d_1 (MaxPooling3 (None, 2, 2, 8, 64)       0         \n",
            "_________________________________________________________________\n",
            "dropout (Dropout)            (None, 2, 2, 8, 64)       0         \n",
            "_________________________________________________________________\n",
            "flatten (Flatten)            (None, 2048)              0         \n",
            "_________________________________________________________________\n",
            "dense (Dense)                (None, 120)               245880    \n",
            "_________________________________________________________________\n",
            "dense_1 (Dense)              (None, 60)                7260      \n",
            "_________________________________________________________________\n",
            "dense_2 (Dense)              (None, 1)                 61        \n",
            "=================================================================\n",
            "Total params: 318,193\n",
            "Trainable params: 318,193\n",
            "Non-trainable params: 0\n",
            "_________________________________________________________________\n"
          ],
          "name": "stdout"
        }
      ]
    }
  ]
}