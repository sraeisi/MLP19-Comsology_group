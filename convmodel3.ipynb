{
  "nbformat": 4,
  "nbformat_minor": 0,
  "metadata": {
    "colab": {
      "name": "Untitled34.ipynb",
      "version": "0.3.2",
      "provenance": []
    },
    "kernelspec": {
      "name": "python3",
      "display_name": "Python 3"
    },
    "accelerator": "GPU"
  },
  "cells": [
    {
      "cell_type": "code",
      "metadata": {
        "id": "VjhixCWrbaE0",
        "colab_type": "code",
        "colab": {
          "base_uri": "https://localhost:8080/",
          "height": 122
        },
        "outputId": "4ff712e9-ca3b-461e-9c48-9916d05ae890"
      },
      "source": [
        "from google.colab import drive\n",
        "drive.mount('/content/gdrive')"
      ],
      "execution_count": 2,
      "outputs": [
        {
          "output_type": "stream",
          "text": [
            "Go to this URL in a browser: https://accounts.google.com/o/oauth2/auth?client_id=947318989803-6bn6qk8qdgf4n4g3pfee6491hc0brc4i.apps.googleusercontent.com&redirect_uri=urn%3Aietf%3Awg%3Aoauth%3A2.0%3Aoob&scope=email%20https%3A%2F%2Fwww.googleapis.com%2Fauth%2Fdocs.test%20https%3A%2F%2Fwww.googleapis.com%2Fauth%2Fdrive%20https%3A%2F%2Fwww.googleapis.com%2Fauth%2Fdrive.photos.readonly%20https%3A%2F%2Fwww.googleapis.com%2Fauth%2Fpeopleapi.readonly&response_type=code\n",
            "\n",
            "Enter your authorization code:\n",
            "··········\n",
            "Mounted at /content/gdrive\n"
          ],
          "name": "stdout"
        }
      ]
    },
    {
      "cell_type": "code",
      "metadata": {
        "id": "JUrK7Blkb4Ev",
        "colab_type": "code",
        "colab": {}
      },
      "source": [
        "import h5py\n",
        "url = '/content/gdrive/My Drive/ml project/Untitled folder/dataml.h5'\n",
        "a = h5py.File(url,'r')\n",
        "x_train = a['x_train']\n",
        "y_train = a['Y_train']\n",
        "x_test = a['x_test']\n",
        "y_test = a['y_test']"
      ],
      "execution_count": 0,
      "outputs": []
    },
    {
      "cell_type": "code",
      "metadata": {
        "id": "m0juKGQdcEyC",
        "colab_type": "code",
        "colab": {}
      },
      "source": [
        "import numpy as np\n",
        "x_train=np.array(x_train)\n",
        "x_test = np.array(x_test)\n",
        "y_train = np.array(y_train)\n",
        "y_test = np.array(y_test)\n",
        "x_train = x_train.reshape(-1,8,8,8,1)\n",
        "x_test = x_test.reshape(-1,8,8,8,1)\n"
      ],
      "execution_count": 0,
      "outputs": []
    },
    {
      "cell_type": "code",
      "metadata": {
        "id": "JHDSNLzecoDG",
        "colab_type": "code",
        "colab": {
          "base_uri": "https://localhost:8080/",
          "height": 258
        },
        "outputId": "5a4c1c20-0aef-4285-8551-5a4c23cc4c3b"
      },
      "source": [
        "import keras\n",
        "from keras.models import Sequential \n",
        "from keras.layers import Dense , Activation , Dropout , Flatten , Conv3D , MaxPooling3D\n",
        "from keras.layers.normalization import BatchNormalization\n",
        "\n",
        "model = Sequential()\n",
        "model.add(Conv3D(16,(1,1,1) , activation = 'relu' , padding = 'same' , input_shape = (8,8,8,1)))\n",
        "model.add(Conv3D(32,(1,1,1) , activation = 'relu',  padding = 'same'))   \n",
        "model.add(Conv3D(32,(1,1,1) , activation = 'relu',  padding = 'same'))\n",
        "model.add(MaxPooling3D((2,2,2) ,  padding = 'same'))\n",
        "model.add(Conv3D(32,(1,1,1) , activation = 'relu',  padding = 'same'))\n",
        "model.add(Dropout(0.5))\n",
        "model.add(Flatten())\n",
        "model.add(Dense(120,activation = 'relu'))\n",
        "\n",
        "model.add(Dense(60,activation = 'relu')) \n",
        "   \n",
        "model.add(Dense(1,activation = 'linear'))"
      ],
      "execution_count": 5,
      "outputs": [
        {
          "output_type": "stream",
          "text": [
            "Using TensorFlow backend.\n",
            "WARNING: Logging before flag parsing goes to stderr.\n",
            "W0623 08:36:49.936804 140672868419456 deprecation_wrapper.py:119] From /usr/local/lib/python3.6/dist-packages/keras/backend/tensorflow_backend.py:74: The name tf.get_default_graph is deprecated. Please use tf.compat.v1.get_default_graph instead.\n",
            "\n",
            "W0623 08:36:49.965179 140672868419456 deprecation_wrapper.py:119] From /usr/local/lib/python3.6/dist-packages/keras/backend/tensorflow_backend.py:517: The name tf.placeholder is deprecated. Please use tf.compat.v1.placeholder instead.\n",
            "\n",
            "W0623 08:36:49.975168 140672868419456 deprecation_wrapper.py:119] From /usr/local/lib/python3.6/dist-packages/keras/backend/tensorflow_backend.py:4138: The name tf.random_uniform is deprecated. Please use tf.random.uniform instead.\n",
            "\n",
            "W0623 08:36:50.030409 140672868419456 deprecation_wrapper.py:119] From /usr/local/lib/python3.6/dist-packages/keras/backend/tensorflow_backend.py:133: The name tf.placeholder_with_default is deprecated. Please use tf.compat.v1.placeholder_with_default instead.\n",
            "\n",
            "W0623 08:36:50.039874 140672868419456 deprecation.py:506] From /usr/local/lib/python3.6/dist-packages/keras/backend/tensorflow_backend.py:3445: calling dropout (from tensorflow.python.ops.nn_ops) with keep_prob is deprecated and will be removed in a future version.\n",
            "Instructions for updating:\n",
            "Please use `rate` instead of `keep_prob`. Rate should be set to `rate = 1 - keep_prob`.\n"
          ],
          "name": "stderr"
        }
      ]
    },
    {
      "cell_type": "code",
      "metadata": {
        "id": "jJGvA2obd8vx",
        "colab_type": "code",
        "colab": {
          "base_uri": "https://localhost:8080/",
          "height": 71
        },
        "outputId": "4e10e863-2b85-4f53-d187-a63a68427993"
      },
      "source": [
        "model.compile(optimizer = 'adam' , loss = 'mean_squared_error' , metrics = ['accuracy' ])\n"
      ],
      "execution_count": 6,
      "outputs": [
        {
          "output_type": "stream",
          "text": [
            "W0623 08:37:15.961640 140672868419456 deprecation_wrapper.py:119] From /usr/local/lib/python3.6/dist-packages/keras/optimizers.py:790: The name tf.train.Optimizer is deprecated. Please use tf.compat.v1.train.Optimizer instead.\n",
            "\n"
          ],
          "name": "stderr"
        }
      ]
    },
    {
      "cell_type": "code",
      "metadata": {
        "id": "jFle2yZPd_b1",
        "colab_type": "code",
        "colab": {
          "base_uri": "https://localhost:8080/",
          "height": 476
        },
        "outputId": "5ff4c849-f9c5-4b62-a746-135ac410f0fd"
      },
      "source": [
        "model.summary()"
      ],
      "execution_count": 7,
      "outputs": [
        {
          "output_type": "stream",
          "text": [
            "_________________________________________________________________\n",
            "Layer (type)                 Output Shape              Param #   \n",
            "=================================================================\n",
            "conv3d_1 (Conv3D)            (None, 8, 8, 8, 16)       32        \n",
            "_________________________________________________________________\n",
            "conv3d_2 (Conv3D)            (None, 8, 8, 8, 32)       544       \n",
            "_________________________________________________________________\n",
            "conv3d_3 (Conv3D)            (None, 8, 8, 8, 32)       1056      \n",
            "_________________________________________________________________\n",
            "max_pooling3d_1 (MaxPooling3 (None, 4, 4, 4, 32)       0         \n",
            "_________________________________________________________________\n",
            "conv3d_4 (Conv3D)            (None, 4, 4, 4, 32)       1056      \n",
            "_________________________________________________________________\n",
            "dropout_1 (Dropout)          (None, 4, 4, 4, 32)       0         \n",
            "_________________________________________________________________\n",
            "flatten_1 (Flatten)          (None, 2048)              0         \n",
            "_________________________________________________________________\n",
            "dense_1 (Dense)              (None, 120)               245880    \n",
            "_________________________________________________________________\n",
            "dense_2 (Dense)              (None, 60)                7260      \n",
            "_________________________________________________________________\n",
            "dense_3 (Dense)              (None, 1)                 61        \n",
            "=================================================================\n",
            "Total params: 255,889\n",
            "Trainable params: 255,889\n",
            "Non-trainable params: 0\n",
            "_________________________________________________________________\n"
          ],
          "name": "stdout"
        }
      ]
    },
    {
      "cell_type": "code",
      "metadata": {
        "id": "NBhQwLELeFFE",
        "colab_type": "code",
        "colab": {
          "base_uri": "https://localhost:8080/",
          "height": 714
        },
        "outputId": "f695d0e0-1873-4570-f8fb-c19c335fb7d1"
      },
      "source": [
        "history =model.fit(x_train , y_train, epochs = 20 , batch_size = 5000, validation_data=(x_test,y_test))"
      ],
      "execution_count": 9,
      "outputs": [
        {
          "output_type": "stream",
          "text": [
            "Train on 603267 samples, validate on 201090 samples\n",
            "Epoch 1/20\n",
            "603267/603267 [==============================] - 16s 27us/step - loss: 4.4607 - acc: 0.7158 - val_loss: 1.0058 - val_acc: 0.8184\n",
            "Epoch 2/20\n",
            "603267/603267 [==============================] - 16s 27us/step - loss: 1.5826 - acc: 0.8012 - val_loss: 0.5391 - val_acc: 0.8720\n",
            "Epoch 3/20\n",
            "603267/603267 [==============================] - 16s 27us/step - loss: 0.6923 - acc: 0.8623 - val_loss: 0.4097 - val_acc: 0.9049\n",
            "Epoch 4/20\n",
            "603267/603267 [==============================] - 16s 27us/step - loss: 0.4366 - acc: 0.8992 - val_loss: 0.3825 - val_acc: 0.9201\n",
            "Epoch 5/20\n",
            "603267/603267 [==============================] - 16s 27us/step - loss: 0.3757 - acc: 0.9169 - val_loss: 0.3777 - val_acc: 0.9250\n",
            "Epoch 6/20\n",
            "603267/603267 [==============================] - 16s 27us/step - loss: 0.3633 - acc: 0.9223 - val_loss: 0.3769 - val_acc: 0.9258\n",
            "Epoch 7/20\n",
            "603267/603267 [==============================] - 16s 27us/step - loss: 0.3600 - acc: 0.9240 - val_loss: 0.3747 - val_acc: 0.9263\n",
            "Epoch 8/20\n",
            "603267/603267 [==============================] - 16s 27us/step - loss: 0.3573 - acc: 0.9242 - val_loss: 0.3734 - val_acc: 0.9260\n",
            "Epoch 9/20\n",
            "603267/603267 [==============================] - 16s 27us/step - loss: 0.3569 - acc: 0.9239 - val_loss: 0.3739 - val_acc: 0.9265\n",
            "Epoch 10/20\n",
            "603267/603267 [==============================] - 16s 27us/step - loss: 0.3552 - acc: 0.9242 - val_loss: 0.3711 - val_acc: 0.9263\n",
            "Epoch 11/20\n",
            "603267/603267 [==============================] - 16s 27us/step - loss: 0.3551 - acc: 0.9242 - val_loss: 0.3712 - val_acc: 0.9263\n",
            "Epoch 12/20\n",
            "603267/603267 [==============================] - 16s 27us/step - loss: 0.3543 - acc: 0.9245 - val_loss: 0.3693 - val_acc: 0.9262\n",
            "Epoch 13/20\n",
            "603267/603267 [==============================] - 16s 27us/step - loss: 0.3520 - acc: 0.9238 - val_loss: 0.3650 - val_acc: 0.9256\n",
            "Epoch 14/20\n",
            "603267/603267 [==============================] - 16s 27us/step - loss: 0.3506 - acc: 0.9234 - val_loss: 0.3628 - val_acc: 0.9258\n",
            "Epoch 15/20\n",
            "603267/603267 [==============================] - 16s 27us/step - loss: 0.3480 - acc: 0.9234 - val_loss: 0.3581 - val_acc: 0.9248\n",
            "Epoch 16/20\n",
            "603267/603267 [==============================] - 16s 27us/step - loss: 0.3449 - acc: 0.9229 - val_loss: 0.3556 - val_acc: 0.9259\n",
            "Epoch 17/20\n",
            "603267/603267 [==============================] - 16s 27us/step - loss: 0.3381 - acc: 0.9210 - val_loss: 0.3428 - val_acc: 0.9242\n",
            "Epoch 18/20\n",
            "603267/603267 [==============================] - 16s 27us/step - loss: 0.3249 - acc: 0.9127 - val_loss: 0.3215 - val_acc: 0.9207\n",
            "Epoch 19/20\n",
            "603267/603267 [==============================] - 16s 27us/step - loss: 0.3081 - acc: 0.9063 - val_loss: 0.3001 - val_acc: 0.9200\n",
            "Epoch 20/20\n",
            "603267/603267 [==============================] - 16s 27us/step - loss: 0.2980 - acc: 0.9073 - val_loss: 0.2925 - val_acc: 0.9207\n"
          ],
          "name": "stdout"
        }
      ]
    },
    {
      "cell_type": "code",
      "metadata": {
        "id": "-ILQMSM3gBpU",
        "colab_type": "code",
        "colab": {
          "base_uri": "https://localhost:8080/",
          "height": 295
        },
        "outputId": "ccb68df8-8daa-4f2d-f9eb-c4605001ac9e"
      },
      "source": [
        "import matplotlib.pyplot as plt\n",
        "fig = plt.figure()\n",
        "xlabel = 'epoch'\n",
        "ylabel = 'loss'\n",
        "plt_title = 'mean_squared_error vs number of epochs'\n",
        "ax = fig.add_subplot(111,xlabel = xlabel , ylabel = ylabel , title = plt_title)\n",
        "ax.plot(history.history['loss'], label = 'training')\n",
        "ax.plot(history.history['val_loss'], label = 'validation')\n",
        "plt.legend()\n",
        "\n",
        "plt.show()"
      ],
      "execution_count": 10,
      "outputs": [
        {
          "output_type": "display_data",
          "data": {
            "image/png": "[encoded data removed]",
            "text/plain": [
              "<Figure size 432x288 with 1 Axes>"
            ]
          },
          "metadata": {
            "tags": []
          }
        }
      ]
    },
    {
      "cell_type": "code",
      "metadata": {
        "id": "59qv-oArgJUv",
        "colab_type": "code",
        "colab": {
          "base_uri": "https://localhost:8080/",
          "height": 295
        },
        "outputId": "ec4a5f89-20cb-4452-b888-4bfdc144f966"
      },
      "source": [
        "import matplotlib.pyplot as plt\n",
        "fig = plt.figure()\n",
        "xlabel = 'epoch'\n",
        "ylabel = 'accuracy'\n",
        "plt_title = 'accuracy vs number of epochs'\n",
        "ax = fig.add_subplot(111,xlabel = xlabel , ylabel = ylabel , title = plt_title)\n",
        "ax.plot(history.history['acc'], label = 'training')\n",
        "ax.plot(history.history['val_acc'], label = 'validation')\n",
        "plt.legend()\n",
        "\n",
        "plt.show()"
      ],
      "execution_count": 11,
      "outputs": [
        {
          "output_type": "display_data",
          "data": {
            "image/png": "[encoded data removed]",
            "text/plain": [
              "<Figure size 432x288 with 1 Axes>"
            ]
          },
          "metadata": {
            "tags": []
          }
        }
      ]
    }
  ]
}